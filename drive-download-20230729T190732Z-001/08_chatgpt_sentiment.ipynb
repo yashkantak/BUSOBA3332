{
 "cells": [
  {
   "cell_type": "markdown",
   "id": "9d7a39a8-6cde-428f-bbef-de7c3f310ead",
   "metadata": {},
   "source": [
    "# ChatGPT for Sentiment"
   ]
  },
  {
   "cell_type": "markdown",
   "id": "bfeda8e1-ff01-412d-89bf-750bd72d8a44",
   "metadata": {},
   "source": [
    "## Load Libraries and Data"
   ]
  },
  {
   "cell_type": "code",
   "execution_count": 1,
   "id": "36c6d1bc-b0d1-4543-96c9-0dff306a5933",
   "metadata": {},
   "outputs": [],
   "source": [
    "# Installing OpenAI on Colab:\n",
    "# !pip install openai\n",
    "\n",
    "# Installing OpenAI locally:\n",
    "# pip install openai\n",
    "# conda install openai\n",
    "\n",
    "import os\n",
    "import io\n",
    "import requests\n",
    "import re\n",
    "import numpy as np\n",
    "import openai\n",
    "from sklearn.metrics import accuracy_score\n",
    "\n",
    "# Note: see instructions for OpenAI setup at\n",
    "# https://github.com/openai/openai-python\n",
    "openai.api_key = os.getenv('OPENAI_API_KEY')"
   ]
  },
  {
   "cell_type": "markdown",
   "id": "eeb05a9f-2144-443a-8351-fe741e25e570",
   "metadata": {},
   "source": [
    "### Data Source\n",
    "\n",
    "IMDB movie reviews via: http://ai.stanford.edu/~amaas/data/sentiment/"
   ]
  },
  {
   "cell_type": "code",
   "execution_count": 2,
   "id": "61e29e6f-2065-41d7-b7de-a6614eb4b131",
   "metadata": {},
   "outputs": [],
   "source": [
    "train_url = 'https://raw.githubusercontent.com/natecraig/aiml/main/Data/movie_train.txt'\n",
    "test_url = 'https://raw.githubusercontent.com/natecraig/aiml/main/Data/movie_test.txt'\n",
    "\n",
    "train_download = requests.get(train_url).content\n",
    "test_download = requests.get(test_url).content\n",
    "\n",
    "# The first 12,500 reviews are positive,\n",
    "# and the second 12,500 reviews are negative\n",
    "    \n",
    "X_test_raw = []\n",
    "for l in io.StringIO(test_download.decode('utf-8')):\n",
    "    X_test_raw.append(l.strip())\n",
    "    \n",
    "categories = ['Negative', 'Positive']\n",
    "y_test = [1 if i < 12500 else 0 for i in range(25000)]"
   ]
  },
  {
   "cell_type": "code",
   "execution_count": 3,
   "id": "39ed18ab-9a49-4566-9821-a86dc67eb97c",
   "metadata": {},
   "outputs": [],
   "source": [
    "# Drop HTML line breaks\n",
    "regex = re.compile(\"(<br\\s*/><br\\s*/>)|(\\-)|(\\/)\")\n",
    "X_test = [regex.sub(' ', x) for x in X_test_raw]"
   ]
  },
  {
   "cell_type": "code",
   "execution_count": 4,
   "id": "ccb2ab90-fce6-481e-9057-0b858c8593e1",
   "metadata": {},
   "outputs": [
    {
     "name": "stdout",
     "output_type": "stream",
     "text": [
      "This is halfway to being a top movie. The opening section, which spoofs Hollywood \"social message\" films is absolutely brilliant. It is a riot from start to finish. The second section, which introduces us to the main characters of the story is really great too. We get a lot of great comic setups, top notch performances, and the dialog is really dynamic. (Spoiler warning!) The one think that really annoyed me about this film though is the ending, which I think contradicts everything that went before. My interpretation was that this film was taking the mickey out all the silly prejudices and innuendo of small town gossip and national tabloid sensationalism. I loved that the film was championing the cause that a person's sexuality is NOT determined by their hobbies, idiosyncrasies, fashion sense or whatever. And then the ending goes and re enforces all the gossip and stereotypes that the movie successfully lampooned in the first place. It turns out everyone was 100% right!!! (godamit!) This was very disappointing to what was actually a great story.\n"
     ]
    }
   ],
   "source": [
    "print(X_test[1000])"
   ]
  },
  {
   "cell_type": "code",
   "execution_count": 5,
   "id": "93689595-e6f6-4698-86a4-98f525fdaab0",
   "metadata": {},
   "outputs": [
    {
     "name": "stdout",
     "output_type": "stream",
     "text": [
      "1\n"
     ]
    }
   ],
   "source": [
    "print(y_test[1000])"
   ]
  },
  {
   "cell_type": "markdown",
   "id": "db065573-0fa0-4bcf-a6d3-09810f21fe13",
   "metadata": {},
   "source": [
    "## Assess Sentiment Using ChatGPT"
   ]
  },
  {
   "cell_type": "code",
   "execution_count": 6,
   "id": "a35fd442-c1fd-4f6d-a135-c7e2e033287e",
   "metadata": {},
   "outputs": [],
   "source": [
    "# Randomly sample the testing data\n",
    "ntest = 50\n",
    "randidx = np.random.choice(len(X_test), ntest, replace=False)\n",
    "X_test_sub = [X_test[i] for i in randidx]\n",
    "y_test_sub = [y_test[i] for i in randidx]"
   ]
  },
  {
   "cell_type": "code",
   "execution_count": 7,
   "id": "0b76561d-57e8-4701-ac91-9d402584511b",
   "metadata": {},
   "outputs": [],
   "source": [
    "# Inference using ChatGPT\n",
    "prompt_pre = (\"Decide whether a movie review's sentiment is positive or negative.\\n\"\n",
    "              'Statement: ')\n",
    "prompt_post = '\\nSentiment:'\n",
    "\n",
    "y_pred = [0]*ntest\n",
    "\n",
    "for i in range(ntest):\n",
    "    prompt = prompt_pre + X_test_sub[i] + prompt_post\n",
    "    messages=[{\n",
    "        'role': 'assistant',\n",
    "        'content': prompt\n",
    "    }]\n",
    "    \n",
    "    completion = openai.ChatCompletion.create(model='gpt-3.5-turbo', \n",
    "                                              messages=messages)\n",
    "    \n",
    "    sentiment = completion['choices'][0]['message']['content']\n",
    "    y_pred[i] = 1 if sentiment == 'Positive' else 0\n",
    "    "
   ]
  },
  {
   "cell_type": "code",
   "execution_count": 8,
   "id": "752dc53e-e0ee-4739-97be-0fb7be336af0",
   "metadata": {},
   "outputs": [
    {
     "data": {
      "text/plain": [
       "0.92"
      ]
     },
     "execution_count": 8,
     "metadata": {},
     "output_type": "execute_result"
    }
   ],
   "source": [
    "accuracy_score(y_test_sub, y_pred)"
   ]
  }
 ],
 "metadata": {
  "kernelspec": {
   "display_name": "Python 3 (ipykernel)",
   "language": "python",
   "name": "python3"
  },
  "language_info": {
   "codemirror_mode": {
    "name": "ipython",
    "version": 3
   },
   "file_extension": ".py",
   "mimetype": "text/x-python",
   "name": "python",
   "nbconvert_exporter": "python",
   "pygments_lexer": "ipython3",
   "version": "3.10.10"
  }
 },
 "nbformat": 4,
 "nbformat_minor": 5
}
