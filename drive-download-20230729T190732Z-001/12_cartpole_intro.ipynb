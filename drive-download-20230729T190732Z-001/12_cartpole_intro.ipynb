{
 "cells": [
  {
   "cell_type": "markdown",
   "id": "8114a116-c458-4d7c-b19d-ec4fd00e7b3f",
   "metadata": {},
   "source": [
    "# CartPole Introduction"
   ]
  },
  {
   "cell_type": "code",
   "execution_count": 1,
   "id": "1ff57d8d-7b91-45d8-aaf6-72f997768bc6",
   "metadata": {},
   "outputs": [],
   "source": [
    "import sys\n",
    "\n",
    "# Colab setup\n",
    "if 'google.colab' in sys.modules:\n",
    "    %pip install -q -U gymnasium\n",
    "    %pip install -q -U gymnasium[classic_control,box2d,atari,accept-rom-license]\n",
    "    \n",
    "from pathlib import Path\n",
    "import numpy as np\n",
    "import sklearn\n",
    "import tensorflow as tf\n",
    "from tensorflow import keras\n",
    "import gymnasium as gym\n",
    "import matplotlib as mpl\n",
    "import matplotlib.pyplot as plt\n",
    "import matplotlib.animation as animation\n",
    "import seaborn as sns\n",
    "\n",
    "# Make notebook output stable across runs\n",
    "random_state = 1000\n",
    "np.random.seed(random_state)\n",
    "tf.random.set_seed(random_state)\n",
    "\n",
    "# Plot settings\n",
    "%matplotlib inline\n",
    "sns.set()\n",
    "mpl.rc('font', size=14)\n",
    "mpl.rc('axes', labelsize=14, titlesize=14)\n",
    "mpl.rc('legend', fontsize=14)\n",
    "mpl.rc('xtick', labelsize=10)\n",
    "mpl.rc('ytick', labelsize=10)\n",
    "mpl.rc('animation', html='jshtml')"
   ]
  },
  {
   "cell_type": "code",
   "execution_count": 2,
   "id": "b3452a3f-1457-4ffc-845f-6c7e7099ae88",
   "metadata": {},
   "outputs": [],
   "source": [
    "# Utility functions\n",
    "\n",
    "def print_cart(obs, reward):\n",
    "    print(f'Last reward: {reward: .1f}')\n",
    "    print((f'Cart horizontal position: {obs[0]: .3f}\\t'\n",
    "           f'Cart velocity:         {obs[1]: .3f}\\n'\n",
    "           f'Pole angle:               {obs[2]: .3f}\\t'\n",
    "           f'Pole angular velocity: {obs[3]: .3f}\\n'))\n",
    "\n",
    "\n",
    "def plot_environment(env, figsize=(5, 4)):\n",
    "    plt.figure(figsize=figsize)\n",
    "    img = env.render()\n",
    "    plt.imshow(img)\n",
    "    plt.axis(\"off\")\n",
    "    return img"
   ]
  },
  {
   "cell_type": "markdown",
   "id": "52710e5f-f289-41cf-a50c-1256120f2014",
   "metadata": {},
   "source": [
    "## CartPole: Step by Step"
   ]
  },
  {
   "cell_type": "markdown",
   "id": "aba66164-6205-496f-b177-711e8ad5d162",
   "metadata": {},
   "source": [
    "At each step, we observe the state of the system:\n",
    "\n",
    "- The cart's horizontal position\n",
    "- The cart's velocity\n",
    "- The angle of the pole in radians (where vertical is 0)\n",
    "- The pole's angular velocity"
   ]
  },
  {
   "cell_type": "code",
   "execution_count": 3,
   "id": "da899dcb-a34a-43f1-b274-b1a83e39477b",
   "metadata": {},
   "outputs": [
    {
     "data": {
      "text/plain": [
       "array([ 0.00213857,  0.01038418, -0.00290582, -0.02967521], dtype=float32)"
      ]
     },
     "execution_count": 3,
     "metadata": {},
     "output_type": "execute_result"
    }
   ],
   "source": [
    "env = gym.make('CartPole-v1', render_mode='rgb_array')\n",
    "obs, info = env.reset(seed=random_state)\n",
    "obs"
   ]
  },
  {
   "cell_type": "code",
   "execution_count": 4,
   "id": "99964977-7603-4165-8e7d-61d6920c9a70",
   "metadata": {},
   "outputs": [
    {
     "name": "stdout",
     "output_type": "stream",
     "text": [
      "Last reward:  0.0\n",
      "Cart horizontal position:  0.002\tCart velocity:          0.010\n",
      "Pole angle:               -0.003\tPole angular velocity: -0.030\n",
      "\n"
     ]
    }
   ],
   "source": [
    "print_cart(obs, 0)"
   ]
  },
  {
   "cell_type": "code",
   "execution_count": 5,
   "id": "39b2284d-aa9a-4089-b1f2-01c74de4beaf",
   "metadata": {},
   "outputs": [
    {
     "data": {
      "image/png": "[encoded data removed]",
      "text/plain": [
       "<Figure size 500x400 with 1 Axes>"
      ]
     },
     "metadata": {},
     "output_type": "display_data"
    }
   ],
   "source": [
    "# Visualize the cart\n",
    "plot_environment(env)\n",
    "plt.show()"
   ]
  },
  {
   "cell_type": "code",
   "execution_count": 6,
   "id": "7a7015f0-7f05-4819-aac3-2a7f910a5ca3",
   "metadata": {},
   "outputs": [
    {
     "data": {
      "text/plain": [
       "Discrete(2)"
      ]
     },
     "execution_count": 6,
     "metadata": {},
     "output_type": "execute_result"
    }
   ],
   "source": [
    "# There are two possible actions\n",
    "# Action 0 is \"push cart to the left\"\n",
    "# Action 1 is \"push cart to the right\"\n",
    "env.action_space"
   ]
  },
  {
   "cell_type": "markdown",
   "id": "85d0e96b-1ffc-4da2-9a3e-69c86589e628",
   "metadata": {},
   "source": [
    "Take an action, and view the:\n",
    "\n",
    "- State\n",
    "- Reward\n",
    "- Whether the environment has terminated (done or truncated)\n",
    "- Debugging information"
   ]
  },
  {
   "cell_type": "code",
   "execution_count": 7,
   "id": "f596f4d5-eb4f-4896-9cb2-e75d1cade716",
   "metadata": {},
   "outputs": [
    {
     "name": "stdout",
     "output_type": "stream",
     "text": [
      "Last reward:  1.0\n",
      "Cart horizontal position:  0.002\tCart velocity:          0.206\n",
      "Pole angle:               -0.003\tPole angular velocity: -0.323\n",
      "\n"
     ]
    }
   ],
   "source": [
    "# Push to the right\n",
    "action = 1\n",
    "obs, reward, done, truncated, info = env.step(action)\n",
    "print_cart(obs, reward)"
   ]
  },
  {
   "cell_type": "code",
   "execution_count": 8,
   "id": "7758eca2-0555-4b0f-bb97-9076cd5ba78a",
   "metadata": {},
   "outputs": [
    {
     "data": {
      "image/png": "[encoded data removed]",
      "text/plain": [
       "<Figure size 500x400 with 1 Axes>"
      ]
     },
     "metadata": {},
     "output_type": "display_data"
    }
   ],
   "source": [
    "# Visualize the cart\n",
    "plot_environment(env)\n",
    "plt.show()"
   ]
  },
  {
   "cell_type": "code",
   "execution_count": 9,
   "id": "af7fc242-bcb9-42d7-a346-8133652c9c2d",
   "metadata": {},
   "outputs": [
    {
     "name": "stdout",
     "output_type": "stream",
     "text": [
      "Last reward:  1.0\n",
      "Cart horizontal position:  0.086\tCart velocity:          1.379\n",
      "Pole angle:               -0.132\tPole angular velocity: -2.150\n",
      "\n"
     ]
    },
    {
     "data": {
      "image/png": "[encoded data removed]",
      "text/plain": [
       "<Figure size 500x400 with 1 Axes>"
      ]
     },
     "metadata": {},
     "output_type": "display_data"
    }
   ],
   "source": [
    "# Push to the right again, this time for six steps\n",
    "action = 1\n",
    "for _ in range(6):\n",
    "    obs, reward, done, truncated, info = env.step(action)\n",
    "    \n",
    "print_cart(obs, reward)\n",
    "\n",
    "# Visualize the cart\n",
    "plot_environment(env)\n",
    "plt.show()"
   ]
  },
  {
   "cell_type": "code",
   "execution_count": 10,
   "id": "f7fbea4b-511d-48c1-853a-da956b7a3a58",
   "metadata": {},
   "outputs": [
    {
     "data": {
      "text/plain": [
       "False"
      ]
     },
     "execution_count": 10,
     "metadata": {},
     "output_type": "execute_result"
    }
   ],
   "source": [
    "# Is the environment done?\n",
    "done"
   ]
  },
  {
   "cell_type": "code",
   "execution_count": 11,
   "id": "7afa3331-c5d5-4048-b00a-7805e40448ee",
   "metadata": {},
   "outputs": [
    {
     "data": {
      "text/plain": [
       "False"
      ]
     },
     "execution_count": 11,
     "metadata": {},
     "output_type": "execute_result"
    }
   ],
   "source": [
    "# Is the environment truncated, or stopped \"early\"?\n",
    "truncated"
   ]
  },
  {
   "cell_type": "code",
   "execution_count": 12,
   "id": "2f2788e4-857a-4b03-85b8-8b5ede508962",
   "metadata": {},
   "outputs": [
    {
     "name": "stdout",
     "output_type": "stream",
     "text": [
      "Last reward:  1.0\n",
      "Cart horizontal position:  0.113\tCart velocity:          1.575\n",
      "Pole angle:               -0.175\tPole angular velocity: -2.481\n",
      "\n"
     ]
    },
    {
     "data": {
      "image/png": "[encoded data removed]",
      "text/plain": [
       "<Figure size 500x400 with 1 Axes>"
      ]
     },
     "metadata": {},
     "output_type": "display_data"
    }
   ],
   "source": [
    "# Push to the right and visualize\n",
    "action = 1\n",
    "obs, reward, done, truncated, info = env.step(action)\n",
    "print_cart(obs, reward)\n",
    "\n",
    "plot_environment(env)\n",
    "plt.show()"
   ]
  },
  {
   "cell_type": "code",
   "execution_count": 13,
   "id": "8fd22e14-cd43-4b3d-ac2c-fc4c7a864967",
   "metadata": {},
   "outputs": [
    {
     "data": {
      "text/plain": [
       "False"
      ]
     },
     "execution_count": 13,
     "metadata": {},
     "output_type": "execute_result"
    }
   ],
   "source": [
    "# Is the environment done?\n",
    "done"
   ]
  },
  {
   "cell_type": "code",
   "execution_count": 14,
   "id": "5f616ebf-7144-4342-b5cf-2babfa379e54",
   "metadata": {},
   "outputs": [
    {
     "name": "stdout",
     "output_type": "stream",
     "text": [
      "Last reward:  1.0\n",
      "Cart horizontal position:  0.145\tCart velocity:          1.771\n",
      "Pole angle:               -0.224\tPole angular velocity: -2.822\n",
      "\n"
     ]
    },
    {
     "data": {
      "image/png": "[encoded data removed]",
      "text/plain": [
       "<Figure size 500x400 with 1 Axes>"
      ]
     },
     "metadata": {},
     "output_type": "display_data"
    }
   ],
   "source": [
    "# Push to the right and visualize\n",
    "action = 1\n",
    "obs, reward, done, truncated, info = env.step(action)\n",
    "print_cart(obs, reward)\n",
    "\n",
    "plot_environment(env)\n",
    "plt.show()"
   ]
  },
  {
   "cell_type": "code",
   "execution_count": 15,
   "id": "e55cef10-6282-49fa-9511-a66e371556cb",
   "metadata": {},
   "outputs": [
    {
     "data": {
      "text/plain": [
       "True"
      ]
     },
     "execution_count": 15,
     "metadata": {},
     "output_type": "execute_result"
    }
   ],
   "source": [
    "# Is the environment done?\n",
    "done"
   ]
  },
  {
   "cell_type": "markdown",
   "id": "c7bd7aef-ed43-4285-a9e9-59737242a9f7",
   "metadata": {},
   "source": [
    "## CartPole: Interactive Loop"
   ]
  },
  {
   "cell_type": "code",
   "execution_count": 16,
   "id": "a55d8f30-b1c7-4680-b4d0-73539880cbbb",
   "metadata": {},
   "outputs": [
    {
     "name": "stdout",
     "output_type": "stream",
     "text": [
      "Step: 1\n"
     ]
    },
    {
     "name": "stdin",
     "output_type": "stream",
     "text": [
      "Action: 0\n"
     ]
    },
    {
     "data": {
      "image/png": "[encoded data removed]",
      "text/plain": [
       "<Figure size 500x400 with 1 Axes>"
      ]
     },
     "metadata": {},
     "output_type": "display_data"
    },
    {
     "name": "stdout",
     "output_type": "stream",
     "text": [
      "Last reward:  1.0\n",
      "Cart horizontal position:  0.002\tCart velocity:         -0.185\n",
      "Pole angle:               -0.003\tPole angular velocity:  0.262\n",
      "\n",
      "Step: 2\n"
     ]
    },
    {
     "name": "stdin",
     "output_type": "stream",
     "text": [
      "Action: 0\n"
     ]
    },
    {
     "data": {
      "image/png": "[encoded data removed]",
      "text/plain": [
       "<Figure size 500x400 with 1 Axes>"
      ]
     },
     "metadata": {},
     "output_type": "display_data"
    },
    {
     "name": "stdout",
     "output_type": "stream",
     "text": [
      "Last reward:  1.0\n",
      "Cart horizontal position: -0.001\tCart velocity:         -0.380\n",
      "Pole angle:                0.002\tPole angular velocity:  0.554\n",
      "\n",
      "Step: 3\n"
     ]
    },
    {
     "name": "stdin",
     "output_type": "stream",
     "text": [
      "Action: 0\n"
     ]
    },
    {
     "data": {
      "image/png": "[encoded data removed]",
      "text/plain": [
       "<Figure size 500x400 with 1 Axes>"
      ]
     },
     "metadata": {},
     "output_type": "display_data"
    },
    {
     "name": "stdout",
     "output_type": "stream",
     "text": [
      "Last reward:  1.0\n",
      "Cart horizontal position: -0.009\tCart velocity:         -0.575\n",
      "Pole angle:                0.013\tPole angular velocity:  0.847\n",
      "\n",
      "Step: 4\n"
     ]
    },
    {
     "name": "stdin",
     "output_type": "stream",
     "text": [
      "Action: 0\n"
     ]
    },
    {
     "data": {
      "image/png": "[encoded data removed]",
      "text/plain": [
       "<Figure size 500x400 with 1 Axes>"
      ]
     },
     "metadata": {},
     "output_type": "display_data"
    },
    {
     "name": "stdout",
     "output_type": "stream",
     "text": [
      "Last reward:  1.0\n",
      "Cart horizontal position: -0.020\tCart velocity:         -0.770\n",
      "Pole angle:                0.030\tPole angular velocity:  1.144\n",
      "\n",
      "Step: 5\n"
     ]
    },
    {
     "name": "stdin",
     "output_type": "stream",
     "text": [
      "Action: 0\n"
     ]
    },
    {
     "data": {
      "image/png": "[encoded data removed]",
      "text/plain": [
       "<Figure size 500x400 with 1 Axes>"
      ]
     },
     "metadata": {},
     "output_type": "display_data"
    },
    {
     "name": "stdout",
     "output_type": "stream",
     "text": [
      "Last reward:  1.0\n",
      "Cart horizontal position: -0.036\tCart velocity:         -0.966\n",
      "Pole angle:                0.053\tPole angular velocity:  1.445\n",
      "\n",
      "Step: 6\n"
     ]
    },
    {
     "name": "stdin",
     "output_type": "stream",
     "text": [
      "Action: 0\n"
     ]
    },
    {
     "data": {
      "image/png": "[encoded data removed]",
      "text/plain": [
       "<Figure size 500x400 with 1 Axes>"
      ]
     },
     "metadata": {},
     "output_type": "display_data"
    },
    {
     "name": "stdout",
     "output_type": "stream",
     "text": [
      "Last reward:  1.0\n",
      "Cart horizontal position: -0.055\tCart velocity:         -1.161\n",
      "Pole angle:                0.082\tPole angular velocity:  1.754\n",
      "\n",
      "Step: 7\n"
     ]
    },
    {
     "name": "stdin",
     "output_type": "stream",
     "text": [
      "Action: 1\n"
     ]
    },
    {
     "data": {
      "image/png": "[encoded data removed]",
      "text/plain": [
       "<Figure size 500x400 with 1 Axes>"
      ]
     },
     "metadata": {},
     "output_type": "display_data"
    },
    {
     "name": "stdout",
     "output_type": "stream",
     "text": [
      "Last reward:  1.0\n",
      "Cart horizontal position: -0.078\tCart velocity:         -0.967\n",
      "Pole angle:                0.117\tPole angular velocity:  1.488\n",
      "\n",
      "Step: 8\n"
     ]
    },
    {
     "name": "stdin",
     "output_type": "stream",
     "text": [
      "Action: 1\n"
     ]
    },
    {
     "data": {
      "image/png": "[encoded data removed]",
      "text/plain": [
       "<Figure size 500x400 with 1 Axes>"
      ]
     },
     "metadata": {},
     "output_type": "display_data"
    },
    {
     "name": "stdout",
     "output_type": "stream",
     "text": [
      "Last reward:  1.0\n",
      "Cart horizontal position: -0.098\tCart velocity:         -0.774\n",
      "Pole angle:                0.146\tPole angular velocity:  1.234\n",
      "\n",
      "Step: 9\n"
     ]
    },
    {
     "name": "stdin",
     "output_type": "stream",
     "text": [
      "Action: 1\n"
     ]
    },
    {
     "data": {
      "image/png": "[encoded data removed]",
      "text/plain": [
       "<Figure size 500x400 with 1 Axes>"
      ]
     },
     "metadata": {},
     "output_type": "display_data"
    },
    {
     "name": "stdout",
     "output_type": "stream",
     "text": [
      "Last reward:  1.0\n",
      "Cart horizontal position: -0.113\tCart velocity:         -0.581\n",
      "Pole angle:                0.171\tPole angular velocity:  0.990\n",
      "\n",
      "Step: 10\n"
     ]
    },
    {
     "name": "stdin",
     "output_type": "stream",
     "text": [
      "Action: 1\n"
     ]
    },
    {
     "data": {
      "image/png": "[encoded data removed]",
      "text/plain": [
       "<Figure size 500x400 with 1 Axes>"
      ]
     },
     "metadata": {},
     "output_type": "display_data"
    },
    {
     "name": "stdout",
     "output_type": "stream",
     "text": [
      "Last reward:  1.0\n",
      "Cart horizontal position: -0.125\tCart velocity:         -0.388\n",
      "Pole angle:                0.191\tPole angular velocity:  0.756\n",
      "\n",
      "Step: 11\n"
     ]
    },
    {
     "name": "stdin",
     "output_type": "stream",
     "text": [
      "Action: 1\n"
     ]
    },
    {
     "data": {
      "image/png": "[encoded data removed]",
      "text/plain": [
       "<Figure size 500x400 with 1 Axes>"
      ]
     },
     "metadata": {},
     "output_type": "display_data"
    },
    {
     "name": "stdout",
     "output_type": "stream",
     "text": [
      "Last reward:  1.0\n",
      "Cart horizontal position: -0.133\tCart velocity:         -0.196\n",
      "Pole angle:                0.206\tPole angular velocity:  0.529\n",
      "\n",
      "Step: 12\n"
     ]
    },
    {
     "name": "stdin",
     "output_type": "stream",
     "text": [
      "Action: 1\n"
     ]
    },
    {
     "data": {
      "image/png": "[encoded data removed]",
      "text/plain": [
       "<Figure size 500x400 with 1 Axes>"
      ]
     },
     "metadata": {},
     "output_type": "display_data"
    },
    {
     "name": "stdout",
     "output_type": "stream",
     "text": [
      "Last reward:  1.0\n",
      "Cart horizontal position: -0.137\tCart velocity:         -0.005\n",
      "Pole angle:                0.217\tPole angular velocity:  0.307\n",
      "\n",
      "Episode complete\n"
     ]
    }
   ],
   "source": [
    "env.reset(seed=random_state)\n",
    "\n",
    "step = 0\n",
    "while True:\n",
    "    step = step + 1\n",
    "    print(f'Step: {step}')\n",
    "    action = int(input('Action:'))\n",
    "    if action in (0, 1):\n",
    "        obs, reward, done, truncated, info = env.step(action)\n",
    "    plot_environment(env)\n",
    "    plt.show()\n",
    "        \n",
    "    print_cart(obs, reward)\n",
    "    \n",
    "    if done:\n",
    "        print('Episode complete')\n",
    "        break    "
   ]
  },
  {
   "cell_type": "code",
   "execution_count": null,
   "id": "f1fcd7dd-6ea2-43ac-a447-42e7cc7e459e",
   "metadata": {},
   "outputs": [],
   "source": []
  }
 ],
 "metadata": {
  "kernelspec": {
   "display_name": "Python 3 (ipykernel)",
   "language": "python",
   "name": "python3"
  },
  "language_info": {
   "codemirror_mode": {
    "name": "ipython",
    "version": 3
   },
   "file_extension": ".py",
   "mimetype": "text/x-python",
   "name": "python",
   "nbconvert_exporter": "python",
   "pygments_lexer": "ipython3",
   "version": "3.10.10"
  }
 },
 "nbformat": 4,
 "nbformat_minor": 5
}
