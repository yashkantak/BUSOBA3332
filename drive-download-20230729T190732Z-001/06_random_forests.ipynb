{
 "cells": [
  {
   "cell_type": "markdown",
   "metadata": {},
   "source": [
    "# NLSY (Random Forests)"
   ]
  },
  {
   "cell_type": "markdown",
   "metadata": {},
   "source": [
    "## Load Libraries and Data"
   ]
  },
  {
   "cell_type": "code",
   "execution_count": 1,
   "metadata": {},
   "outputs": [],
   "source": [
    "import io\n",
    "import requests\n",
    "import warnings\n",
    "import numpy as np\n",
    "import pandas as pd\n",
    "from sklearn.preprocessing import LabelEncoder\n",
    "from sklearn.metrics import accuracy_score, classification_report\n",
    "from sklearn.model_selection import GridSearchCV, train_test_split\n",
    "from sklearn.ensemble import (BaggingClassifier, VotingClassifier,\n",
    "                              RandomForestClassifier, ExtraTreesClassifier)                              \n",
    "from sklearn.linear_model import LogisticRegression\n",
    "from sklearn.tree import DecisionTreeClassifier\n",
    "from sklearn.neighbors import KNeighborsClassifier\n",
    "import matplotlib as mpl\n",
    "import matplotlib.pyplot as plt\n",
    "from matplotlib.colors import ListedColormap\n",
    "import seaborn as sns\n",
    "\n",
    "# Make this notebook's output stable across runs\n",
    "random_state = 1000\n",
    "np.random.seed(random_state)\n",
    "\n",
    "# Options for plots\n",
    "%matplotlib inline\n",
    "sns.set()\n",
    "plt.rcParams['axes.labelweight'] = 'bold'\n",
    "plt.rcParams['axes.labelpad'] = 12"
   ]
  },
  {
   "cell_type": "code",
   "execution_count": 2,
   "metadata": {},
   "outputs": [],
   "source": [
    "def plot_decision_boundary(\n",
    "    clf, X, y, classes, features, xlims,\n",
    "    markers=['<', 'o', 's'],\n",
    "    markercolors=['darkgreen', 'navy', 'darkred'],\n",
    "    fillcolors=['lightgreen', 'cornflowerblue', 'lightcoral'],\n",
    "    steps=1000, alpha=0.2, figsize=(15, 6)\n",
    "):\n",
    "    x1, x2 = np.meshgrid (np.linspace(*xlims[0], steps).reshape(-1, 1),\n",
    "                          np.linspace(*xlims[1], steps).reshape(-1, 1))\n",
    "    \n",
    "    X_bound = np.c_[x1.ravel(), x2.ravel()]\n",
    "    with warnings.catch_warnings():\n",
    "        warnings.simplefilter('ignore')\n",
    "        y_pred = clf.predict(X_bound)\n",
    "        \n",
    "    z = LabelEncoder().fit_transform(y_pred).reshape(x1.shape)\n",
    "    \n",
    "    plt.figure(figsize=figsize)\n",
    "    \n",
    "    for i, c in enumerate(classes):\n",
    "        plt.plot(X.loc[y == c, features[0]], X.loc[y == c, features[1]],\n",
    "                 color=markercolors[i], marker=markers[i],\n",
    "                 linestyle='none', label=c)\n",
    "    \n",
    "    plt.contourf(x1, x2, z, levels=len(classes) + 1,\n",
    "                 alpha=alpha, cmap=ListedColormap(fillcolors))\n",
    "   \n",
    "    plt.xlabel(features[0])\n",
    "    plt.ylabel(features[1])\n",
    "    plt.legend()\n",
    "    plt.show()"
   ]
  },
  {
   "cell_type": "code",
   "execution_count": 3,
   "metadata": {},
   "outputs": [],
   "source": [
    "# Split data and return as dataframes\n",
    "def split_data(X, y, test_size=0.2, stratify=None,\n",
    "               random_state=1):\n",
    "    out = train_test_split(X, y, test_size=test_size,\n",
    "                           stratify=stratify,\n",
    "                           random_state=random_state)\n",
    "    out[0] = pd.DataFrame(out[0], columns=X.columns)\n",
    "    out[1] = pd.DataFrame(out[1], columns=X.columns)\n",
    "\n",
    "    return out"
   ]
  },
  {
   "cell_type": "markdown",
   "metadata": {},
   "source": [
    "### Data Description\n",
    "\n",
    "The Bureau of Labor Statistics administers a National Longitudinal Survey of Youth that tracks individuals over the course of their lives.\n",
    "\n",
    "The 1979 (NLSY79) cohort includes men and women born in the USA between 1957 and 1964.\n",
    "\n",
    "In the data set, each row represents an individual that participates in the 1979 cohort.\n",
    "\n",
    "| Attribute      | Definition                                                                                   |\n",
    "| -------------- | -------------------------------------------------------------------------------------------- |\n",
    "| ID             | Participant identifier assigned by BLS                                                       |\n",
    "| Earnings       | Annual wage earnings 2014                                                                    |\n",
    "| WeeksWorked    | Count of weeks worked in 2014                                                                |\n",
    "| CumWeeksWorked | Cumulative weeks of work experience during study                                             |\n",
    "| Education      | Years of education as of 2014                                                                |\n",
    "| IQ             | Percentile on IQ test taken in 1979                                                          |\n",
    "| Gender         | Participant's gender                                                                         |\n",
    "| MSA            | Did the participant reside within an urban cluster or urbanized area in 2014?                |\n",
    "| Library        | Did the participant, or someone in the participant's household, have a library card in 1979? |\n",
    "| Esteem         | Score on the Rosenberg Self-Esteem Scale in 1979                                             |"
   ]
  },
  {
   "cell_type": "code",
   "execution_count": 4,
   "metadata": {},
   "outputs": [
    {
     "data": {
      "text/html": [
       "<div>\n",
       "<style scoped>\n",
       "    .dataframe tbody tr th:only-of-type {\n",
       "        vertical-align: middle;\n",
       "    }\n",
       "\n",
       "    .dataframe tbody tr th {\n",
       "        vertical-align: top;\n",
       "    }\n",
       "\n",
       "    .dataframe thead th {\n",
       "        text-align: right;\n",
       "    }\n",
       "</style>\n",
       "<table border=\"1\" class=\"dataframe\">\n",
       "  <thead>\n",
       "    <tr style=\"text-align: right;\">\n",
       "      <th></th>\n",
       "      <th>ID</th>\n",
       "      <th>Earnings</th>\n",
       "      <th>WeeksWorked</th>\n",
       "      <th>CumWeeksWorked</th>\n",
       "      <th>Education</th>\n",
       "      <th>IQ</th>\n",
       "      <th>Gender</th>\n",
       "      <th>MSA</th>\n",
       "      <th>Library</th>\n",
       "      <th>Esteem</th>\n",
       "    </tr>\n",
       "  </thead>\n",
       "  <tbody>\n",
       "    <tr>\n",
       "      <th>0</th>\n",
       "      <td>83</td>\n",
       "      <td>0</td>\n",
       "      <td>3</td>\n",
       "      <td>553.0</td>\n",
       "      <td>10</td>\n",
       "      <td>2</td>\n",
       "      <td>Male</td>\n",
       "      <td>Yes</td>\n",
       "      <td>Yes</td>\n",
       "      <td>18</td>\n",
       "    </tr>\n",
       "    <tr>\n",
       "      <th>1</th>\n",
       "      <td>84</td>\n",
       "      <td>0</td>\n",
       "      <td>3</td>\n",
       "      <td>107.0</td>\n",
       "      <td>12</td>\n",
       "      <td>9</td>\n",
       "      <td>Male</td>\n",
       "      <td>Yes</td>\n",
       "      <td>Yes</td>\n",
       "      <td>20</td>\n",
       "    </tr>\n",
       "    <tr>\n",
       "      <th>2</th>\n",
       "      <td>87</td>\n",
       "      <td>11500</td>\n",
       "      <td>5</td>\n",
       "      <td>759.0</td>\n",
       "      <td>12</td>\n",
       "      <td>5</td>\n",
       "      <td>Male</td>\n",
       "      <td>Yes</td>\n",
       "      <td>Yes</td>\n",
       "      <td>22</td>\n",
       "    </tr>\n",
       "    <tr>\n",
       "      <th>3</th>\n",
       "      <td>105</td>\n",
       "      <td>20501</td>\n",
       "      <td>11</td>\n",
       "      <td>979.0</td>\n",
       "      <td>12</td>\n",
       "      <td>84</td>\n",
       "      <td>Female</td>\n",
       "      <td>Yes</td>\n",
       "      <td>Yes</td>\n",
       "      <td>19</td>\n",
       "    </tr>\n",
       "    <tr>\n",
       "      <th>4</th>\n",
       "      <td>178</td>\n",
       "      <td>59000</td>\n",
       "      <td>46</td>\n",
       "      <td>1010.0</td>\n",
       "      <td>16</td>\n",
       "      <td>99</td>\n",
       "      <td>Male</td>\n",
       "      <td>No</td>\n",
       "      <td>Yes</td>\n",
       "      <td>24</td>\n",
       "    </tr>\n",
       "  </tbody>\n",
       "</table>\n",
       "</div>"
      ],
      "text/plain": [
       "    ID  Earnings  WeeksWorked  CumWeeksWorked  Education  IQ  Gender  MSA  \\\n",
       "0   83         0            3           553.0         10   2    Male  Yes   \n",
       "1   84         0            3           107.0         12   9    Male  Yes   \n",
       "2   87     11500            5           759.0         12   5    Male  Yes   \n",
       "3  105     20501           11           979.0         12  84  Female  Yes   \n",
       "4  178     59000           46          1010.0         16  99    Male   No   \n",
       "\n",
       "  Library  Esteem  \n",
       "0     Yes      18  \n",
       "1     Yes      20  \n",
       "2     Yes      22  \n",
       "3     Yes      19  \n",
       "4     Yes      24  "
      ]
     },
     "execution_count": 4,
     "metadata": {},
     "output_type": "execute_result"
    }
   ],
   "source": [
    "url = 'https://raw.githubusercontent.com/natecraig/aiml/main/Data/nlsy.csv'\n",
    "download = requests.get(url).content\n",
    "df = pd.read_csv(io.StringIO(download.decode('utf-8')))\n",
    "df.head()"
   ]
  },
  {
   "cell_type": "code",
   "execution_count": 5,
   "metadata": {},
   "outputs": [
    {
     "data": {
      "text/plain": [
       "High School      0.830679\n",
       "Undergraduate    0.113160\n",
       "Graduate         0.056161\n",
       "Name: EducationCategory, dtype: float64"
      ]
     },
     "execution_count": 5,
     "metadata": {},
     "output_type": "execute_result"
    }
   ],
   "source": [
    "# Return index of education category as a function of years of education\n",
    "def education_category(years_education):\n",
    "    if years_education < 16:\n",
    "        return 'High School'\n",
    "    elif years_education == 16:\n",
    "        return 'Undergraduate'\n",
    "    else:\n",
    "        return 'Graduate'\n",
    "\n",
    "\n",
    "# Create a variable to contain each participant's education category    \n",
    "df['EducationCategory'] = df['Education'].apply(education_category)\n",
    "df['EducationCategory'].value_counts(normalize=True)"
   ]
  },
  {
   "cell_type": "code",
   "execution_count": 6,
   "metadata": {},
   "outputs": [],
   "source": [
    "# Predict EducationCategory as a function of Earnings and WeeksWorked\n",
    "feature_vars = ['Earnings', 'WeeksWorked']\n",
    "X = df[feature_vars]\n",
    "y = df['EducationCategory']\n",
    "\n",
    "# Split data into training and testing sets\n",
    "(X_train, X_test, \n",
    " y_train, y_test) = split_data(X, y, test_size=0.25,\n",
    "                               stratify=y,\n",
    "                               random_state=random_state)"
   ]
  },
  {
   "cell_type": "markdown",
   "metadata": {},
   "source": [
    "## Simple Ensemble"
   ]
  },
  {
   "cell_type": "code",
   "execution_count": 7,
   "metadata": {},
   "outputs": [],
   "source": [
    "# Use logistic regression, decision tree, and k-nearest neighbors classifiers\n",
    "log_clf = LogisticRegression(multi_class='multinomial', solver='lbfgs', \n",
    "                             random_state=random_state)\n",
    "tree_clf = DecisionTreeClassifier(max_depth=3, random_state=random_state)\n",
    "knn_clf = KNeighborsClassifier(n_neighbors=4)\n",
    "\n",
    "voting_clf = VotingClassifier(\n",
    "    estimators=[('logreg', log_clf), ('tree', tree_clf),\n",
    "                ('knn', knn_clf)],\n",
    "    voting='soft'\n",
    ")"
   ]
  },
  {
   "cell_type": "code",
   "execution_count": 8,
   "metadata": {},
   "outputs": [
    {
     "name": "stdout",
     "output_type": "stream",
     "text": [
      "               precision    recall  f1-score   support\n",
      "\n",
      "     Graduate      1.000     0.294     0.455        17\n",
      "  High School      0.939     0.988     0.963       248\n",
      "Undergraduate      0.606     0.588     0.597        34\n",
      "\n",
      "     accuracy                          0.903       299\n",
      "    macro avg      0.848     0.623     0.671       299\n",
      " weighted avg      0.904     0.903     0.892       299\n",
      "\n"
     ]
    }
   ],
   "source": [
    "# Evaluate voting classifier on the training data\n",
    "voting_clf.fit(X_train, y_train)\n",
    "y_pred = voting_clf.predict(X_test)\n",
    "print(classification_report(y_test, y_pred, digits=3))"
   ]
  },
  {
   "cell_type": "code",
   "execution_count": 9,
   "metadata": {},
   "outputs": [
    {
     "name": "stdout",
     "output_type": "stream",
     "text": [
      "LogisticRegression       0.749\n",
      "DecisionTreeClassifier   0.893\n",
      "KNeighborsClassifier     0.883\n"
     ]
    }
   ],
   "source": [
    "for clf in voting_clf.estimators_:\n",
    "    clf.fit(X_train, y_train)\n",
    "    y_pred = clf.predict(X_test)\n",
    "    print('{:<24} {:.3f}'.format(clf.__class__.__name__,\n",
    "                                 accuracy_score(y_test, y_pred)))"
   ]
  },
  {
   "cell_type": "code",
   "execution_count": 10,
   "metadata": {},
   "outputs": [
    {
     "name": "stdout",
     "output_type": "stream",
     "text": [
      "Actual                                      Undergraduate\n",
      "\n",
      "Voting classifier prediction                Undergraduate\n",
      "\n",
      "LogisticRegression prediction               Undergraduate\n",
      "DecisionTreeClassifier prediction           Undergraduate\n",
      "KNeighborsClassifier prediction                  Graduate\n"
     ]
    }
   ],
   "source": [
    "# Fit the voting classifier\n",
    "voting_clf.fit(X_train, y_train)\n",
    "\n",
    "idx = 1\n",
    "instance = X_test.iloc[idx, :].to_numpy().reshape(1, -1)\n",
    "instance = pd.DataFrame(instance, columns=X_test.columns)\n",
    "\n",
    "print('{:<40} {:>16}\\n'.format('Actual', y_test.iloc[idx]))\n",
    "print('{:<40} {:>16}\\n'.format('Voting classifier prediction',\n",
    "                             voting_clf.predict(instance)[0]))\n",
    "\n",
    "for clf in voting_clf.estimators_:\n",
    "    clf.fit(X_train, y_train)\n",
    "    y_pred = clf.predict(instance)\n",
    "    print('{:<40} {:>16}'.format(clf.__class__.__name__ + ' prediction',\n",
    "                                 y_pred[0]))"
   ]
  },
  {
   "cell_type": "markdown",
   "metadata": {},
   "source": [
    "### Exercise\n",
    "Add the remaining variables to the voting classifier and observe how accuracy changes. Keep in mind that you may need to change the arguments for the constituent classifiers (e.g., max_iter for LogisticRegression)."
   ]
  },
  {
   "cell_type": "code",
   "execution_count": null,
   "metadata": {},
   "outputs": [],
   "source": []
  },
  {
   "cell_type": "markdown",
   "metadata": {},
   "source": [
    "## Bagging and Pasting"
   ]
  },
  {
   "cell_type": "code",
   "execution_count": 11,
   "metadata": {},
   "outputs": [
    {
     "name": "stdout",
     "output_type": "stream",
     "text": [
      "               precision    recall  f1-score   support\n",
      "\n",
      "     Graduate      0.778     0.412     0.538        17\n",
      "  High School      0.957     0.980     0.968       248\n",
      "Undergraduate      0.611     0.647     0.629        34\n",
      "\n",
      "     accuracy                          0.910       299\n",
      "    macro avg      0.782     0.680     0.712       299\n",
      " weighted avg      0.907     0.910     0.905       299\n",
      "\n"
     ]
    }
   ],
   "source": [
    "# Fit a bagging classifier using decision trees\n",
    "bag_clf = BaggingClassifier(\n",
    "    DecisionTreeClassifier(random_state=random_state, max_depth=6),\n",
    "    n_estimators=1000, max_samples=500, bootstrap=True,\n",
    "    random_state=random_state\n",
    ")\n",
    "bag_clf.fit(X_train, y_train)\n",
    "\n",
    "# Evaluate on the test data\n",
    "y_pred = bag_clf.predict(X_test)\n",
    "print(classification_report(y_test, y_pred, digits=3))"
   ]
  },
  {
   "cell_type": "code",
   "execution_count": 12,
   "metadata": {},
   "outputs": [
    {
     "name": "stdout",
     "output_type": "stream",
     "text": [
      "               precision    recall  f1-score   support\n",
      "\n",
      "     Graduate      0.700     0.412     0.519        17\n",
      "  High School      0.946     0.980     0.962       248\n",
      "Undergraduate      0.594     0.559     0.576        34\n",
      "\n",
      "     accuracy                          0.900       299\n",
      "    macro avg      0.746     0.650     0.686       299\n",
      " weighted avg      0.892     0.900     0.893       299\n",
      "\n"
     ]
    }
   ],
   "source": [
    "# Compare the bagging classifier to a single decision tree fit to the\n",
    "# full training data set\n",
    "tree_clf = DecisionTreeClassifier(max_depth=6, random_state=random_state)\n",
    "tree_clf.fit(X_train, y_train)\n",
    "\n",
    "y_pred = tree_clf.predict(X_test)\n",
    "print(classification_report(y_test, y_pred, digits=3))"
   ]
  },
  {
   "cell_type": "markdown",
   "metadata": {},
   "source": [
    "### Exercise\n",
    "\n",
    "How do the bagging classifier and the single decision tree compare when we add the CumWeeksWorked variable?"
   ]
  },
  {
   "cell_type": "code",
   "execution_count": null,
   "metadata": {},
   "outputs": [],
   "source": []
  },
  {
   "cell_type": "markdown",
   "metadata": {},
   "source": [
    "## Random Forests"
   ]
  },
  {
   "cell_type": "code",
   "execution_count": 13,
   "metadata": {},
   "outputs": [
    {
     "data": {
      "text/html": [
       "<style>#sk-container-id-1 {color: black;background-color: white;}#sk-container-id-1 pre{padding: 0;}#sk-container-id-1 div.sk-toggleable {background-color: white;}#sk-container-id-1 label.sk-toggleable__label {cursor: pointer;display: block;width: 100%;margin-bottom: 0;padding: 0.3em;box-sizing: border-box;text-align: center;}#sk-container-id-1 label.sk-toggleable__label-arrow:before {content: \"▸\";float: left;margin-right: 0.25em;color: #696969;}#sk-container-id-1 label.sk-toggleable__label-arrow:hover:before {color: black;}#sk-container-id-1 div.sk-estimator:hover label.sk-toggleable__label-arrow:before {color: black;}#sk-container-id-1 div.sk-toggleable__content {max-height: 0;max-width: 0;overflow: hidden;text-align: left;background-color: #f0f8ff;}#sk-container-id-1 div.sk-toggleable__content pre {margin: 0.2em;color: black;border-radius: 0.25em;background-color: #f0f8ff;}#sk-container-id-1 input.sk-toggleable__control:checked~div.sk-toggleable__content {max-height: 200px;max-width: 100%;overflow: auto;}#sk-container-id-1 input.sk-toggleable__control:checked~label.sk-toggleable__label-arrow:before {content: \"▾\";}#sk-container-id-1 div.sk-estimator input.sk-toggleable__control:checked~label.sk-toggleable__label {background-color: #d4ebff;}#sk-container-id-1 div.sk-label input.sk-toggleable__control:checked~label.sk-toggleable__label {background-color: #d4ebff;}#sk-container-id-1 input.sk-hidden--visually {border: 0;clip: rect(1px 1px 1px 1px);clip: rect(1px, 1px, 1px, 1px);height: 1px;margin: -1px;overflow: hidden;padding: 0;position: absolute;width: 1px;}#sk-container-id-1 div.sk-estimator {font-family: monospace;background-color: #f0f8ff;border: 1px dotted black;border-radius: 0.25em;box-sizing: border-box;margin-bottom: 0.5em;}#sk-container-id-1 div.sk-estimator:hover {background-color: #d4ebff;}#sk-container-id-1 div.sk-parallel-item::after {content: \"\";width: 100%;border-bottom: 1px solid gray;flex-grow: 1;}#sk-container-id-1 div.sk-label:hover label.sk-toggleable__label {background-color: #d4ebff;}#sk-container-id-1 div.sk-serial::before {content: \"\";position: absolute;border-left: 1px solid gray;box-sizing: border-box;top: 0;bottom: 0;left: 50%;z-index: 0;}#sk-container-id-1 div.sk-serial {display: flex;flex-direction: column;align-items: center;background-color: white;padding-right: 0.2em;padding-left: 0.2em;position: relative;}#sk-container-id-1 div.sk-item {position: relative;z-index: 1;}#sk-container-id-1 div.sk-parallel {display: flex;align-items: stretch;justify-content: center;background-color: white;position: relative;}#sk-container-id-1 div.sk-item::before, #sk-container-id-1 div.sk-parallel-item::before {content: \"\";position: absolute;border-left: 1px solid gray;box-sizing: border-box;top: 0;bottom: 0;left: 50%;z-index: -1;}#sk-container-id-1 div.sk-parallel-item {display: flex;flex-direction: column;z-index: 1;position: relative;background-color: white;}#sk-container-id-1 div.sk-parallel-item:first-child::after {align-self: flex-end;width: 50%;}#sk-container-id-1 div.sk-parallel-item:last-child::after {align-self: flex-start;width: 50%;}#sk-container-id-1 div.sk-parallel-item:only-child::after {width: 0;}#sk-container-id-1 div.sk-dashed-wrapped {border: 1px dashed gray;margin: 0 0.4em 0.5em 0.4em;box-sizing: border-box;padding-bottom: 0.4em;background-color: white;}#sk-container-id-1 div.sk-label label {font-family: monospace;font-weight: bold;display: inline-block;line-height: 1.2em;}#sk-container-id-1 div.sk-label-container {text-align: center;}#sk-container-id-1 div.sk-container {/* jupyter's `normalize.less` sets `[hidden] { display: none; }` but bootstrap.min.css set `[hidden] { display: none !important; }` so we also need the `!important` here to be able to override the default hidden behavior on the sphinx rendered scikit-learn.org. See: https://github.com/scikit-learn/scikit-learn/issues/21755 */display: inline-block !important;position: relative;}#sk-container-id-1 div.sk-text-repr-fallback {display: none;}</style><div id=\"sk-container-id-1\" class=\"sk-top-container\"><div class=\"sk-text-repr-fallback\"><pre>GridSearchCV(estimator=RandomForestClassifier(n_jobs=3, random_state=1000),\n",
       "             param_grid={&#x27;max_depth&#x27;: range(6, 12),\n",
       "                         &#x27;n_estimators&#x27;: range(100, 400, 100)})</pre><b>In a Jupyter environment, please rerun this cell to show the HTML representation or trust the notebook. <br />On GitHub, the HTML representation is unable to render, please try loading this page with nbviewer.org.</b></div><div class=\"sk-container\" hidden><div class=\"sk-item sk-dashed-wrapped\"><div class=\"sk-label-container\"><div class=\"sk-label sk-toggleable\"><input class=\"sk-toggleable__control sk-hidden--visually\" id=\"sk-estimator-id-1\" type=\"checkbox\" ><label for=\"sk-estimator-id-1\" class=\"sk-toggleable__label sk-toggleable__label-arrow\">GridSearchCV</label><div class=\"sk-toggleable__content\"><pre>GridSearchCV(estimator=RandomForestClassifier(n_jobs=3, random_state=1000),\n",
       "             param_grid={&#x27;max_depth&#x27;: range(6, 12),\n",
       "                         &#x27;n_estimators&#x27;: range(100, 400, 100)})</pre></div></div></div><div class=\"sk-parallel\"><div class=\"sk-parallel-item\"><div class=\"sk-item\"><div class=\"sk-label-container\"><div class=\"sk-label sk-toggleable\"><input class=\"sk-toggleable__control sk-hidden--visually\" id=\"sk-estimator-id-2\" type=\"checkbox\" ><label for=\"sk-estimator-id-2\" class=\"sk-toggleable__label sk-toggleable__label-arrow\">estimator: RandomForestClassifier</label><div class=\"sk-toggleable__content\"><pre>RandomForestClassifier(n_jobs=3, random_state=1000)</pre></div></div></div><div class=\"sk-serial\"><div class=\"sk-item\"><div class=\"sk-estimator sk-toggleable\"><input class=\"sk-toggleable__control sk-hidden--visually\" id=\"sk-estimator-id-3\" type=\"checkbox\" ><label for=\"sk-estimator-id-3\" class=\"sk-toggleable__label sk-toggleable__label-arrow\">RandomForestClassifier</label><div class=\"sk-toggleable__content\"><pre>RandomForestClassifier(n_jobs=3, random_state=1000)</pre></div></div></div></div></div></div></div></div></div></div>"
      ],
      "text/plain": [
       "GridSearchCV(estimator=RandomForestClassifier(n_jobs=3, random_state=1000),\n",
       "             param_grid={'max_depth': range(6, 12),\n",
       "                         'n_estimators': range(100, 400, 100)})"
      ]
     },
     "execution_count": 13,
     "metadata": {},
     "output_type": "execute_result"
    }
   ],
   "source": [
    "# For a random forest, use cross validation to pick\n",
    "# the number of trees (estimators) and the max depth of the trees\n",
    "search_parameters = {\n",
    "    'n_estimators':range(100, 400, 100),\n",
    "    'max_depth':range(6, 12)\n",
    "}\n",
    "\n",
    "rnd_clf = RandomForestClassifier(n_jobs=3, random_state=random_state) \n",
    "grid_clf = GridSearchCV(rnd_clf, search_parameters)\n",
    "grid_clf.fit(X_train, y_train)"
   ]
  },
  {
   "cell_type": "code",
   "execution_count": 14,
   "metadata": {},
   "outputs": [
    {
     "name": "stdout",
     "output_type": "stream",
     "text": [
      "Accuracy: 0.909\n"
     ]
    },
    {
     "data": {
      "text/plain": [
       "{'max_depth': 8, 'n_estimators': 300}"
      ]
     },
     "execution_count": 14,
     "metadata": {},
     "output_type": "execute_result"
    }
   ],
   "source": [
    "print(f'Accuracy: {grid_clf.best_score_:.3f}')\n",
    "grid_clf.best_params_"
   ]
  },
  {
   "cell_type": "code",
   "execution_count": 15,
   "metadata": {},
   "outputs": [
    {
     "name": "stdout",
     "output_type": "stream",
     "text": [
      "               precision    recall  f1-score   support\n",
      "\n",
      "     Graduate      0.750     0.353     0.480        17\n",
      "  High School      0.957     0.976     0.966       248\n",
      "Undergraduate      0.579     0.647     0.611        34\n",
      "\n",
      "     accuracy                          0.903       299\n",
      "    macro avg      0.762     0.659     0.686       299\n",
      " weighted avg      0.902     0.903     0.898       299\n",
      "\n"
     ]
    }
   ],
   "source": [
    "# Get the best classifier from GridSearchCV\n",
    "best_clf = grid_clf.best_estimator_\n",
    "\n",
    "# Get accuracy on the test data\n",
    "y_pred = best_clf.predict(X_test)\n",
    "print(classification_report(y_test, y_pred, digits=3))"
   ]
  },
  {
   "cell_type": "code",
   "execution_count": 16,
   "metadata": {},
   "outputs": [
    {
     "data": {
      "image/png": "[encoded data removed]",
      "text/plain": [
       "<Figure size 1500x600 with 1 Axes>"
      ]
     },
     "metadata": {},
     "output_type": "display_data"
    }
   ],
   "source": [
    "# Visualize decision boundaries\n",
    "xlims = [\n",
    "    [df['Earnings'].min(), df['Earnings'].max()],\n",
    "    [df['WeeksWorked'].min(), df['WeeksWorked'].max()]\n",
    "]\n",
    "\n",
    "plot_decision_boundary(best_clf, X_test, y_test,\n",
    "                       classes=['Graduate', 'High School', 'Undergraduate'],\n",
    "                       features=feature_vars,\n",
    "                       xlims=xlims)     "
   ]
  },
  {
   "cell_type": "code",
   "execution_count": 17,
   "metadata": {},
   "outputs": [
    {
     "name": "stdout",
     "output_type": "stream",
     "text": [
      "Earnings         0.826\n",
      "WeeksWorked      0.174\n"
     ]
    }
   ],
   "source": [
    "# Get feature importances\n",
    "for name, imp in zip(feature_vars, best_clf.feature_importances_):\n",
    "    print('{:<16} {:.3f}'.format(name, imp))"
   ]
  },
  {
   "cell_type": "code",
   "execution_count": 18,
   "metadata": {},
   "outputs": [
    {
     "name": "stdout",
     "output_type": "stream",
     "text": [
      "               precision    recall  f1-score   support\n",
      "\n",
      "     Graduate      0.750     0.353     0.480        17\n",
      "  High School      0.938     0.984     0.961       248\n",
      "Undergraduate      0.581     0.529     0.554        34\n",
      "\n",
      "     accuracy                          0.896       299\n",
      "    macro avg      0.756     0.622     0.665       299\n",
      " weighted avg      0.887     0.896     0.887       299\n",
      "\n"
     ]
    }
   ],
   "source": [
    "# Fit an ensemble of extremely randomized trees\n",
    "ext_clf = ExtraTreesClassifier(max_depth=10, n_estimators=100,\n",
    "                               random_state=random_state)\n",
    "ext_clf.fit(X_train, y_train)\n",
    "\n",
    "# Get accuracy on the test data\n",
    "y_pred = ext_clf.predict(X_test)\n",
    "print(classification_report(y_test, y_pred, digits=3))"
   ]
  },
  {
   "cell_type": "code",
   "execution_count": 19,
   "metadata": {},
   "outputs": [
    {
     "name": "stdout",
     "output_type": "stream",
     "text": [
      "Earnings         0.851\n",
      "WeeksWorked      0.149\n"
     ]
    }
   ],
   "source": [
    "# Get feature importances\n",
    "for name, imp in zip(feature_vars, ext_clf.feature_importances_):\n",
    "    print('{:<16} {:.3f}'.format(name, imp))"
   ]
  },
  {
   "cell_type": "markdown",
   "metadata": {},
   "source": [
    "### Exercise\n",
    "\n",
    "Add CumWeeksWored to the random forest. Use GridSearchCV to optimize n_estimators and max_depth."
   ]
  },
  {
   "cell_type": "code",
   "execution_count": null,
   "metadata": {},
   "outputs": [],
   "source": []
  }
 ],
 "metadata": {
  "kernelspec": {
   "display_name": "Python 3 (ipykernel)",
   "language": "python",
   "name": "python3"
  },
  "language_info": {
   "codemirror_mode": {
    "name": "ipython",
    "version": 3
   },
   "file_extension": ".py",
   "mimetype": "text/x-python",
   "name": "python",
   "nbconvert_exporter": "python",
   "pygments_lexer": "ipython3",
   "version": "3.10.9"
  }
 },
 "nbformat": 4,
 "nbformat_minor": 4
}
