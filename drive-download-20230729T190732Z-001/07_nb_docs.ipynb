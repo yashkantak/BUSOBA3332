{
 "cells": [
  {
   "cell_type": "markdown",
   "metadata": {},
   "source": [
    "# Document Classification (Naive Bayes)"
   ]
  },
  {
   "cell_type": "code",
   "execution_count": 1,
   "metadata": {},
   "outputs": [],
   "source": [
    "import numpy as np\n",
    "import pandas as pd\n",
    "from sklearn.pipeline import Pipeline\n",
    "from sklearn.datasets import fetch_20newsgroups\n",
    "from sklearn.feature_extraction.text import (\n",
    "    CountVectorizer, TfidfTransformer, TfidfVectorizer\n",
    ")\n",
    "from sklearn.naive_bayes import MultinomialNB\n",
    "from sklearn.metrics import classification_report, ConfusionMatrixDisplay\n",
    "import matplotlib as mpl\n",
    "import matplotlib.pyplot as plt\n",
    "import seaborn as sns\n",
    "\n",
    "# Make this notebook's output stable across runs\n",
    "random_state = 1\n",
    "np.random.seed(random_state)\n",
    "\n",
    "# Options for plots\n",
    "%matplotlib inline\n",
    "sns.set()\n",
    "plt.rcParams['axes.labelweight'] = 'bold'\n",
    "plt.rcParams['axes.labelpad'] = 12"
   ]
  },
  {
   "cell_type": "markdown",
   "metadata": {},
   "source": [
    "## Load 20 Newsgroups Data"
   ]
  },
  {
   "cell_type": "code",
   "execution_count": 2,
   "metadata": {},
   "outputs": [],
   "source": [
    "# Load newsgroup data\n",
    "# The data includes 20 newsgroups. Take a subset for processing speed\n",
    "categories = sorted([\n",
    "    'comp.graphics', 'comp.sys.mac.hardware',\n",
    "    'misc.forsale',\n",
    "    'rec.motorcycles', 'rec.sport.baseball', 'rec.sport.hockey',\n",
    "    'sci.med', 'sci.space',\n",
    "    'talk.politics.misc'\n",
    "])\n",
    "\n",
    "X_train_raw, y_train \\\n",
    "    = fetch_20newsgroups(subset='train', categories=categories,\n",
    "                         random_state=random_state, return_X_y=True)\n",
    "\n",
    "X_test_raw, y_test \\\n",
    "    = fetch_20newsgroups(subset='test', categories=categories,\n",
    "                         random_state=random_state, return_X_y=True)"
   ]
  },
  {
   "cell_type": "code",
   "execution_count": 3,
   "metadata": {},
   "outputs": [
    {
     "data": {
      "text/plain": [
       "5194"
      ]
     },
     "execution_count": 3,
     "metadata": {},
     "output_type": "execute_result"
    }
   ],
   "source": [
    "len(X_train_raw)"
   ]
  },
  {
   "cell_type": "code",
   "execution_count": 4,
   "metadata": {},
   "outputs": [
    {
     "name": "stdout",
     "output_type": "stream",
     "text": [
      "6\n",
      "sci.med\n"
     ]
    }
   ],
   "source": [
    "print(y_train[0])\n",
    "print(categories[y_train[0]])"
   ]
  },
  {
   "cell_type": "code",
   "execution_count": 5,
   "metadata": {},
   "outputs": [
    {
     "name": "stdout",
     "output_type": "stream",
     "text": [
      "From: dmp@fig.citib.com (Donna M. Paino)\n",
      "Subject: Psoriatic Arthritis - Info Needed Please!\n",
      "Originator: dmp@eagle\n",
      "Organization: Citibank IBISM\n",
      "Lines: 34\n",
      "\n",
      "\n",
      "\n",
      "A friend of mine has been diagnosed with Psoriatic Arthritis, as a result of\n",
      "trauma sustained in a car accident several years ago.  The psoriasis is under\n",
      "control but the arthritis part of the illness is not.\n",
      "\n",
      "Ansaid (non-steroidal anti-inflammatory) worked pretty well for three years but\n",
      "isn't helping much now.  My friend is now taking Meclomen (another NSAID) but\n",
      "this isn't helping control the pain at all.  In the past two months my friend\n",
      "has also started taking Azulfadine along with the NSAID medicines, but the\n",
      "effects of the combined drugs aren't supposed to be realized for several months.\n",
      "\n",
      "As a result of the pain, my friend is having problems sleeping.  Staying in\n",
      "one position too long is an ordeal.  Another major contributor to pain is that\n",
      "tendonitis has now developed (left thumb and hand with numbness at the base of\n",
      "the palm; bottom of feet; shoulders and outer thighs).  The tendonitis is\n",
      "quite painful yet my friend's doctor has not recommended any form of treatment\n",
      "to relieve it.\n",
      "\n",
      "The latest twist is that the doctor has dropped the anti-inflammatories and is\n",
      "now recommending Prednisone.  The hope is that the Prednisone will relieve some\n",
      "of the pain from the tendonitis.\n",
      "\n",
      "My friend is a 41 year old male who feels like he's 80 (his words, not mine).\n",
      "\n",
      "\n",
      "If anyone is aware of any new treatments for Psoriatic Arthritis, alternative\n",
      "courses of action, support groups or literature on it, I would be extremely\n",
      "grateful if you could e-mail to me.  If anyone is interested, I'll post a\n",
      "summary to this newsgroup.\n",
      "\n",
      "thanks in advance,\n",
      "Donna\n",
      "dmp@fig.citib.com\n",
      "\n"
     ]
    }
   ],
   "source": [
    "print(X_train_raw[0])"
   ]
  },
  {
   "cell_type": "code",
   "execution_count": 6,
   "metadata": {},
   "outputs": [
    {
     "name": "stdout",
     "output_type": "stream",
     "text": [
      "0\n",
      "comp.graphics\n"
     ]
    }
   ],
   "source": [
    "print(y_train[10])\n",
    "print(categories[y_train[10]])"
   ]
  },
  {
   "cell_type": "code",
   "execution_count": 7,
   "metadata": {},
   "outputs": [
    {
     "name": "stdout",
     "output_type": "stream",
     "text": [
      "From: omar@godzilla.osf.org (Mark Marino)\n",
      "Subject: WANTED: Playmation Info\n",
      "Organization: Open Software Foundation\n",
      "Lines: 21\n",
      "\n",
      "Hi Folks,\n",
      "\n",
      "   Does anyone have a copy of Playmation they'd be willing to sell me.  I'd \n",
      "love to try it out, but not for the retail $$$.  If you have moved onto \n",
      "something bigger (3DS) or better (Imagine), I'd love to buy your table scraps.\n",
      "\n",
      "   If noone is selling, can anyone recommend a place to buy Playmation \n",
      "mail-order for cheap?  \n",
      "\n",
      "   Thanks in advance,\n",
      "\n",
      "   Mark\n",
      "\n",
      "\n",
      "\n",
      "-- \n",
      " ----------------------------------------------------------------------------- \n",
      "|                                                                             |\n",
      "| Mark Marino              | omar@osf.org           |  uunet!osf!omar         |\n",
      "| Open Software Foundation | 11 Cambridge Center    |  Cambridge, MA 02142    |\n",
      "|_____________________________________________________________________________|\n",
      "\n"
     ]
    }
   ],
   "source": [
    "print(X_train_raw[10])"
   ]
  },
  {
   "cell_type": "markdown",
   "metadata": {},
   "source": [
    "## Create Features Using a Bag of Words Model"
   ]
  },
  {
   "cell_type": "code",
   "execution_count": 8,
   "metadata": {},
   "outputs": [],
   "source": [
    "countvect = CountVectorizer()\n",
    "X_train_count = countvect.fit_transform(X_train_raw)\n",
    "X_test_count = countvect.transform(X_test_raw)"
   ]
  },
  {
   "cell_type": "code",
   "execution_count": 9,
   "metadata": {},
   "outputs": [
    {
     "data": {
      "text/plain": [
       "(5194, 58526)"
      ]
     },
     "execution_count": 9,
     "metadata": {},
     "output_type": "execute_result"
    }
   ],
   "source": [
    "X_train_count.shape"
   ]
  },
  {
   "cell_type": "code",
   "execution_count": 10,
   "metadata": {},
   "outputs": [
    {
     "name": "stdout",
     "output_type": "stream",
     "text": [
      "('from', 25571)\n",
      "('dmp', 21221)\n",
      "('fig', 24615)\n",
      "('citib', 16556)\n",
      "('com', 17181)\n",
      "('donna', 21382)\n",
      "('paino', 40718)\n",
      "('subject', 51168)\n",
      "('psoriatic', 43676)\n",
      "('arthritis', 11071)\n"
     ]
    }
   ],
   "source": [
    "# The vocabulary dictionary records the index of each word's feature\n",
    "# Print 10 example entries\n",
    "for idx, (k, v) in enumerate(countvect.vocabulary_.items()):\n",
    "    if idx == 10: break\n",
    "    print((k, v))    "
   ]
  },
  {
   "cell_type": "code",
   "execution_count": 11,
   "metadata": {},
   "outputs": [
    {
     "name": "stdout",
     "output_type": "stream",
     "text": [
      "me:           36019\n",
      "the:          52769\n",
      "and:          10285\n",
      "space:        49791\n",
      "mars:         35552\n",
      "pete:         41636\n",
      "rose:         46594\n",
      "circuit:      16504\n",
      "capacitor:    15233\n",
      "processor:    43330\n",
      "current:      18989\n",
      "flame:        24848\n",
      "idiot:        29505\n",
      "arse:         11054\n"
     ]
    }
   ],
   "source": [
    "# Find the location of these example words\n",
    "example_words = ['me', 'the', 'and', 'space', 'mars', 'pete', 'rose',\n",
    "                 'circuit', 'capacitor', 'processor', 'current',\n",
    "                 'flame', 'idiot', 'arse']\n",
    "\n",
    "for word in example_words:\n",
    "    print(f'{word + \":\":14}{countvect.vocabulary_[word]}')"
   ]
  },
  {
   "cell_type": "markdown",
   "metadata": {},
   "source": [
    "## Fit Naive Bayes Model to Word Counts"
   ]
  },
  {
   "cell_type": "code",
   "execution_count": 12,
   "metadata": {},
   "outputs": [
    {
     "data": {
      "text/html": [
       "<style>#sk-container-id-1 {color: black;background-color: white;}#sk-container-id-1 pre{padding: 0;}#sk-container-id-1 div.sk-toggleable {background-color: white;}#sk-container-id-1 label.sk-toggleable__label {cursor: pointer;display: block;width: 100%;margin-bottom: 0;padding: 0.3em;box-sizing: border-box;text-align: center;}#sk-container-id-1 label.sk-toggleable__label-arrow:before {content: \"▸\";float: left;margin-right: 0.25em;color: #696969;}#sk-container-id-1 label.sk-toggleable__label-arrow:hover:before {color: black;}#sk-container-id-1 div.sk-estimator:hover label.sk-toggleable__label-arrow:before {color: black;}#sk-container-id-1 div.sk-toggleable__content {max-height: 0;max-width: 0;overflow: hidden;text-align: left;background-color: #f0f8ff;}#sk-container-id-1 div.sk-toggleable__content pre {margin: 0.2em;color: black;border-radius: 0.25em;background-color: #f0f8ff;}#sk-container-id-1 input.sk-toggleable__control:checked~div.sk-toggleable__content {max-height: 200px;max-width: 100%;overflow: auto;}#sk-container-id-1 input.sk-toggleable__control:checked~label.sk-toggleable__label-arrow:before {content: \"▾\";}#sk-container-id-1 div.sk-estimator input.sk-toggleable__control:checked~label.sk-toggleable__label {background-color: #d4ebff;}#sk-container-id-1 div.sk-label input.sk-toggleable__control:checked~label.sk-toggleable__label {background-color: #d4ebff;}#sk-container-id-1 input.sk-hidden--visually {border: 0;clip: rect(1px 1px 1px 1px);clip: rect(1px, 1px, 1px, 1px);height: 1px;margin: -1px;overflow: hidden;padding: 0;position: absolute;width: 1px;}#sk-container-id-1 div.sk-estimator {font-family: monospace;background-color: #f0f8ff;border: 1px dotted black;border-radius: 0.25em;box-sizing: border-box;margin-bottom: 0.5em;}#sk-container-id-1 div.sk-estimator:hover {background-color: #d4ebff;}#sk-container-id-1 div.sk-parallel-item::after {content: \"\";width: 100%;border-bottom: 1px solid gray;flex-grow: 1;}#sk-container-id-1 div.sk-label:hover label.sk-toggleable__label {background-color: #d4ebff;}#sk-container-id-1 div.sk-serial::before {content: \"\";position: absolute;border-left: 1px solid gray;box-sizing: border-box;top: 0;bottom: 0;left: 50%;z-index: 0;}#sk-container-id-1 div.sk-serial {display: flex;flex-direction: column;align-items: center;background-color: white;padding-right: 0.2em;padding-left: 0.2em;position: relative;}#sk-container-id-1 div.sk-item {position: relative;z-index: 1;}#sk-container-id-1 div.sk-parallel {display: flex;align-items: stretch;justify-content: center;background-color: white;position: relative;}#sk-container-id-1 div.sk-item::before, #sk-container-id-1 div.sk-parallel-item::before {content: \"\";position: absolute;border-left: 1px solid gray;box-sizing: border-box;top: 0;bottom: 0;left: 50%;z-index: -1;}#sk-container-id-1 div.sk-parallel-item {display: flex;flex-direction: column;z-index: 1;position: relative;background-color: white;}#sk-container-id-1 div.sk-parallel-item:first-child::after {align-self: flex-end;width: 50%;}#sk-container-id-1 div.sk-parallel-item:last-child::after {align-self: flex-start;width: 50%;}#sk-container-id-1 div.sk-parallel-item:only-child::after {width: 0;}#sk-container-id-1 div.sk-dashed-wrapped {border: 1px dashed gray;margin: 0 0.4em 0.5em 0.4em;box-sizing: border-box;padding-bottom: 0.4em;background-color: white;}#sk-container-id-1 div.sk-label label {font-family: monospace;font-weight: bold;display: inline-block;line-height: 1.2em;}#sk-container-id-1 div.sk-label-container {text-align: center;}#sk-container-id-1 div.sk-container {/* jupyter's `normalize.less` sets `[hidden] { display: none; }` but bootstrap.min.css set `[hidden] { display: none !important; }` so we also need the `!important` here to be able to override the default hidden behavior on the sphinx rendered scikit-learn.org. See: https://github.com/scikit-learn/scikit-learn/issues/21755 */display: inline-block !important;position: relative;}#sk-container-id-1 div.sk-text-repr-fallback {display: none;}</style><div id=\"sk-container-id-1\" class=\"sk-top-container\"><div class=\"sk-text-repr-fallback\"><pre>MultinomialNB()</pre><b>In a Jupyter environment, please rerun this cell to show the HTML representation or trust the notebook. <br />On GitHub, the HTML representation is unable to render, please try loading this page with nbviewer.org.</b></div><div class=\"sk-container\" hidden><div class=\"sk-item\"><div class=\"sk-estimator sk-toggleable\"><input class=\"sk-toggleable__control sk-hidden--visually\" id=\"sk-estimator-id-1\" type=\"checkbox\" checked><label for=\"sk-estimator-id-1\" class=\"sk-toggleable__label sk-toggleable__label-arrow\">MultinomialNB</label><div class=\"sk-toggleable__content\"><pre>MultinomialNB()</pre></div></div></div></div></div>"
      ],
      "text/plain": [
       "MultinomialNB()"
      ]
     },
     "execution_count": 12,
     "metadata": {},
     "output_type": "execute_result"
    }
   ],
   "source": [
    "nbclf = MultinomialNB()\n",
    "nbclf.fit(X_train_count, y_train)"
   ]
  },
  {
   "cell_type": "code",
   "execution_count": 13,
   "metadata": {},
   "outputs": [
    {
     "name": "stdout",
     "output_type": "stream",
     "text": [
      "                       precision    recall  f1-score   support\n",
      "\n",
      "        comp.graphics       0.99      0.98      0.98       584\n",
      "comp.sys.mac.hardware       0.98      0.99      0.99       578\n",
      "         misc.forsale       0.98      0.95      0.96       585\n",
      "      rec.motorcycles       0.99      0.99      0.99       598\n",
      "   rec.sport.baseball       0.99      0.99      0.99       597\n",
      "     rec.sport.hockey       0.99      0.99      0.99       600\n",
      "              sci.med       0.99      0.99      0.99       594\n",
      "            sci.space       0.99      1.00      0.99       593\n",
      "   talk.politics.misc       0.97      0.98      0.98       465\n",
      "\n",
      "             accuracy                           0.99      5194\n",
      "            macro avg       0.99      0.99      0.99      5194\n",
      "         weighted avg       0.99      0.99      0.99      5194\n",
      "\n"
     ]
    }
   ],
   "source": [
    "# Get performance on training data\n",
    "print(classification_report(y_train, nbclf.predict(X_train_count),\n",
    "                            target_names=categories))"
   ]
  },
  {
   "cell_type": "code",
   "execution_count": 14,
   "metadata": {},
   "outputs": [
    {
     "name": "stdout",
     "output_type": "stream",
     "text": [
      "                       precision    recall  f1-score   support\n",
      "\n",
      "        comp.graphics       0.89      0.88      0.89       389\n",
      "comp.sys.mac.hardware       0.87      0.90      0.89       385\n",
      "         misc.forsale       0.94      0.84      0.89       390\n",
      "      rec.motorcycles       0.94      0.97      0.96       398\n",
      "   rec.sport.baseball       0.96      0.92      0.94       397\n",
      "     rec.sport.hockey       0.95      0.97      0.96       399\n",
      "              sci.med       0.94      0.88      0.91       396\n",
      "            sci.space       0.92      0.92      0.92       394\n",
      "   talk.politics.misc       0.79      0.92      0.85       310\n",
      "\n",
      "             accuracy                           0.91      3458\n",
      "            macro avg       0.91      0.91      0.91      3458\n",
      "         weighted avg       0.91      0.91      0.91      3458\n",
      "\n"
     ]
    }
   ],
   "source": [
    "# Get performance on test data\n",
    "print(classification_report(y_test, nbclf.predict(X_test_count),\n",
    "                            target_names=categories))"
   ]
  },
  {
   "cell_type": "markdown",
   "metadata": {},
   "source": [
    "## Create Features Using TFIDF"
   ]
  },
  {
   "cell_type": "code",
   "execution_count": 15,
   "metadata": {},
   "outputs": [],
   "source": [
    "tfidf = TfidfTransformer(sublinear_tf=True)\n",
    "X_train_tfidf = tfidf.fit_transform(X_train_count)\n",
    "X_test_tfidf = tfidf.transform(X_test_count)"
   ]
  },
  {
   "cell_type": "code",
   "execution_count": 16,
   "metadata": {},
   "outputs": [
    {
     "name": "stdout",
     "output_type": "stream",
     "text": [
      "  (0, 58229)\t0.019287768719228455\n",
      "  (0, 58169)\t0.04594157348293114\n",
      "  (0, 58138)\t0.06317909376864346\n",
      "  (0, 58135)\t0.03568838211286805\n",
      "  (0, 57653)\t0.024972197493817093\n",
      "  (0, 57591)\t0.05930581104048054\n",
      "  (0, 57576)\t0.054852000970564085\n",
      "  (0, 57409)\t0.04087405232268578\n",
      "  (0, 57253)\t0.02582611352744685\n",
      "  (0, 57157)\t0.02837476802177446\n",
      "  (0, 56943)\t0.032339190124601916\n",
      "  (0, 54762)\t0.045130733404283335\n",
      "  (0, 54326)\t0.03381676930365297\n",
      "  (0, 54313)\t0.08004186842442218\n",
      "  (0, 53868)\t0.07251040595481816\n",
      "  (0, 53867)\t0.05859117504607184\n",
      "  (0, 53832)\t0.09060701052083063\n",
      "  (0, 53451)\t0.03479391882259832\n",
      "  (0, 53335)\t0.03538145590648953\n",
      "  (0, 53055)\t0.07498277324262885\n",
      "  (0, 52992)\t0.0447270667514861\n",
      "  (0, 52924)\t0.031774985597274784\n",
      "  (0, 52889)\t0.09727037018440685\n",
      "  (0, 52769)\t0.051004693901110884\n",
      "  (0, 52762)\t0.03564750444094615\n",
      "  :\t:\n",
      "  (0, 12176)\t0.05334678709712213\n",
      "  (0, 11764)\t0.10552369159426973\n",
      "  (0, 11707)\t0.0631900702532717\n",
      "  (0, 11351)\t0.03668339662697836\n",
      "  (0, 11109)\t0.038701113908343986\n",
      "  (0, 11071)\t0.21621499828378873\n",
      "  (0, 10896)\t0.05305277152023854\n",
      "  (0, 10564)\t0.055864218300039487\n",
      "  (0, 10557)\t0.04331936826696676\n",
      "  (0, 10492)\t0.10757448809883176\n",
      "  (0, 10459)\t0.10552369159426973\n",
      "  (0, 10453)\t0.06727209077991235\n",
      "  (0, 10285)\t0.030360597747825662\n",
      "  (0, 10216)\t0.024226933675978186\n",
      "  (0, 10000)\t0.06584704629124194\n",
      "  (0, 9979)\t0.03108211032771278\n",
      "  (0, 9954)\t0.054115248937845924\n",
      "  (0, 9866)\t0.024337094701073644\n",
      "  (0, 9538)\t0.04444185489098795\n",
      "  (0, 9294)\t0.05099127085376396\n",
      "  (0, 9043)\t0.05906280207801327\n",
      "  (0, 8852)\t0.06871856914035099\n",
      "  (0, 7151)\t0.05283692828295997\n",
      "  (0, 5208)\t0.05123805742599288\n",
      "  (0, 4783)\t0.052765841350210195\n"
     ]
    }
   ],
   "source": [
    "print(X_train_tfidf[0])"
   ]
  },
  {
   "cell_type": "markdown",
   "metadata": {},
   "source": [
    "## Fit Naive Bayes Model to TFIDF"
   ]
  },
  {
   "cell_type": "code",
   "execution_count": 17,
   "metadata": {},
   "outputs": [
    {
     "data": {
      "text/html": [
       "<style>#sk-container-id-2 {color: black;background-color: white;}#sk-container-id-2 pre{padding: 0;}#sk-container-id-2 div.sk-toggleable {background-color: white;}#sk-container-id-2 label.sk-toggleable__label {cursor: pointer;display: block;width: 100%;margin-bottom: 0;padding: 0.3em;box-sizing: border-box;text-align: center;}#sk-container-id-2 label.sk-toggleable__label-arrow:before {content: \"▸\";float: left;margin-right: 0.25em;color: #696969;}#sk-container-id-2 label.sk-toggleable__label-arrow:hover:before {color: black;}#sk-container-id-2 div.sk-estimator:hover label.sk-toggleable__label-arrow:before {color: black;}#sk-container-id-2 div.sk-toggleable__content {max-height: 0;max-width: 0;overflow: hidden;text-align: left;background-color: #f0f8ff;}#sk-container-id-2 div.sk-toggleable__content pre {margin: 0.2em;color: black;border-radius: 0.25em;background-color: #f0f8ff;}#sk-container-id-2 input.sk-toggleable__control:checked~div.sk-toggleable__content {max-height: 200px;max-width: 100%;overflow: auto;}#sk-container-id-2 input.sk-toggleable__control:checked~label.sk-toggleable__label-arrow:before {content: \"▾\";}#sk-container-id-2 div.sk-estimator input.sk-toggleable__control:checked~label.sk-toggleable__label {background-color: #d4ebff;}#sk-container-id-2 div.sk-label input.sk-toggleable__control:checked~label.sk-toggleable__label {background-color: #d4ebff;}#sk-container-id-2 input.sk-hidden--visually {border: 0;clip: rect(1px 1px 1px 1px);clip: rect(1px, 1px, 1px, 1px);height: 1px;margin: -1px;overflow: hidden;padding: 0;position: absolute;width: 1px;}#sk-container-id-2 div.sk-estimator {font-family: monospace;background-color: #f0f8ff;border: 1px dotted black;border-radius: 0.25em;box-sizing: border-box;margin-bottom: 0.5em;}#sk-container-id-2 div.sk-estimator:hover {background-color: #d4ebff;}#sk-container-id-2 div.sk-parallel-item::after {content: \"\";width: 100%;border-bottom: 1px solid gray;flex-grow: 1;}#sk-container-id-2 div.sk-label:hover label.sk-toggleable__label {background-color: #d4ebff;}#sk-container-id-2 div.sk-serial::before {content: \"\";position: absolute;border-left: 1px solid gray;box-sizing: border-box;top: 0;bottom: 0;left: 50%;z-index: 0;}#sk-container-id-2 div.sk-serial {display: flex;flex-direction: column;align-items: center;background-color: white;padding-right: 0.2em;padding-left: 0.2em;position: relative;}#sk-container-id-2 div.sk-item {position: relative;z-index: 1;}#sk-container-id-2 div.sk-parallel {display: flex;align-items: stretch;justify-content: center;background-color: white;position: relative;}#sk-container-id-2 div.sk-item::before, #sk-container-id-2 div.sk-parallel-item::before {content: \"\";position: absolute;border-left: 1px solid gray;box-sizing: border-box;top: 0;bottom: 0;left: 50%;z-index: -1;}#sk-container-id-2 div.sk-parallel-item {display: flex;flex-direction: column;z-index: 1;position: relative;background-color: white;}#sk-container-id-2 div.sk-parallel-item:first-child::after {align-self: flex-end;width: 50%;}#sk-container-id-2 div.sk-parallel-item:last-child::after {align-self: flex-start;width: 50%;}#sk-container-id-2 div.sk-parallel-item:only-child::after {width: 0;}#sk-container-id-2 div.sk-dashed-wrapped {border: 1px dashed gray;margin: 0 0.4em 0.5em 0.4em;box-sizing: border-box;padding-bottom: 0.4em;background-color: white;}#sk-container-id-2 div.sk-label label {font-family: monospace;font-weight: bold;display: inline-block;line-height: 1.2em;}#sk-container-id-2 div.sk-label-container {text-align: center;}#sk-container-id-2 div.sk-container {/* jupyter's `normalize.less` sets `[hidden] { display: none; }` but bootstrap.min.css set `[hidden] { display: none !important; }` so we also need the `!important` here to be able to override the default hidden behavior on the sphinx rendered scikit-learn.org. See: https://github.com/scikit-learn/scikit-learn/issues/21755 */display: inline-block !important;position: relative;}#sk-container-id-2 div.sk-text-repr-fallback {display: none;}</style><div id=\"sk-container-id-2\" class=\"sk-top-container\"><div class=\"sk-text-repr-fallback\"><pre>MultinomialNB()</pre><b>In a Jupyter environment, please rerun this cell to show the HTML representation or trust the notebook. <br />On GitHub, the HTML representation is unable to render, please try loading this page with nbviewer.org.</b></div><div class=\"sk-container\" hidden><div class=\"sk-item\"><div class=\"sk-estimator sk-toggleable\"><input class=\"sk-toggleable__control sk-hidden--visually\" id=\"sk-estimator-id-2\" type=\"checkbox\" checked><label for=\"sk-estimator-id-2\" class=\"sk-toggleable__label sk-toggleable__label-arrow\">MultinomialNB</label><div class=\"sk-toggleable__content\"><pre>MultinomialNB()</pre></div></div></div></div></div>"
      ],
      "text/plain": [
       "MultinomialNB()"
      ]
     },
     "execution_count": 17,
     "metadata": {},
     "output_type": "execute_result"
    }
   ],
   "source": [
    "nbclf = MultinomialNB()\n",
    "nbclf.fit(X_train_tfidf, y_train)"
   ]
  },
  {
   "cell_type": "code",
   "execution_count": 18,
   "metadata": {},
   "outputs": [
    {
     "name": "stdout",
     "output_type": "stream",
     "text": [
      "                       precision    recall  f1-score   support\n",
      "\n",
      "        comp.graphics       0.99      0.97      0.98       584\n",
      "comp.sys.mac.hardware       0.97      0.99      0.98       578\n",
      "         misc.forsale       0.99      0.94      0.96       585\n",
      "      rec.motorcycles       0.99      0.99      0.99       598\n",
      "   rec.sport.baseball       0.99      0.99      0.99       597\n",
      "     rec.sport.hockey       0.98      0.99      0.99       600\n",
      "              sci.med       0.98      0.99      0.98       594\n",
      "            sci.space       0.98      1.00      0.99       593\n",
      "   talk.politics.misc       1.00      0.98      0.99       465\n",
      "\n",
      "             accuracy                           0.98      5194\n",
      "            macro avg       0.98      0.98      0.98      5194\n",
      "         weighted avg       0.98      0.98      0.98      5194\n",
      "\n"
     ]
    }
   ],
   "source": [
    "# Get performance on training data\n",
    "print(classification_report(y_train, nbclf.predict(X_train_tfidf),\n",
    "                            target_names=categories))"
   ]
  },
  {
   "cell_type": "code",
   "execution_count": 19,
   "metadata": {},
   "outputs": [
    {
     "name": "stdout",
     "output_type": "stream",
     "text": [
      "                       precision    recall  f1-score   support\n",
      "\n",
      "        comp.graphics       0.93      0.84      0.89       389\n",
      "comp.sys.mac.hardware       0.86      0.92      0.89       385\n",
      "         misc.forsale       0.97      0.83      0.89       390\n",
      "      rec.motorcycles       0.93      0.98      0.96       398\n",
      "   rec.sport.baseball       0.93      0.94      0.93       397\n",
      "     rec.sport.hockey       0.90      0.99      0.94       399\n",
      "              sci.med       0.92      0.92      0.92       396\n",
      "            sci.space       0.87      0.96      0.91       394\n",
      "   talk.politics.misc       0.97      0.83      0.90       310\n",
      "\n",
      "             accuracy                           0.92      3458\n",
      "            macro avg       0.92      0.91      0.91      3458\n",
      "         weighted avg       0.92      0.92      0.92      3458\n",
      "\n"
     ]
    }
   ],
   "source": [
    "# Get performance on test data\n",
    "print(classification_report(y_test, nbclf.predict(X_test_tfidf),\n",
    "                            target_names=categories))"
   ]
  },
  {
   "cell_type": "code",
   "execution_count": 20,
   "metadata": {},
   "outputs": [
    {
     "data": {
      "text/plain": [
       "['comp.graphics',\n",
       " 'comp.sys.mac.hardware',\n",
       " 'misc.forsale',\n",
       " 'rec.motorcycles',\n",
       " 'rec.sport.baseball',\n",
       " 'rec.sport.hockey',\n",
       " 'sci.med',\n",
       " 'sci.space',\n",
       " 'talk.politics.misc']"
      ]
     },
     "execution_count": 20,
     "metadata": {},
     "output_type": "execute_result"
    }
   ],
   "source": [
    "categories"
   ]
  },
  {
   "cell_type": "code",
   "execution_count": 21,
   "metadata": {},
   "outputs": [
    {
     "data": {
      "image/png": "[encoded data removed]",
      "text/plain": [
       "<Figure size 640x480 with 2 Axes>"
      ]
     },
     "metadata": {},
     "output_type": "display_data"
    }
   ],
   "source": [
    "fig, ax = plt.subplots()\n",
    "ConfusionMatrixDisplay.from_estimator(nbclf, X_test_tfidf, y_test,\n",
    "                                      display_labels=categories, ax=ax)\n",
    "ax.grid(False)\n",
    "plt.xticks(rotation=90)\n",
    "plt.show()"
   ]
  },
  {
   "cell_type": "markdown",
   "metadata": {},
   "source": [
    "## Use a Pipeline"
   ]
  },
  {
   "cell_type": "code",
   "execution_count": 22,
   "metadata": {},
   "outputs": [],
   "source": [
    "clf = Pipeline([\n",
    "    ('tfidf', TfidfVectorizer(sublinear_tf=True)),\n",
    "    ('nbclf', MultinomialNB()),\n",
    "])"
   ]
  },
  {
   "cell_type": "code",
   "execution_count": 23,
   "metadata": {},
   "outputs": [
    {
     "data": {
      "text/html": [
       "<style>#sk-container-id-3 {color: black;background-color: white;}#sk-container-id-3 pre{padding: 0;}#sk-container-id-3 div.sk-toggleable {background-color: white;}#sk-container-id-3 label.sk-toggleable__label {cursor: pointer;display: block;width: 100%;margin-bottom: 0;padding: 0.3em;box-sizing: border-box;text-align: center;}#sk-container-id-3 label.sk-toggleable__label-arrow:before {content: \"▸\";float: left;margin-right: 0.25em;color: #696969;}#sk-container-id-3 label.sk-toggleable__label-arrow:hover:before {color: black;}#sk-container-id-3 div.sk-estimator:hover label.sk-toggleable__label-arrow:before {color: black;}#sk-container-id-3 div.sk-toggleable__content {max-height: 0;max-width: 0;overflow: hidden;text-align: left;background-color: #f0f8ff;}#sk-container-id-3 div.sk-toggleable__content pre {margin: 0.2em;color: black;border-radius: 0.25em;background-color: #f0f8ff;}#sk-container-id-3 input.sk-toggleable__control:checked~div.sk-toggleable__content {max-height: 200px;max-width: 100%;overflow: auto;}#sk-container-id-3 input.sk-toggleable__control:checked~label.sk-toggleable__label-arrow:before {content: \"▾\";}#sk-container-id-3 div.sk-estimator input.sk-toggleable__control:checked~label.sk-toggleable__label {background-color: #d4ebff;}#sk-container-id-3 div.sk-label input.sk-toggleable__control:checked~label.sk-toggleable__label {background-color: #d4ebff;}#sk-container-id-3 input.sk-hidden--visually {border: 0;clip: rect(1px 1px 1px 1px);clip: rect(1px, 1px, 1px, 1px);height: 1px;margin: -1px;overflow: hidden;padding: 0;position: absolute;width: 1px;}#sk-container-id-3 div.sk-estimator {font-family: monospace;background-color: #f0f8ff;border: 1px dotted black;border-radius: 0.25em;box-sizing: border-box;margin-bottom: 0.5em;}#sk-container-id-3 div.sk-estimator:hover {background-color: #d4ebff;}#sk-container-id-3 div.sk-parallel-item::after {content: \"\";width: 100%;border-bottom: 1px solid gray;flex-grow: 1;}#sk-container-id-3 div.sk-label:hover label.sk-toggleable__label {background-color: #d4ebff;}#sk-container-id-3 div.sk-serial::before {content: \"\";position: absolute;border-left: 1px solid gray;box-sizing: border-box;top: 0;bottom: 0;left: 50%;z-index: 0;}#sk-container-id-3 div.sk-serial {display: flex;flex-direction: column;align-items: center;background-color: white;padding-right: 0.2em;padding-left: 0.2em;position: relative;}#sk-container-id-3 div.sk-item {position: relative;z-index: 1;}#sk-container-id-3 div.sk-parallel {display: flex;align-items: stretch;justify-content: center;background-color: white;position: relative;}#sk-container-id-3 div.sk-item::before, #sk-container-id-3 div.sk-parallel-item::before {content: \"\";position: absolute;border-left: 1px solid gray;box-sizing: border-box;top: 0;bottom: 0;left: 50%;z-index: -1;}#sk-container-id-3 div.sk-parallel-item {display: flex;flex-direction: column;z-index: 1;position: relative;background-color: white;}#sk-container-id-3 div.sk-parallel-item:first-child::after {align-self: flex-end;width: 50%;}#sk-container-id-3 div.sk-parallel-item:last-child::after {align-self: flex-start;width: 50%;}#sk-container-id-3 div.sk-parallel-item:only-child::after {width: 0;}#sk-container-id-3 div.sk-dashed-wrapped {border: 1px dashed gray;margin: 0 0.4em 0.5em 0.4em;box-sizing: border-box;padding-bottom: 0.4em;background-color: white;}#sk-container-id-3 div.sk-label label {font-family: monospace;font-weight: bold;display: inline-block;line-height: 1.2em;}#sk-container-id-3 div.sk-label-container {text-align: center;}#sk-container-id-3 div.sk-container {/* jupyter's `normalize.less` sets `[hidden] { display: none; }` but bootstrap.min.css set `[hidden] { display: none !important; }` so we also need the `!important` here to be able to override the default hidden behavior on the sphinx rendered scikit-learn.org. See: https://github.com/scikit-learn/scikit-learn/issues/21755 */display: inline-block !important;position: relative;}#sk-container-id-3 div.sk-text-repr-fallback {display: none;}</style><div id=\"sk-container-id-3\" class=\"sk-top-container\"><div class=\"sk-text-repr-fallback\"><pre>Pipeline(steps=[(&#x27;tfidf&#x27;, TfidfVectorizer(sublinear_tf=True)),\n",
       "                (&#x27;nbclf&#x27;, MultinomialNB())])</pre><b>In a Jupyter environment, please rerun this cell to show the HTML representation or trust the notebook. <br />On GitHub, the HTML representation is unable to render, please try loading this page with nbviewer.org.</b></div><div class=\"sk-container\" hidden><div class=\"sk-item sk-dashed-wrapped\"><div class=\"sk-label-container\"><div class=\"sk-label sk-toggleable\"><input class=\"sk-toggleable__control sk-hidden--visually\" id=\"sk-estimator-id-3\" type=\"checkbox\" ><label for=\"sk-estimator-id-3\" class=\"sk-toggleable__label sk-toggleable__label-arrow\">Pipeline</label><div class=\"sk-toggleable__content\"><pre>Pipeline(steps=[(&#x27;tfidf&#x27;, TfidfVectorizer(sublinear_tf=True)),\n",
       "                (&#x27;nbclf&#x27;, MultinomialNB())])</pre></div></div></div><div class=\"sk-serial\"><div class=\"sk-item\"><div class=\"sk-estimator sk-toggleable\"><input class=\"sk-toggleable__control sk-hidden--visually\" id=\"sk-estimator-id-4\" type=\"checkbox\" ><label for=\"sk-estimator-id-4\" class=\"sk-toggleable__label sk-toggleable__label-arrow\">TfidfVectorizer</label><div class=\"sk-toggleable__content\"><pre>TfidfVectorizer(sublinear_tf=True)</pre></div></div></div><div class=\"sk-item\"><div class=\"sk-estimator sk-toggleable\"><input class=\"sk-toggleable__control sk-hidden--visually\" id=\"sk-estimator-id-5\" type=\"checkbox\" ><label for=\"sk-estimator-id-5\" class=\"sk-toggleable__label sk-toggleable__label-arrow\">MultinomialNB</label><div class=\"sk-toggleable__content\"><pre>MultinomialNB()</pre></div></div></div></div></div></div></div>"
      ],
      "text/plain": [
       "Pipeline(steps=[('tfidf', TfidfVectorizer(sublinear_tf=True)),\n",
       "                ('nbclf', MultinomialNB())])"
      ]
     },
     "execution_count": 23,
     "metadata": {},
     "output_type": "execute_result"
    }
   ],
   "source": [
    "clf.fit(X_train_raw, y_train)"
   ]
  },
  {
   "cell_type": "code",
   "execution_count": 24,
   "metadata": {},
   "outputs": [
    {
     "name": "stdout",
     "output_type": "stream",
     "text": [
      "                       precision    recall  f1-score   support\n",
      "\n",
      "        comp.graphics       0.99      0.97      0.98       584\n",
      "comp.sys.mac.hardware       0.97      0.99      0.98       578\n",
      "         misc.forsale       0.99      0.94      0.96       585\n",
      "      rec.motorcycles       0.99      0.99      0.99       598\n",
      "   rec.sport.baseball       0.99      0.99      0.99       597\n",
      "     rec.sport.hockey       0.98      0.99      0.99       600\n",
      "              sci.med       0.98      0.99      0.98       594\n",
      "            sci.space       0.98      1.00      0.99       593\n",
      "   talk.politics.misc       1.00      0.98      0.99       465\n",
      "\n",
      "             accuracy                           0.98      5194\n",
      "            macro avg       0.98      0.98      0.98      5194\n",
      "         weighted avg       0.98      0.98      0.98      5194\n",
      "\n"
     ]
    }
   ],
   "source": [
    "# Get performance on training data\n",
    "print(classification_report(y_train, clf.predict(X_train_raw),\n",
    "                            target_names=categories))"
   ]
  },
  {
   "cell_type": "code",
   "execution_count": 25,
   "metadata": {},
   "outputs": [
    {
     "name": "stdout",
     "output_type": "stream",
     "text": [
      "                       precision    recall  f1-score   support\n",
      "\n",
      "        comp.graphics       0.93      0.84      0.89       389\n",
      "comp.sys.mac.hardware       0.86      0.92      0.89       385\n",
      "         misc.forsale       0.97      0.83      0.89       390\n",
      "      rec.motorcycles       0.93      0.98      0.96       398\n",
      "   rec.sport.baseball       0.93      0.94      0.93       397\n",
      "     rec.sport.hockey       0.90      0.99      0.94       399\n",
      "              sci.med       0.92      0.92      0.92       396\n",
      "            sci.space       0.87      0.96      0.91       394\n",
      "   talk.politics.misc       0.97      0.83      0.90       310\n",
      "\n",
      "             accuracy                           0.92      3458\n",
      "            macro avg       0.92      0.91      0.91      3458\n",
      "         weighted avg       0.92      0.92      0.92      3458\n",
      "\n"
     ]
    }
   ],
   "source": [
    "# Get performance on test data\n",
    "print(classification_report(y_test, clf.predict(X_test_raw),\n",
    "                            target_names=categories))"
   ]
  }
 ],
 "metadata": {
  "kernelspec": {
   "display_name": "Python 3 (ipykernel)",
   "language": "python",
   "name": "python3"
  },
  "language_info": {
   "codemirror_mode": {
    "name": "ipython",
    "version": 3
   },
   "file_extension": ".py",
   "mimetype": "text/x-python",
   "name": "python",
   "nbconvert_exporter": "python",
   "pygments_lexer": "ipython3",
   "version": "3.10.9"
  }
 },
 "nbformat": 4,
 "nbformat_minor": 4
}
