{
 "cells": [
  {
   "cell_type": "markdown",
   "id": "182472b5-2411-4b98-bb88-0596c5aad11b",
   "metadata": {},
   "source": [
    "# Lending Club (Decision Trees)"
   ]
  },
  {
   "cell_type": "markdown",
   "id": "076c10cc-6c29-4f18-a0a8-3d0f71c87b6b",
   "metadata": {},
   "source": [
    "## Load Libraries and Data"
   ]
  },
  {
   "cell_type": "code",
   "execution_count": 1,
   "id": "489027d7-015f-4b0f-871f-a477fd53975f",
   "metadata": {},
   "outputs": [],
   "source": [
    "# Load packages\n",
    "import io\n",
    "import requests \n",
    "import numpy as np\n",
    "import pandas as pd\n",
    "from sklearn import tree\n",
    "from sklearn.tree import DecisionTreeClassifier\n",
    "from sklearn.preprocessing import OneHotEncoder\n",
    "from sklearn.ensemble import RandomForestClassifier\n",
    "from sklearn.metrics import accuracy_score, confusion_matrix\n",
    "from sklearn.model_selection import (cross_validate, train_test_split,\n",
    "                                     GridSearchCV)\n",
    "from matplotlib import pyplot as plt\n",
    "import seaborn as sns\n",
    "\n",
    "# Make this notebook's output stable across runs\n",
    "random_state = 10\n",
    "np.random.seed(random_state)\n",
    "\n",
    "# Options for plots\n",
    "%matplotlib inline\n",
    "sns.set()\n",
    "\n",
    "# Do not use scientific notation in pandas tables\n",
    "pd.options.display.float_format = '{:,.4f}'.format"
   ]
  },
  {
   "cell_type": "code",
   "execution_count": 2,
   "id": "7fff5b07-758a-4e3f-bacd-705a1badb38e",
   "metadata": {},
   "outputs": [
    {
     "data": {
      "text/plain": [
       "(100000, 151)"
      ]
     },
     "execution_count": 2,
     "metadata": {},
     "output_type": "execute_result"
    }
   ],
   "source": [
    "url = 'https://raw.githubusercontent.com/natecraig/aiml/main/Data/Lending Club.csv'\n",
    "download = requests.get(url).content\n",
    "df = pd.read_csv(io.StringIO(download.decode('utf-8')), low_memory=False)\n",
    "df.head()\n",
    "df.shape"
   ]
  },
  {
   "cell_type": "code",
   "execution_count": 3,
   "id": "42a3571c-e6d8-43e5-9959-237ab1b39ddc",
   "metadata": {},
   "outputs": [
    {
     "data": {
      "text/plain": [
       "(10000, 151)"
      ]
     },
     "execution_count": 3,
     "metadata": {},
     "output_type": "execute_result"
    }
   ],
   "source": [
    "# Take a random sample of 10,000 observations to make computation faster\n",
    "\n",
    "# Note that we would not want to do this when building a model for production\n",
    "df = df.sample(n=10_000)\n",
    "df.shape"
   ]
  },
  {
   "cell_type": "code",
   "execution_count": 4,
   "id": "437a7c6a-4691-4d35-88e7-6ee275051b2f",
   "metadata": {},
   "outputs": [
    {
     "data": {
      "text/html": [
       "<div>\n",
       "<style scoped>\n",
       "    .dataframe tbody tr th:only-of-type {\n",
       "        vertical-align: middle;\n",
       "    }\n",
       "\n",
       "    .dataframe tbody tr th {\n",
       "        vertical-align: top;\n",
       "    }\n",
       "\n",
       "    .dataframe thead th {\n",
       "        text-align: right;\n",
       "    }\n",
       "</style>\n",
       "<table border=\"1\" class=\"dataframe\">\n",
       "  <thead>\n",
       "    <tr style=\"text-align: right;\">\n",
       "      <th></th>\n",
       "      <th>id</th>\n",
       "      <th>member_id</th>\n",
       "      <th>loan_amnt</th>\n",
       "      <th>funded_amnt</th>\n",
       "      <th>funded_amnt_inv</th>\n",
       "      <th>term</th>\n",
       "      <th>int_rate</th>\n",
       "      <th>installment</th>\n",
       "      <th>grade</th>\n",
       "      <th>sub_grade</th>\n",
       "      <th>...</th>\n",
       "      <th>hardship_payoff_balance_amount</th>\n",
       "      <th>hardship_last_payment_amount</th>\n",
       "      <th>disbursement_method</th>\n",
       "      <th>debt_settlement_flag</th>\n",
       "      <th>debt_settlement_flag_date</th>\n",
       "      <th>settlement_status</th>\n",
       "      <th>settlement_date</th>\n",
       "      <th>settlement_amount</th>\n",
       "      <th>settlement_percentage</th>\n",
       "      <th>settlement_term</th>\n",
       "    </tr>\n",
       "  </thead>\n",
       "  <tbody>\n",
       "    <tr>\n",
       "      <th>33226</th>\n",
       "      <td>30064803</td>\n",
       "      <td>NaN</td>\n",
       "      <td>6,000.0000</td>\n",
       "      <td>6,000.0000</td>\n",
       "      <td>6,000.0000</td>\n",
       "      <td>36 months</td>\n",
       "      <td>11.6700</td>\n",
       "      <td>198.3500</td>\n",
       "      <td>B</td>\n",
       "      <td>B4</td>\n",
       "      <td>...</td>\n",
       "      <td>NaN</td>\n",
       "      <td>NaN</td>\n",
       "      <td>Cash</td>\n",
       "      <td>N</td>\n",
       "      <td>NaN</td>\n",
       "      <td>NaN</td>\n",
       "      <td>NaN</td>\n",
       "      <td>NaN</td>\n",
       "      <td>NaN</td>\n",
       "      <td>NaN</td>\n",
       "    </tr>\n",
       "    <tr>\n",
       "      <th>64804</th>\n",
       "      <td>5948239</td>\n",
       "      <td>NaN</td>\n",
       "      <td>6,625.0000</td>\n",
       "      <td>6,625.0000</td>\n",
       "      <td>6,625.0000</td>\n",
       "      <td>36 months</td>\n",
       "      <td>11.5500</td>\n",
       "      <td>218.6300</td>\n",
       "      <td>B</td>\n",
       "      <td>B3</td>\n",
       "      <td>...</td>\n",
       "      <td>NaN</td>\n",
       "      <td>NaN</td>\n",
       "      <td>Cash</td>\n",
       "      <td>N</td>\n",
       "      <td>NaN</td>\n",
       "      <td>NaN</td>\n",
       "      <td>NaN</td>\n",
       "      <td>NaN</td>\n",
       "      <td>NaN</td>\n",
       "      <td>NaN</td>\n",
       "    </tr>\n",
       "    <tr>\n",
       "      <th>39763</th>\n",
       "      <td>17714025</td>\n",
       "      <td>NaN</td>\n",
       "      <td>10,850.0000</td>\n",
       "      <td>10,850.0000</td>\n",
       "      <td>10,850.0000</td>\n",
       "      <td>36 months</td>\n",
       "      <td>14.9900</td>\n",
       "      <td>376.0700</td>\n",
       "      <td>C</td>\n",
       "      <td>C5</td>\n",
       "      <td>...</td>\n",
       "      <td>NaN</td>\n",
       "      <td>NaN</td>\n",
       "      <td>Cash</td>\n",
       "      <td>N</td>\n",
       "      <td>NaN</td>\n",
       "      <td>NaN</td>\n",
       "      <td>NaN</td>\n",
       "      <td>NaN</td>\n",
       "      <td>NaN</td>\n",
       "      <td>NaN</td>\n",
       "    </tr>\n",
       "    <tr>\n",
       "      <th>51270</th>\n",
       "      <td>11624789</td>\n",
       "      <td>NaN</td>\n",
       "      <td>6,150.0000</td>\n",
       "      <td>6,150.0000</td>\n",
       "      <td>6,150.0000</td>\n",
       "      <td>36 months</td>\n",
       "      <td>14.9800</td>\n",
       "      <td>213.1400</td>\n",
       "      <td>C</td>\n",
       "      <td>C3</td>\n",
       "      <td>...</td>\n",
       "      <td>NaN</td>\n",
       "      <td>NaN</td>\n",
       "      <td>Cash</td>\n",
       "      <td>N</td>\n",
       "      <td>NaN</td>\n",
       "      <td>NaN</td>\n",
       "      <td>NaN</td>\n",
       "      <td>NaN</td>\n",
       "      <td>NaN</td>\n",
       "      <td>NaN</td>\n",
       "    </tr>\n",
       "    <tr>\n",
       "      <th>9698</th>\n",
       "      <td>8414592</td>\n",
       "      <td>NaN</td>\n",
       "      <td>10,000.0000</td>\n",
       "      <td>10,000.0000</td>\n",
       "      <td>10,000.0000</td>\n",
       "      <td>36 months</td>\n",
       "      <td>7.9000</td>\n",
       "      <td>312.9100</td>\n",
       "      <td>A</td>\n",
       "      <td>A4</td>\n",
       "      <td>...</td>\n",
       "      <td>NaN</td>\n",
       "      <td>NaN</td>\n",
       "      <td>Cash</td>\n",
       "      <td>N</td>\n",
       "      <td>NaN</td>\n",
       "      <td>NaN</td>\n",
       "      <td>NaN</td>\n",
       "      <td>NaN</td>\n",
       "      <td>NaN</td>\n",
       "      <td>NaN</td>\n",
       "    </tr>\n",
       "  </tbody>\n",
       "</table>\n",
       "<p>5 rows × 151 columns</p>\n",
       "</div>"
      ],
      "text/plain": [
       "             id  member_id   loan_amnt  funded_amnt  funded_amnt_inv  \\\n",
       "33226  30064803        NaN  6,000.0000   6,000.0000       6,000.0000   \n",
       "64804   5948239        NaN  6,625.0000   6,625.0000       6,625.0000   \n",
       "39763  17714025        NaN 10,850.0000  10,850.0000      10,850.0000   \n",
       "51270  11624789        NaN  6,150.0000   6,150.0000       6,150.0000   \n",
       "9698    8414592        NaN 10,000.0000  10,000.0000      10,000.0000   \n",
       "\n",
       "             term  int_rate  installment grade sub_grade  ...  \\\n",
       "33226   36 months   11.6700     198.3500     B        B4  ...   \n",
       "64804   36 months   11.5500     218.6300     B        B3  ...   \n",
       "39763   36 months   14.9900     376.0700     C        C5  ...   \n",
       "51270   36 months   14.9800     213.1400     C        C3  ...   \n",
       "9698    36 months    7.9000     312.9100     A        A4  ...   \n",
       "\n",
       "      hardship_payoff_balance_amount hardship_last_payment_amount  \\\n",
       "33226                            NaN                          NaN   \n",
       "64804                            NaN                          NaN   \n",
       "39763                            NaN                          NaN   \n",
       "51270                            NaN                          NaN   \n",
       "9698                             NaN                          NaN   \n",
       "\n",
       "      disbursement_method  debt_settlement_flag debt_settlement_flag_date  \\\n",
       "33226                Cash                     N                       NaN   \n",
       "64804                Cash                     N                       NaN   \n",
       "39763                Cash                     N                       NaN   \n",
       "51270                Cash                     N                       NaN   \n",
       "9698                 Cash                     N                       NaN   \n",
       "\n",
       "      settlement_status settlement_date settlement_amount  \\\n",
       "33226               NaN             NaN               NaN   \n",
       "64804               NaN             NaN               NaN   \n",
       "39763               NaN             NaN               NaN   \n",
       "51270               NaN             NaN               NaN   \n",
       "9698                NaN             NaN               NaN   \n",
       "\n",
       "      settlement_percentage settlement_term  \n",
       "33226                   NaN             NaN  \n",
       "64804                   NaN             NaN  \n",
       "39763                   NaN             NaN  \n",
       "51270                   NaN             NaN  \n",
       "9698                    NaN             NaN  \n",
       "\n",
       "[5 rows x 151 columns]"
      ]
     },
     "execution_count": 4,
     "metadata": {},
     "output_type": "execute_result"
    }
   ],
   "source": [
    "df.head()"
   ]
  },
  {
   "cell_type": "code",
   "execution_count": 5,
   "id": "c8d7e8f3-4123-4e32-81b8-37135a0135cb",
   "metadata": {},
   "outputs": [
    {
     "data": {
      "text/plain": [
       "0    8330\n",
       "1    1670\n",
       "Name: default, dtype: int64"
      ]
     },
     "execution_count": 5,
     "metadata": {},
     "output_type": "execute_result"
    }
   ],
   "source": [
    "# Determine whether each borrower is a defaulter (1) or repayer (0)\n",
    "def loan_default(status):\n",
    "    if status == 'Default' or status == 'Charged Off':\n",
    "        return 1\n",
    "\n",
    "    return 0\n",
    "\n",
    "\n",
    "df['default'] = df['loan_status'].apply(loan_default)\n",
    "df['default'].value_counts()"
   ]
  },
  {
   "cell_type": "code",
   "execution_count": 6,
   "id": "37eb9a11-e45b-4573-b460-f23f4531f3cc",
   "metadata": {},
   "outputs": [
    {
     "data": {
      "text/plain": [
       "0.833"
      ]
     },
     "execution_count": 6,
     "metadata": {},
     "output_type": "execute_result"
    }
   ],
   "source": [
    "# What percent of borrowers do not default?\n",
    "1 - df['default'].mean()"
   ]
  },
  {
   "cell_type": "markdown",
   "id": "1cc51e04-acbe-49b5-b3fb-ae2dd73e76b9",
   "metadata": {},
   "source": [
    "## Example Decision Tree"
   ]
  },
  {
   "cell_type": "code",
   "execution_count": 7,
   "id": "7867b153-787d-4e88-a6b5-a52180626e83",
   "metadata": {},
   "outputs": [],
   "source": [
    "# Extract features (X) and target (y)\n",
    "feature_names = ['dti', 'fico_range_high']\n",
    "X = df[feature_names]\n",
    "y = df['default']\n",
    "\n",
    "# Split data into training and testing sets\n",
    "(X_train, X_test, \n",
    " y_train, y_test) = train_test_split(X, y, test_size=0.2,\n",
    "                                     stratify=y, random_state=random_state)"
   ]
  },
  {
   "cell_type": "code",
   "execution_count": 8,
   "id": "f48508c3-877f-4bc7-8b99-53fc088beabd",
   "metadata": {},
   "outputs": [
    {
     "name": "stdout",
     "output_type": "stream",
     "text": [
      "Accuracy: 0.8330\n"
     ]
    }
   ],
   "source": [
    "# Fit a decision tree with depth 2 and assess performance using accuracy\n",
    "# on training data\n",
    "tree_clf = DecisionTreeClassifier(max_depth=2, random_state=random_state)\n",
    "perf = cross_validate(tree_clf, X_train, y_train, cv=5, scoring='accuracy')\n",
    "print(f'Accuracy: {perf[\"test_score\"].mean():.4f}')"
   ]
  },
  {
   "cell_type": "code",
   "execution_count": 9,
   "id": "2489c970-d16b-4b18-a290-f6e5e03eeb2b",
   "metadata": {},
   "outputs": [
    {
     "data": {
      "image/png": "[encoded data removed]",
      "text/plain": [
       "<Figure size 1200x600 with 1 Axes>"
      ]
     },
     "metadata": {},
     "output_type": "display_data"
    }
   ],
   "source": [
    "# Visualize the decision tree\n",
    "class_names = ['Repayer', 'Default']\n",
    "tree_clf.fit(X_train, y_train)\n",
    "\n",
    "fig = plt.figure(figsize=(12, 6))\n",
    "tree.plot_tree(tree_clf, proportion=True,\n",
    "               feature_names=feature_names,\n",
    "               class_names=class_names, fontsize=10)\n",
    "plt.show()\n"
   ]
  },
  {
   "cell_type": "code",
   "execution_count": 10,
   "id": "9f9e44fa-3263-428a-b016-74d5cad388bb",
   "metadata": {},
   "outputs": [
    {
     "name": "stdout",
     "output_type": "stream",
     "text": [
      "Accuracy: 0.8330\n"
     ]
    },
    {
     "data": {
      "image/png": "[encoded data removed]",
      "text/plain": [
       "<Figure size 200x200 with 1 Axes>"
      ]
     },
     "metadata": {},
     "output_type": "display_data"
    }
   ],
   "source": [
    "# Visualize performance on test data with a confusion matrix\n",
    "tree_clf.fit(X_train, y_train)\n",
    "y_pred = tree_clf.predict(X_test)\n",
    "accuracy = accuracy_score(y_test, y_pred)\n",
    "print(f'Accuracy: {accuracy:.4f}')\n",
    "\n",
    "dfcm = pd.DataFrame(confusion_matrix(y_test, y_pred))\n",
    "\n",
    "plt.figure(figsize = (2, 2))\n",
    "sns.heatmap(dfcm, annot=True, cmap='Blues', fmt='g', cbar=False)\n",
    "plt.xlabel('Predicted Label')\n",
    "plt.ylabel('Actual Label')\n",
    "plt.tight_layout()\n",
    "plt.show()"
   ]
  }
 ],
 "metadata": {
  "kernelspec": {
   "display_name": "Python 3 (ipykernel)",
   "language": "python",
   "name": "python3"
  },
  "language_info": {
   "codemirror_mode": {
    "name": "ipython",
    "version": 3
   },
   "file_extension": ".py",
   "mimetype": "text/x-python",
   "name": "python",
   "nbconvert_exporter": "python",
   "pygments_lexer": "ipython3",
   "version": "3.10.9"
  }
 },
 "nbformat": 4,
 "nbformat_minor": 5
}
