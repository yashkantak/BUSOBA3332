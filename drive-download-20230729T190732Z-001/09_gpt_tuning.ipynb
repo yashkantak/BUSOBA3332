{
 "cells": [
  {
   "cell_type": "markdown",
   "id": "9d7a39a8-6cde-428f-bbef-de7c3f310ead",
   "metadata": {},
   "source": [
    "# Fine Tuning GPT for Sentiment Analysis"
   ]
  },
  {
   "cell_type": "markdown",
   "id": "bfeda8e1-ff01-412d-89bf-750bd72d8a44",
   "metadata": {},
   "source": [
    "## Load Libraries and Data"
   ]
  },
  {
   "cell_type": "code",
   "execution_count": 1,
   "id": "36c6d1bc-b0d1-4543-96c9-0dff306a5933",
   "metadata": {},
   "outputs": [],
   "source": [
    "# Installing OpenAI on Colab:\n",
    "# !pip install openai\n",
    "\n",
    "# Installing OpenAI locally:\n",
    "# pip install openai\n",
    "# conda install openai\n",
    "\n",
    "import os\n",
    "import io\n",
    "import requests\n",
    "import re\n",
    "import numpy as np\n",
    "import pandas as pd\n",
    "import openai\n",
    "from sklearn.metrics import accuracy_score\n",
    "\n",
    "# Note: see instructions for OpenAI setup at\n",
    "# https://github.com/openai/openai-python\n",
    "openai.api_key = os.getenv('OPENAI_API_KEY')"
   ]
  },
  {
   "cell_type": "markdown",
   "id": "eeb05a9f-2144-443a-8351-fe741e25e570",
   "metadata": {},
   "source": [
    "### Data Source\n",
    "\n",
    "IMDB movie reviews via: http://ai.stanford.edu/~amaas/data/sentiment/"
   ]
  },
  {
   "cell_type": "code",
   "execution_count": 2,
   "id": "40613d89-770b-4a54-b272-9d78cc6a500e",
   "metadata": {},
   "outputs": [],
   "source": [
    "train_url = 'https://raw.githubusercontent.com/natecraig/aiml/main/Data/Movie_Train.txt'\n",
    "test_url = 'https://raw.githubusercontent.com/natecraig/aiml/main/Data/Movie_Test.txt'\n",
    "\n",
    "train_download = requests.get(train_url).content\n",
    "test_download = requests.get(test_url).content\n",
    "\n",
    "# For train and test sets, the first 12,500 reviews are positive,\n",
    "# and the second 12,500 reviews are negative\n",
    "\n",
    "X_train_raw = []\n",
    "for l in io.StringIO(train_download.decode('utf-8')):\n",
    "    X_train_raw.append(l.strip())\n",
    "    \n",
    "X_test_raw = []\n",
    "for l in io.StringIO(test_download.decode('utf-8')):\n",
    "    X_test_raw.append(l.strip())\n",
    "    \n",
    "categories = ['Negative', 'Positive']\n",
    "y_train = [1 if i < 12500 else 0 for i in range(25000)] \n",
    "y_test = [1 if i < 12500 else 0 for i in range(25000)]"
   ]
  },
  {
   "cell_type": "code",
   "execution_count": 3,
   "id": "39ed18ab-9a49-4566-9821-a86dc67eb97c",
   "metadata": {},
   "outputs": [],
   "source": [
    "# Drop HTML line breaks\n",
    "regex = re.compile(\"(<br\\s*/><br\\s*/>)|(\\-)|(\\/)\")\n",
    "X_test = [regex.sub(' ', x) for x in X_test_raw]\n",
    "X_train = [regex.sub(' ', x) for x in X_test_raw]"
   ]
  },
  {
   "cell_type": "code",
   "execution_count": 4,
   "id": "ccb2ab90-fce6-481e-9057-0b858c8593e1",
   "metadata": {},
   "outputs": [
    {
     "name": "stdout",
     "output_type": "stream",
     "text": [
      "This is halfway to being a top movie. The opening section, which spoofs Hollywood \"social message\" films is absolutely brilliant. It is a riot from start to finish. The second section, which introduces us to the main characters of the story is really great too. We get a lot of great comic setups, top notch performances, and the dialog is really dynamic. (Spoiler warning!) The one think that really annoyed me about this film though is the ending, which I think contradicts everything that went before. My interpretation was that this film was taking the mickey out all the silly prejudices and innuendo of small town gossip and national tabloid sensationalism. I loved that the film was championing the cause that a person's sexuality is NOT determined by their hobbies, idiosyncrasies, fashion sense or whatever. And then the ending goes and re enforces all the gossip and stereotypes that the movie successfully lampooned in the first place. It turns out everyone was 100% right!!! (godamit!) This was very disappointing to what was actually a great story.\n"
     ]
    }
   ],
   "source": [
    "print(X_test[1000])"
   ]
  },
  {
   "cell_type": "code",
   "execution_count": 5,
   "id": "93689595-e6f6-4698-86a4-98f525fdaab0",
   "metadata": {},
   "outputs": [
    {
     "name": "stdout",
     "output_type": "stream",
     "text": [
      "1\n"
     ]
    }
   ],
   "source": [
    "print(y_test[1000])"
   ]
  },
  {
   "cell_type": "code",
   "execution_count": 6,
   "id": "b3b55eb6-ccc7-4caa-bbd0-50de1c038115",
   "metadata": {},
   "outputs": [],
   "source": [
    "# Create a subset of the training data for fine tuning\n",
    "ntrain = 2000\n",
    "randidx = np.random.choice(len(X_train), ntrain, replace=False)\n",
    "X_train_sub = [X_train[i] for i in randidx]\n",
    "y_train_sub = [y_train[i] for i in randidx]\n",
    "\n",
    "# Subset the testing data for speed\n",
    "ntest = 100\n",
    "randidx = np.random.choice(len(X_test), ntest, replace=False)\n",
    "X_test_sub = [X_test[i] for i in randidx]\n",
    "y_test_sub = [y_test[i] for i in randidx]"
   ]
  },
  {
   "cell_type": "markdown",
   "id": "db065573-0fa0-4bcf-a6d3-09810f21fe13",
   "metadata": {},
   "source": [
    "## Fine Tuning GPT"
   ]
  },
  {
   "cell_type": "code",
   "execution_count": 7,
   "id": "ba5360cc-084b-48a6-9d05-73b96188dc3f",
   "metadata": {},
   "outputs": [],
   "source": [
    "# Setup the training data\n",
    "y_train_sub_labels = ['Positive' if y == 1 else 'Negative' for y in y_train_sub]\n",
    "df = pd.DataFrame(zip(X_train_sub, y_train_sub_labels),\n",
    "                  columns = ['prompt', 'completion'])\n",
    "df.to_json('Data/movie_reviews.jsonl', orient='records', lines=True)"
   ]
  },
  {
   "cell_type": "code",
   "execution_count": 8,
   "id": "e5ebaec3-a158-4e58-8fd1-b4db9fade86f",
   "metadata": {},
   "outputs": [
    {
     "name": "stdout",
     "output_type": "stream",
     "text": [
      "Analyzing...\n",
      "\n",
      "- Your file contains 2000 prompt-completion pairs\n",
      "- Based on your data it seems like you're trying to fine-tune a model for classification\n",
      "- For classification, we recommend you try one of the faster and cheaper models, such as `ada`\n",
      "- For classification, you can estimate the expected model performance by keeping a held out dataset, which is not used for training\n",
      "- There are 2 duplicated prompt-completion sets. These are rows: [129, 1779]\n",
      "- There are 1 examples that are very long. These are rows: [17]\n",
      "For conditional generation, and for classification the examples shouldn't be longer than 2048 tokens.\n",
      "- Your data does not contain a common separator at the end of your prompts. Having a separator string appended to the end of the prompt makes it clearer to the fine-tuned model where the completion should begin. See https://platform.openai.com/docs/guides/fine-tuning/preparing-your-dataset for more detail and examples. If you intend to do open-ended generation, then you should leave the prompts empty\n",
      "- The completion should start with a whitespace character (` `). This tends to produce better results due to the tokenization we use. See https://platform.openai.com/docs/guides/fine-tuning/preparing-your-dataset for more details\n",
      "\n",
      "Based on the analysis we will perform the following actions:\n",
      "- [Recommended] Remove 2 duplicate rows [Y/n]: Y\n",
      "- [Recommended] Remove 1 long examples [Y/n]: Y\n",
      "- [Recommended] Add a suffix separator ` ->` to all prompts [Y/n]: Y\n",
      "- [Recommended] Add a whitespace character to the beginning of the completion [Y/n]: Y\n",
      "- [Recommended] Would you like to split into training and validation set? [Y/n]: Y\n",
      "\n",
      "\n",
      "Your data will be written to a new JSONL file. Proceed [Y/n]: Y\n",
      "\n",
      "Wrote modified files to `Data/movie_reviews_prepared_train.jsonl` and `Data/movie_reviews_prepared_valid.jsonl`\n",
      "Feel free to take a look!\n",
      "\n",
      "Now use that file when fine-tuning:\n",
      "> openai api fine_tunes.create -t \"Data/movie_reviews_prepared_train.jsonl\" -v \"Data/movie_reviews_prepared_valid.jsonl\" --compute_classification_metrics --classification_positive_class \" Negative\"\n",
      "\n",
      "After you’ve fine-tuned a model, remember that your prompt has to end with the indicator string ` ->` for the model to start generating completions, rather than continuing with the prompt. Make sure to include `stop=[\"tive\"]` so that the generated texts ends at the expected place.\n",
      "Once your model starts training, it'll approximately take 50.26 minutes to train a `curie` model, and less for `ada` and `babbage`. Queue will approximately take half an hour per job ahead of you.\n"
     ]
    }
   ],
   "source": [
    "# Prepare data for tuning\n",
    "!openai tools fine_tunes.prepare_data -f Data/movie_reviews.jsonl -q"
   ]
  },
  {
   "cell_type": "code",
   "execution_count": 9,
   "id": "3d6e24ef-b6f0-4c3c-a92b-44323a8b8f1a",
   "metadata": {},
   "outputs": [
    {
     "name": "stdout",
     "output_type": "stream",
     "text": [
      "Upload progress: 100%|████████████████████| 2.13M/2.13M [00:00<00:00, 2.65Git/s]\n",
      "Uploaded file from Data/movie_reviews_prepared_train.jsonl: file-jWM8CiksFhbTBZLbG6uqlvvD\n",
      "Upload progress: 100%|███████████████████████| 538k/538k [00:00<00:00, 428Mit/s]\n",
      "Uploaded file from Data/movie_reviews_prepared_valid.jsonl: file-6IEutAkBFCZBpwiFQlwi0xLo\n",
      "Created fine-tune: ft-hCgD29h8asM8RX15LdZvshi5\n",
      "Streaming events until fine-tuning is complete...\n",
      "\n",
      "(Ctrl-C will interrupt the stream, but not cancel the fine-tune)\n",
      "[2023-03-09 10:47:01] Created fine-tune: ft-hCgD29h8asM8RX15LdZvshi5\n",
      "\n",
      "Stream interrupted (client disconnected).\n",
      "To resume the stream, run:\n",
      "\n",
      "  openai api fine_tunes.follow -i ft-hCgD29h8asM8RX15LdZvshi5\n",
      "\n",
      "n\n"
     ]
    }
   ],
   "source": [
    "!openai api fine_tunes.create -m \"curie\" --suffix \"movie reviews\" -t \"Data/movie_reviews_prepared_train.jsonl\" -v \"Data/movie_reviews_prepared_valid.jsonl\" --compute_classification_metrics --classification_positive_class \" Positive\"\n",
    "!echo \\n"
   ]
  },
  {
   "cell_type": "code",
   "execution_count": 19,
   "id": "12672653-1257-4ffb-995a-f97d7319bc73",
   "metadata": {},
   "outputs": [
    {
     "name": "stdout",
     "output_type": "stream",
     "text": [
      "[2023-03-09 10:47:01] Created fine-tune: ft-hCgD29h8asM8RX15LdZvshi5\n",
      "[2023-03-09 10:56:21] Fine-tune costs $5.47\n",
      "[2023-03-09 10:56:21] Fine-tune enqueued. Queue number: 1\n",
      "[2023-03-09 10:56:23] Fine-tune is in the queue. Queue number: 0\n",
      "[2023-03-09 10:56:44] Fine-tune started\n",
      "[2023-03-09 11:04:17] Completed epoch 1/4\n",
      "[2023-03-09 11:10:58] Completed epoch 2/4\n",
      "[2023-03-09 11:17:38] Completed epoch 3/4\n",
      "[2023-03-09 11:24:18] Completed epoch 4/4\n",
      "[2023-03-09 11:24:49] Uploaded model: curie:ft-research:movie-reviews-2023-03-09-16-24-48\n",
      "[2023-03-09 11:24:50] Uploaded result file: file-wx8WT6gwf3uRZrXSHmXhKIIp\n",
      "[2023-03-09 11:24:50] Fine-tune succeeded\n",
      "\n",
      "Job complete! Status: succeeded 🎉\n",
      "Try out your fine-tuned model:\n",
      "\n",
      "openai api completions.create -m curie:ft-research:movie-reviews-2023-03-09-16-24-48 -p <YOUR_PROMPT>\n"
     ]
    }
   ],
   "source": [
    "!openai api fine_tunes.follow -i ft-hCgD29h8asM8RX15LdZvshi5"
   ]
  },
  {
   "cell_type": "markdown",
   "id": "5dea51c2-9e37-4237-bd4d-403c13d8165d",
   "metadata": {},
   "source": [
    "## Using the Tuned Model"
   ]
  },
  {
   "cell_type": "code",
   "execution_count": 20,
   "id": "a35fd442-c1fd-4f6d-a135-c7e2e033287e",
   "metadata": {},
   "outputs": [],
   "source": [
    "# Add the suffix separator to the test data\n",
    "X_test_sub = [x + ' ->' for x in X_test_sub]"
   ]
  },
  {
   "cell_type": "code",
   "execution_count": 21,
   "id": "aad74f77-8199-4d9e-a191-14319b1176df",
   "metadata": {},
   "outputs": [
    {
     "name": "stdout",
     "output_type": "stream",
     "text": [
      "Negative\n",
      "Positive\n",
      "Negative\n",
      "Negative\n",
      "Positive\n",
      "Positive\n",
      "Negative\n",
      "Positive\n",
      "Negative\n",
      "Negative\n",
      "Positive\n",
      "Positive\n",
      "Positive\n",
      "Negative\n",
      "Negative\n",
      "Negative\n",
      "Positive\n",
      "Negative\n",
      "Negative\n",
      "Positive\n",
      "Negative\n",
      "Positive\n",
      "Positive\n",
      "Positive\n",
      "Negative\n",
      "Positive\n",
      "Negative\n",
      "Negative\n",
      "Negative\n",
      "Negative\n",
      "Negative\n",
      "Positive\n",
      "Negative\n",
      "Positive\n",
      "Negative\n",
      "Negative\n",
      "Negative\n",
      "Negative\n",
      "Negative\n",
      "Negative\n",
      "Negative\n",
      "Positive\n",
      "Positive\n",
      "Positive\n",
      "Positive\n",
      "Positive\n",
      "Positive\n",
      "Negative\n",
      "Negative\n",
      "Positive\n",
      "Positive\n",
      "Positive\n",
      "Positive\n",
      "Positive\n",
      "Positive\n",
      "Negative\n",
      "Positive\n",
      "Negative\n",
      "Positive\n",
      "Positive\n",
      "Negative\n",
      "Positive\n",
      "Negative\n",
      "Positive\n",
      "Positive\n",
      "Positive\n",
      "Negative\n",
      "Positive\n",
      "Negative\n",
      "Negative\n",
      "Negative\n",
      "Positive\n",
      "Negative\n",
      "Negative\n",
      "Negative\n",
      "Negative\n",
      "Negative\n",
      "Negative\n",
      "Positive\n",
      "Negative\n",
      "Positive\n",
      "Positive\n",
      "Negative\n",
      "Negative\n",
      "Positive\n",
      "Positive\n",
      "Positive\n",
      "Positive\n",
      "Negative\n",
      "Negative\n",
      "Positive\n",
      "Negative\n",
      "Negative\n",
      "Positive\n",
      "Positive\n",
      "Negative\n",
      "Negative\n",
      "Positive\n",
      "Positive\n",
      "Negative\n"
     ]
    }
   ],
   "source": [
    "y_pred = [0]*ntest\n",
    "\n",
    "for i in range(ntest):\n",
    "    prompt = X_test_sub[i]\n",
    "\n",
    "    response = openai.Completion.create(\n",
    "        model='curie:ft-research:movie-reviews-2023-03-09-16-24-48',\n",
    "        prompt=prompt,\n",
    "        max_tokens=1\n",
    "    )\n",
    "    \n",
    "    sentiment = response['choices'][0]['text'].strip()\n",
    "    print(sentiment)\n",
    "    y_pred[i] = 1 if sentiment == 'Positive' else 0"
   ]
  },
  {
   "cell_type": "code",
   "execution_count": 22,
   "id": "752dc53e-e0ee-4739-97be-0fb7be336af0",
   "metadata": {},
   "outputs": [
    {
     "data": {
      "text/plain": [
       "0.97"
      ]
     },
     "execution_count": 22,
     "metadata": {},
     "output_type": "execute_result"
    }
   ],
   "source": [
    "accuracy_score(y_test_sub, y_pred)"
   ]
  }
 ],
 "metadata": {
  "kernelspec": {
   "display_name": "Python 3 (ipykernel)",
   "language": "python",
   "name": "python3"
  },
  "language_info": {
   "codemirror_mode": {
    "name": "ipython",
    "version": 3
   },
   "file_extension": ".py",
   "mimetype": "text/x-python",
   "name": "python",
   "nbconvert_exporter": "python",
   "pygments_lexer": "ipython3",
   "version": "3.10.10"
  }
 },
 "nbformat": 4,
 "nbformat_minor": 5
}
