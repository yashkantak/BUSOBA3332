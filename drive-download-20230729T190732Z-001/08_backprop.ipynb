{
 "cells": [
  {
   "cell_type": "markdown",
   "metadata": {},
   "source": [
    "# Backpropagation\n",
    "\n",
    "This notebook demonstrates the backpropagation algorithm for a network with a single layer using the sigmoid activation function."
   ]
  },
  {
   "cell_type": "code",
   "execution_count": 1,
   "metadata": {},
   "outputs": [],
   "source": [
    "import numpy as np\n",
    "import matplotlib as mpl\n",
    "import matplotlib.pyplot as plt\n",
    "\n",
    "# Options for plots\n",
    "%matplotlib inline\n",
    "mpl.rc('axes', labelsize=14)\n",
    "mpl.rc('xtick', labelsize=12)\n",
    "mpl.rc('ytick', labelsize=12)\n",
    "\n",
    "# Seed the random number generator for reproducible results\n",
    "random_state = 1000\n",
    "np.random.seed(random_state)"
   ]
  },
  {
   "cell_type": "code",
   "execution_count": 2,
   "metadata": {},
   "outputs": [],
   "source": [
    "# Sigmoid activation function\n",
    "def sigmoid(x):\n",
    "    return 1 / (1 + np.exp(-x))\n",
    "\n",
    "\n",
    "# Derivative of the sigmoid activation function\n",
    "def dsigmoid(x):\n",
    "    return sigmoid(x) * (1 - sigmoid(x))"
   ]
  },
  {
   "cell_type": "code",
   "execution_count": 3,
   "metadata": {},
   "outputs": [],
   "source": [
    "# Utility functions\n",
    "def printif(s, x):\n",
    "    if x == True:\n",
    "        print(s)\n",
    "\n",
    "        \n",
    "div = '----------------\\n'"
   ]
  },
  {
   "cell_type": "code",
   "execution_count": 4,
   "metadata": {},
   "outputs": [],
   "source": [
    "# Training instances\n",
    "training = np.array([\n",
    "    [0, 0],\n",
    "    [0, 1],\n",
    "    [1, 0],\n",
    "    [1, 1]\n",
    "])\n",
    "\n",
    "targets = np.array([\n",
    "    [0],\n",
    "    [1],\n",
    "    [1],\n",
    "    [1]\n",
    "])"
   ]
  },
  {
   "cell_type": "code",
   "execution_count": 5,
   "metadata": {},
   "outputs": [],
   "source": [
    "# Set the learning rate\n",
    "lr = 0.1  \n",
    "\n",
    "# Number of epochs to run\n",
    "total_epochs = 10000\n",
    "\n",
    "# Print progress every output_epochs\n",
    "output_epochs = 5000  \n",
    "\n",
    "# Initialize weights and bias\n",
    "weights = np.array([[0.1], [0.2]])\n",
    "bias = 0.3"
   ]
  },
  {
   "cell_type": "code",
   "execution_count": 6,
   "metadata": {},
   "outputs": [
    {
     "name": "stdout",
     "output_type": "stream",
     "text": [
      "----------------\n",
      "\n",
      "Epoch 0\n",
      "\n",
      "\n",
      "Weighted inputs:\n",
      "[[0.3]\n",
      " [0.5]\n",
      " [0.4]\n",
      " [0.6]]\n",
      "\n",
      "Sigmoid output:\n",
      "[[0.57444252]\n",
      " [0.62245933]\n",
      " [0.59868766]\n",
      " [0.64565631]]\n",
      "\n",
      "Error:\n",
      "[[ 0.57444252]\n",
      " [-0.37754067]\n",
      " [-0.40131234]\n",
      " [-0.35434369]]\n",
      "\n",
      "Gradient:\n",
      "[[-0.1718082 ]\n",
      " [-0.16576139]]\n",
      "\n",
      "New Weights:\n",
      "[[0.11718082]\n",
      " [0.21657614]]\n",
      "\n",
      "New Bias: [0.31252247]\n",
      "----------------\n",
      "\n",
      "Epoch 5000\n",
      "\n",
      "\n",
      "Weighted inputs:\n",
      "[[-3.14920933]\n",
      " [ 3.8606332 ]\n",
      " [ 3.86032531]\n",
      " [10.87016784]]\n",
      "\n",
      "Sigmoid output:\n",
      "[[0.04112244]\n",
      " [0.97937949]\n",
      " [0.97937328]\n",
      " [0.99998098]]\n",
      "\n",
      "Error:\n",
      "[[ 4.11224441e-02]\n",
      " [-2.06205058e-02]\n",
      " [-2.06267244e-02]\n",
      " [-1.90168172e-05]]\n",
      "\n",
      "Gradient:\n",
      "[[-0.0040977 ]\n",
      " [-0.00409645]]\n",
      "\n",
      "New Weights:\n",
      "[[7.00994441]\n",
      " [7.01025217]]\n",
      "\n",
      "New Bias: [-3.14941791]\n"
     ]
    }
   ],
   "source": [
    "# Track errors for plotting\n",
    "errors = []\n",
    "\n",
    "# Run the backpropagation algorithm\n",
    "for epoch in range(total_epochs):\n",
    "    show = (epoch % output_epochs == 0)\n",
    "    printif(f'{div}\\nEpoch {epoch}\\n\\n', show)\n",
    "                 \n",
    "    # Feedforward input\n",
    "    in_forward = np.dot(training, weights) + bias\n",
    "    printif((f'Weighted inputs:\\n{in_forward}'), show)\n",
    "    \n",
    "    # Feedforward output\n",
    "    out_forward = sigmoid(in_forward)\n",
    "    printif((f'\\nSigmoid output:\\n{out_forward}'), show)\n",
    "    \n",
    "    # Calculate the error\n",
    "    err = out_forward - targets\n",
    "    printif((f'\\nError:\\n{err}'), show)\n",
    "    \n",
    "    # Record error\n",
    "    errors += [err]\n",
    "    \n",
    "    # Use chain rule to calculate derivatives\n",
    "    grad_components = err * dsigmoid(out_forward)\n",
    "    grad = np.dot(training.T, grad_components)\n",
    "    printif((f'\\nGradient:\\n{grad}'), show)\n",
    "    \n",
    "    # Gradient descent step\n",
    "    weights -= lr * grad\n",
    "    printif(f'\\nNew Weights:\\n{weights}', show)\n",
    "    \n",
    "    for i in grad_components:\n",
    "        bias -= lr * i\n",
    "\n",
    "    printif(f'\\nNew Bias: {bias}', show)"
   ]
  },
  {
   "cell_type": "code",
   "execution_count": 7,
   "metadata": {},
   "outputs": [
    {
     "name": "stdout",
     "output_type": "stream",
     "text": [
      "Weights: 8.429, 8.429\n",
      "Bias:    -3.868\n"
     ]
    }
   ],
   "source": [
    "# Output final weights and bias\n",
    "print(f'Weights: {weights[0, 0]:.3f}, {weights[1, 0]:.3f}\\n'\n",
    "      f'Bias:    {bias[0]:.3f}')\n"
   ]
  },
  {
   "cell_type": "code",
   "execution_count": 8,
   "metadata": {},
   "outputs": [
    {
     "name": "stdout",
     "output_type": "stream",
     "text": [
      "Linear model: 4.561\n",
      "Output:       0.990\n"
     ]
    }
   ],
   "source": [
    "# Output prediction for the instance (0, 1)\n",
    "single_point = np.array([0, 1])\n",
    "linear_model = np.dot(single_point, weights) + bias\n",
    "\n",
    "print(f'Linear model: {linear_model[0]:.3f}\\n'\n",
    "      f'Output:       {sigmoid(linear_model)[0]:.3f}')"
   ]
  },
  {
   "cell_type": "code",
   "execution_count": 9,
   "metadata": {},
   "outputs": [
    {
     "data": {
      "image/png": "[encoded data removed]",
      "text/plain": [
       "<Figure size 600x600 with 1 Axes>"
      ]
     },
     "metadata": {},
     "output_type": "display_data"
    }
   ],
   "source": [
    "# Plot change in errors as epochs progress\n",
    "plot_errors = np.abs(np.concatenate(errors, axis=1))\n",
    "plt.subplots(figsize=(6, 6))\n",
    "for e in plot_errors:\n",
    "    plt.plot(e)\n",
    "plt.title('|Error| by Epoch')\n",
    "plt.legend(['Instance 0', 'Instance 1', 'Instance 2', 'Instance 3'])\n",
    "plt.show()"
   ]
  },
  {
   "cell_type": "code",
   "execution_count": null,
   "metadata": {},
   "outputs": [],
   "source": []
  }
 ],
 "metadata": {
  "kernelspec": {
   "display_name": "Python 3 (ipykernel)",
   "language": "python",
   "name": "python3"
  },
  "language_info": {
   "codemirror_mode": {
    "name": "ipython",
    "version": 3
   },
   "file_extension": ".py",
   "mimetype": "text/x-python",
   "name": "python",
   "nbconvert_exporter": "python",
   "pygments_lexer": "ipython3",
   "version": "3.10.10"
  }
 },
 "nbformat": 4,
 "nbformat_minor": 4
}
