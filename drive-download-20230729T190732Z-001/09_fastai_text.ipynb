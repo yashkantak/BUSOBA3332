{
  "cells": [
    {
      "cell_type": "markdown",
      "metadata": {
        "id": "_ZSRQRF_baXU"
      },
      "source": [
        "# FastAI Transfer Learning: Text Classification\n",
        "\n",
        "Note: This notebook is intended for Google colab. Change the Colab runtime to GPU or TPU.\n"
      ]
    },
    {
      "cell_type": "markdown",
      "source": [
        "## Load Libraries and Data"
      ],
      "metadata": {
        "id": "Tc4GYtUVNjR2"
      }
    },
    {
      "cell_type": "code",
      "execution_count": 1,
      "metadata": {
        "id": "UXCOkqY-ZwgZ",
        "colab": {
          "base_uri": "https://localhost:8080/"
        },
        "outputId": "0d06a60d-f3cf-4373-a30d-b8606158fd21"
      },
      "outputs": [
        {
          "output_type": "stream",
          "name": "stdout",
          "text": [
            "Looking in indexes: https://pypi.org/simple, https://us-python.pkg.dev/colab-wheels/public/simple/\n",
            "Requirement already satisfied: fastai in /usr/local/lib/python3.9/dist-packages (2.7.11)\n",
            "Requirement already satisfied: scikit-learn in /usr/local/lib/python3.9/dist-packages (from fastai) (1.2.1)\n",
            "Requirement already satisfied: torch<1.14,>=1.7 in /usr/local/lib/python3.9/dist-packages (from fastai) (1.13.1+cu116)\n",
            "Requirement already satisfied: pyyaml in /usr/local/lib/python3.9/dist-packages (from fastai) (6.0)\n",
            "Requirement already satisfied: pandas in /usr/local/lib/python3.9/dist-packages (from fastai) (1.5.3)\n",
            "Requirement already satisfied: matplotlib in /usr/local/lib/python3.9/dist-packages (from fastai) (3.5.3)\n",
            "Requirement already satisfied: packaging in /usr/local/lib/python3.9/dist-packages (from fastai) (23.0)\n",
            "Requirement already satisfied: scipy in /usr/local/lib/python3.9/dist-packages (from fastai) (1.10.1)\n",
            "Requirement already satisfied: fastdownload<2,>=0.0.5 in /usr/local/lib/python3.9/dist-packages (from fastai) (0.0.7)\n",
            "Requirement already satisfied: spacy<4 in /usr/local/lib/python3.9/dist-packages (from fastai) (3.4.4)\n",
            "Requirement already satisfied: requests in /usr/local/lib/python3.9/dist-packages (from fastai) (2.25.1)\n",
            "Requirement already satisfied: pip in /usr/local/lib/python3.9/dist-packages (from fastai) (22.0.4)\n",
            "Requirement already satisfied: fastprogress>=0.2.4 in /usr/local/lib/python3.9/dist-packages (from fastai) (1.0.3)\n",
            "Requirement already satisfied: fastcore<1.6,>=1.4.5 in /usr/local/lib/python3.9/dist-packages (from fastai) (1.5.28)\n",
            "Requirement already satisfied: torchvision>=0.8.2 in /usr/local/lib/python3.9/dist-packages (from fastai) (0.14.1+cu116)\n",
            "Requirement already satisfied: pillow>6.0.0 in /usr/local/lib/python3.9/dist-packages (from fastai) (8.4.0)\n",
            "Requirement already satisfied: langcodes<4.0.0,>=3.2.0 in /usr/local/lib/python3.9/dist-packages (from spacy<4->fastai) (3.3.0)\n",
            "Requirement already satisfied: spacy-loggers<2.0.0,>=1.0.0 in /usr/local/lib/python3.9/dist-packages (from spacy<4->fastai) (1.0.4)\n",
            "Requirement already satisfied: srsly<3.0.0,>=2.4.3 in /usr/local/lib/python3.9/dist-packages (from spacy<4->fastai) (2.4.6)\n",
            "Requirement already satisfied: preshed<3.1.0,>=3.0.2 in /usr/local/lib/python3.9/dist-packages (from spacy<4->fastai) (3.0.8)\n",
            "Requirement already satisfied: murmurhash<1.1.0,>=0.28.0 in /usr/local/lib/python3.9/dist-packages (from spacy<4->fastai) (1.0.9)\n",
            "Requirement already satisfied: tqdm<5.0.0,>=4.38.0 in /usr/local/lib/python3.9/dist-packages (from spacy<4->fastai) (4.65.0)\n",
            "Requirement already satisfied: setuptools in /usr/local/lib/python3.9/dist-packages (from spacy<4->fastai) (57.4.0)\n",
            "Requirement already satisfied: pydantic!=1.8,!=1.8.1,<1.11.0,>=1.7.4 in /usr/local/lib/python3.9/dist-packages (from spacy<4->fastai) (1.10.5)\n",
            "Requirement already satisfied: typer<0.8.0,>=0.3.0 in /usr/local/lib/python3.9/dist-packages (from spacy<4->fastai) (0.7.0)\n",
            "Requirement already satisfied: wasabi<1.1.0,>=0.9.1 in /usr/local/lib/python3.9/dist-packages (from spacy<4->fastai) (0.10.1)\n",
            "Requirement already satisfied: pathy>=0.3.5 in /usr/local/lib/python3.9/dist-packages (from spacy<4->fastai) (0.10.1)\n",
            "Requirement already satisfied: smart-open<7.0.0,>=5.2.1 in /usr/local/lib/python3.9/dist-packages (from spacy<4->fastai) (6.3.0)\n",
            "Requirement already satisfied: numpy>=1.15.0 in /usr/local/lib/python3.9/dist-packages (from spacy<4->fastai) (1.22.4)\n",
            "Requirement already satisfied: spacy-legacy<3.1.0,>=3.0.10 in /usr/local/lib/python3.9/dist-packages (from spacy<4->fastai) (3.0.12)\n",
            "Requirement already satisfied: catalogue<2.1.0,>=2.0.6 in /usr/local/lib/python3.9/dist-packages (from spacy<4->fastai) (2.0.8)\n",
            "Requirement already satisfied: thinc<8.2.0,>=8.1.0 in /usr/local/lib/python3.9/dist-packages (from spacy<4->fastai) (8.1.8)\n",
            "Requirement already satisfied: jinja2 in /usr/local/lib/python3.9/dist-packages (from spacy<4->fastai) (3.1.2)\n",
            "Requirement already satisfied: cymem<2.1.0,>=2.0.2 in /usr/local/lib/python3.9/dist-packages (from spacy<4->fastai) (2.0.7)\n",
            "Requirement already satisfied: idna<3,>=2.5 in /usr/local/lib/python3.9/dist-packages (from requests->fastai) (2.10)\n",
            "Requirement already satisfied: certifi>=2017.4.17 in /usr/local/lib/python3.9/dist-packages (from requests->fastai) (2022.12.7)\n",
            "Requirement already satisfied: chardet<5,>=3.0.2 in /usr/local/lib/python3.9/dist-packages (from requests->fastai) (4.0.0)\n",
            "Requirement already satisfied: urllib3<1.27,>=1.21.1 in /usr/local/lib/python3.9/dist-packages (from requests->fastai) (1.26.14)\n",
            "Requirement already satisfied: typing-extensions in /usr/local/lib/python3.9/dist-packages (from torch<1.14,>=1.7->fastai) (4.5.0)\n",
            "Requirement already satisfied: python-dateutil>=2.7 in /usr/local/lib/python3.9/dist-packages (from matplotlib->fastai) (2.8.2)\n",
            "Requirement already satisfied: kiwisolver>=1.0.1 in /usr/local/lib/python3.9/dist-packages (from matplotlib->fastai) (1.4.4)\n",
            "Requirement already satisfied: fonttools>=4.22.0 in /usr/local/lib/python3.9/dist-packages (from matplotlib->fastai) (4.39.0)\n",
            "Requirement already satisfied: cycler>=0.10 in /usr/local/lib/python3.9/dist-packages (from matplotlib->fastai) (0.11.0)\n",
            "Requirement already satisfied: pyparsing>=2.2.1 in /usr/local/lib/python3.9/dist-packages (from matplotlib->fastai) (3.0.9)\n",
            "Requirement already satisfied: pytz>=2020.1 in /usr/local/lib/python3.9/dist-packages (from pandas->fastai) (2022.7.1)\n",
            "Requirement already satisfied: joblib>=1.1.1 in /usr/local/lib/python3.9/dist-packages (from scikit-learn->fastai) (1.2.0)\n",
            "Requirement already satisfied: threadpoolctl>=2.0.0 in /usr/local/lib/python3.9/dist-packages (from scikit-learn->fastai) (3.1.0)\n",
            "Requirement already satisfied: six>=1.5 in /usr/local/lib/python3.9/dist-packages (from python-dateutil>=2.7->matplotlib->fastai) (1.15.0)\n",
            "Requirement already satisfied: blis<0.8.0,>=0.7.8 in /usr/local/lib/python3.9/dist-packages (from thinc<8.2.0,>=8.1.0->spacy<4->fastai) (0.7.9)\n",
            "Requirement already satisfied: confection<1.0.0,>=0.0.1 in /usr/local/lib/python3.9/dist-packages (from thinc<8.2.0,>=8.1.0->spacy<4->fastai) (0.0.4)\n",
            "Requirement already satisfied: click<9.0.0,>=7.1.1 in /usr/local/lib/python3.9/dist-packages (from typer<0.8.0,>=0.3.0->spacy<4->fastai) (8.1.3)\n",
            "Requirement already satisfied: MarkupSafe>=2.0 in /usr/local/lib/python3.9/dist-packages (from jinja2->spacy<4->fastai) (2.1.2)\n"
          ]
        }
      ],
      "source": [
        "!pip install fastai --upgrade"
      ]
    },
    {
      "cell_type": "code",
      "execution_count": 2,
      "metadata": {
        "id": "aMFqTPXZZdpX"
      },
      "outputs": [],
      "source": [
        "import re\n",
        "import numpy as np\n",
        "import pandas as pd\n",
        "from sklearn.datasets import fetch_20newsgroups\n",
        "from sklearn.metrics import classification_report\n",
        "from fastai.text.all import *\n",
        "\n",
        "import warnings\n",
        "warnings.filterwarnings('ignore')\n",
        "\n",
        "random_state = 100\n",
        "set_seed(random_state)"
      ]
    },
    {
      "cell_type": "code",
      "source": [
        "# Load newsgroup data\n",
        "# The data includes 20 newsgroups. Take a subset for processing speed\n",
        "categories = sorted([\n",
        "    'comp.graphics', 'comp.sys.mac.hardware',\n",
        "    'misc.forsale',\n",
        "    'rec.motorcycles', 'rec.sport.baseball', 'rec.sport.hockey',\n",
        "    'sci.med', 'sci.space',\n",
        "    'talk.politics.misc'\n",
        "])\n",
        "\n",
        "X_train_raw, y_train \\\n",
        "    = fetch_20newsgroups(subset='train', categories=categories,\n",
        "                         random_state=random_state, return_X_y=True)\n",
        "\n",
        "X_test_raw, y_test \\\n",
        "    = fetch_20newsgroups(subset='test', categories=categories,\n",
        "                         random_state=random_state, return_X_y=True)\n",
        "\n",
        "print(f'Train: {len(X_train_raw)}')\n",
        "print(f'Test: {len(X_test_raw)}')"
      ],
      "metadata": {
        "colab": {
          "base_uri": "https://localhost:8080/"
        },
        "id": "EpL7CRdKNpSi",
        "outputId": "dbbf96f7-db29-415a-9258-194c98c77a13"
      },
      "execution_count": 3,
      "outputs": [
        {
          "output_type": "stream",
          "name": "stdout",
          "text": [
            "Train: 5194\n",
            "Test: 3458\n"
          ]
        }
      ]
    },
    {
      "cell_type": "code",
      "source": [
        "idx = 300\n",
        "\n",
        "print(f'Category: {y_train[idx]}')\n",
        "print(f'Category value: {categories[y_train[idx]]}')\n",
        "\n",
        "print('Text:\\n')\n",
        "print(X_train_raw[idx])"
      ],
      "metadata": {
        "colab": {
          "base_uri": "https://localhost:8080/"
        },
        "id": "rkYn-_0FUckM",
        "outputId": "af3c4331-195b-4989-d4f3-f8c1e1820e1d"
      },
      "execution_count": 4,
      "outputs": [
        {
          "output_type": "stream",
          "name": "stdout",
          "text": [
            "Category: 7\n",
            "Category value: sci.space\n",
            "Text:\n",
            "\n",
            "From: drunen@nucleus.ps.uci.edu (Eric Van Drunen)\n",
            "Subject: Re: Big amateur rockets\n",
            "Nntp-Posting-Host: nucleus.ps.uci.edu\n",
            "Organization: University of California, Irvine\n",
            "Lines: 30\n",
            "\n",
            "Actually, they are legal! I not familiar with the ad you are speaking of\n",
            "but knowing Popular Science it is probably on the fringe.  However, you\n",
            "may be speaking of \"Public Missle, Inc.\", which is a legitimate company\n",
            "that has been around for a while.\n",
            "\n",
            "Due to advances in composite fuels, engines are now available for model\n",
            "rockets using similar composites to SRB fuel, roughly 3 times more \n",
            "powerful than black powder motors.  They are even available in a reloadable\n",
            "form, i.e. aluminum casing, end casings, o-rings (!).  The engines range\n",
            "from D all the way to M in common manufacture, N and O I've heard of\n",
            "used at special occasions.\n",
            "\n",
            "To be a model rocket, however, the rocket can't contain any metal \n",
            "structural parts, amongst other requirements.  I've never heard of a\n",
            "model rocket doing 50,000.  I have heard of > 20,000 foot flights.\n",
            "These require FAA waivers (of course!).  There are a few large national\n",
            "launches (LDRS, FireBALLS), at which you can see many > K sized engine\n",
            "flights.  Actually, using a > G engine constitutes the area of \"High\n",
            "Power Rocketry\", which is seperate from normal model rocketry.  Purchase\n",
            "of engines like I have been describing require membership in the National\n",
            "Association of Rocketry, the Tripoli Rocketry Assoc., or you have to\n",
            "be part of an educational institute or company involved in rocketry.\n",
            "\n",
            "Amatuer rocketry is another area.  I'm not really familiar with this,\n",
            "but it is an area where metal parts are allowed, along with liquid fuels\n",
            "and what not.  I don't know what kind of regulations are involved, but\n",
            "I'm sure they are numerous.\n",
            "\n",
            "High power rocketry is very exciting!  If you are interested or have \n",
            "more questions, there is a newsgroup rec.model.rockets.\n",
            "\n"
          ]
        }
      ]
    },
    {
      "cell_type": "code",
      "execution_count": 5,
      "metadata": {
        "colab": {
          "base_uri": "https://localhost:8080/",
          "height": 1000
        },
        "id": "aZGMuOL-Z9uI",
        "outputId": "7c86e4a3-1b07-4e89-aefb-50cc7c6441a0"
      },
      "outputs": [
        {
          "output_type": "display_data",
          "data": {
            "text/plain": [
              "<IPython.core.display.HTML object>"
            ],
            "text/html": [
              "\n",
              "<style>\n",
              "    /* Turns off some styling */\n",
              "    progress {\n",
              "        /* gets rid of default border in Firefox and Opera. */\n",
              "        border: none;\n",
              "        /* Needs to be in here for Safari polyfill so background images work as expected. */\n",
              "        background-size: auto;\n",
              "    }\n",
              "    progress:not([value]), progress:not([value])::-webkit-progress-bar {\n",
              "        background: repeating-linear-gradient(45deg, #7e7e7e, #7e7e7e 10px, #5c5c5c 10px, #5c5c5c 20px);\n",
              "    }\n",
              "    .progress-bar-interrupted, .progress-bar-interrupted::-webkit-progress-bar {\n",
              "        background: #F44336;\n",
              "    }\n",
              "</style>\n"
            ]
          },
          "metadata": {}
        },
        {
          "output_type": "display_data",
          "data": {
            "text/plain": [
              "<IPython.core.display.HTML object>"
            ],
            "text/html": []
          },
          "metadata": {}
        },
        {
          "output_type": "display_data",
          "data": {
            "text/plain": [
              "<IPython.core.display.HTML object>"
            ],
            "text/html": [
              "<table border=\"1\" class=\"dataframe\">\n",
              "  <thead>\n",
              "    <tr style=\"text-align: right;\">\n",
              "      <th></th>\n",
              "      <th>text</th>\n",
              "      <th>category</th>\n",
              "    </tr>\n",
              "  </thead>\n",
              "  <tbody>\n",
              "    <tr>\n",
              "      <th>0</th>\n",
              "      <td>xxbos xxmaj from : xxunk ( mitch mcgowan ) \\n xxmaj subject : rec.sport.hockey xxmaj frequently xxmaj asked xxmaj questions \\n xxmaj organization : xxmaj university of xxmaj washington \\n xxmaj lines : xxunk \\n xxmaj expires : xxmaj mon , 03 xxmaj may 93 xxunk xxup edt \\n reply - to : hamlet@u.washington.edu \\n nntp - posting - host : stein.u.washington.edu \\n\\n xxmaj archive - name : hockey - faq \\n\\n rec.sport.hockey answers to xxmaj frequently xxmaj asked xxmaj questions and other news : \\n▁\\n xxmaj contents : \\n\\n 0 . xxmaj new xxmaj info . \\n 1 . xxup nhl \\n 2 . xxup nhl xxmaj minor xxmaj leagues \\n 3 . xxmaj college xxmaj hockey ( north xxmaj america ) \\n 4 . xxmaj other leagues ( e.g. xxmaj europe , xxmaj canada xxmaj cup tournament ) \\n 5 . xxmaj e - mail files \\n 6</td>\n",
              "      <td>5</td>\n",
              "    </tr>\n",
              "    <tr>\n",
              "      <th>1</th>\n",
              "      <td>xxbos xxmaj from : nfotis@ntua.gr ( nick xxup c. xxmaj fotis ) \\n xxmaj subject : ( 17 xxmaj apr 93 ) xxmaj computer xxmaj graphics xxmaj resource xxmaj listing : xxup weekly [ part 1 / 3 ] \\n xxmaj lines : xxunk \\n reply - to : nfotis@theseas.ntua.gr ( nick ( nikolaos ) xxmaj fotis ) \\n xxmaj organization : xxmaj national xxmaj technical xxmaj univ . of xxmaj athens \\n\\n xxmaj archive - name : graphics / resources - list / xxunk \\n xxmaj last - modified : 1993 / 04 / 17 \\n\\n\\n xxmaj computer xxmaj graphics xxmaj resource xxmaj listing : xxup weekly xxup posting [ xxup part 1 / 3 ] \\n▁ xxrep 51 = \\n xxmaj last xxmaj change : 17 xxmaj april 1993 \\n\\n xxmaj many faqs , including this xxmaj listing , are available on the archive site \\n pit-manager.mit.edu (</td>\n",
              "      <td>0</td>\n",
              "    </tr>\n",
              "    <tr>\n",
              "      <th>2</th>\n",
              "      <td>xxbos xxmaj from : nfotis@ntua.gr ( nick xxup c. xxmaj fotis ) \\n xxmaj subject : ( 17 xxmaj apr 93 ) xxmaj computer xxmaj graphics xxmaj resource xxmaj listing : xxup weekly [ part 3 / 3 ] \\n xxmaj lines : xxunk \\n reply - to : nfotis@theseas.ntua.gr ( nick ( nikolaos ) xxmaj fotis ) \\n xxmaj organization : xxmaj national xxmaj technical xxmaj univ . of xxmaj athens \\n\\n xxmaj archive - name : graphics / resources - list / xxunk \\n xxmaj last - modified : 1993 / 04 / 17 \\n\\n\\n xxmaj computer xxmaj graphics xxmaj resource xxmaj listing : xxup weekly xxup posting [ xxup part 3 / 3 ] \\n▁ xxrep 51 = \\n xxmaj last xxmaj change : 17 xxmaj april 1993 \\n\\n\\n 11 . xxmaj scene generators / geographical data / xxmaj maps / xxmaj data files \\n▁ xxrep 54</td>\n",
              "      <td>0</td>\n",
              "    </tr>\n",
              "    <tr>\n",
              "      <th>3</th>\n",
              "      <td>xxbos xxmaj from : xxunk ( tom xxmaj lane ) \\n xxmaj subject : xxup jpeg image compression : xxmaj frequently xxmaj asked xxmaj questions \\n xxmaj summary : xxmaj useful info about xxup jpeg ( jpg ) image files and programs \\n xxmaj keywords : xxup jpeg , image compression , xxup faq \\n xxmaj supersedes : &lt; xxunk &gt; \\n nntp - posting - host : xxunk \\n reply - to : xxunk \\n xxmaj organization : xxmaj school of xxmaj computer xxmaj science , xxmaj carnegie xxmaj mellon \\n xxmaj expires : xxmaj sun , 16 xxmaj may 1993 xxunk xxup gmt \\n xxmaj lines : 1027 \\n\\n xxmaj archive - name : jpeg - faq \\n xxmaj last - modified : 18 xxmaj april 1993 \\n\\n xxmaj this xxup faq article discusses xxup jpeg image compression . xxmaj suggestions for \\n additions and xxunk are welcome</td>\n",
              "      <td>0</td>\n",
              "    </tr>\n",
              "    <tr>\n",
              "      <th>4</th>\n",
              "      <td>xxbos xxmaj from : xxunk ( xxunk ) \\n xxmaj subject : xxmaj mac &amp; xxup ibm info - version xxunk \\n xxmaj organization : xxmaj new xxmaj mexico xxmaj state xxmaj university , xxmaj las xxmaj xxunk , xxup nm \\n xxmaj lines : 753 \\n xxmaj distribution : world \\n nntp - posting - host : xxunk \\n\\n { send follow ups to xxunk . xxmaj sorry about the header but the \\n xxmaj xxunk here does not let one easily change the headers and i gave up after a \\n year of trying . xxmaj this sheet is also available by xxup ftp on sumex-aim.stanford.edu \\n ( 36.44.0.6 ) in the info - mac / report as xxunk . } \\n xxmaj mac &amp; xxup ibm info - version xxunk \\n\\n xxmaj the reason for this general data sheet is to xxunk and xxunk the \\n information</td>\n",
              "      <td>1</td>\n",
              "    </tr>\n",
              "    <tr>\n",
              "      <th>5</th>\n",
              "      <td>xxbos xxmaj from : mcelwre@cnsvax.uwec.edu \\n xxmaj subject : xxup secret xxup purpose xxup of xxup falklands xxup war \\n xxmaj organization : xxmaj university of xxmaj wisconsin xxmaj eau xxmaj claire \\n xxmaj lines : 918 \\n\\n\\n\\n xxup secret xxup purpose xxup of xxup falklands xxup war ; [ with xxup in - xxunk xxmaj technology ] \\n\\n xxmaj dr . xxmaj beter xxup audio xxup letter # 74 of 80 \\n\\n xxmaj digitized by xxmaj jon xxmaj xxunk , mail address xxunk \\n\\n \" audio xxup letter(r ) \" is a registered trademark of xxmaj audio xxmaj books , \\n xxmaj inc . , a xxmaj texas corporation , which originally produced this tape \\n recording . xxmaj reproduced under open license granted by xxmaj audio \\n xxmaj books , xxmaj inc . \\n\\n▁ xxrep 65 - \\n\\n xxmaj this is the xxmaj dr . xxmaj beter xxup</td>\n",
              "      <td>8</td>\n",
              "    </tr>\n",
              "    <tr>\n",
              "      <th>6</th>\n",
              "      <td>xxbos xxmaj from : nfotis@ntua.gr ( nick xxup c. xxmaj fotis ) \\n xxmaj subject : ( 17 xxmaj apr 93 ) xxmaj computer xxmaj graphics xxmaj resource xxmaj listing : xxup weekly [ part 2 / 3 ] \\n xxmaj lines : xxunk \\n reply - to : nfotis@theseas.ntua.gr ( nick ( nikolaos ) xxmaj fotis ) \\n xxmaj organization : xxmaj national xxmaj technical xxmaj univ . of xxmaj athens \\n\\n xxmaj archive - name : graphics / resources - list / xxunk \\n xxmaj last - modified : 1993 / 04 / 17 \\n\\n\\n xxmaj computer xxmaj graphics xxmaj resource xxmaj listing : xxup weekly xxup posting [ xxup part 2 / 3 ] \\n▁ xxrep 51 = \\n xxmaj last xxmaj change : 17 xxmaj april 1993 \\n\\n\\n 14 . xxmaj plotting packages \\n▁ xxrep 21 = \\n\\n xxmaj gnuplot 3.2 \\n▁ xxrep 11 - \\n▁</td>\n",
              "      <td>0</td>\n",
              "    </tr>\n",
              "    <tr>\n",
              "      <th>7</th>\n",
              "      <td>xxbos xxmaj from : clinton-hq@campaign92.org ( clinton / xxmaj gore ' 92 ) \\n xxmaj subject : xxup clinton : xxmaj press xxmaj briefing by xxmaj george xxmaj stephanopoulos 4.15.93 \\n xxmaj organization : xxmaj project xxup gnu , xxmaj free xxmaj software xxmaj foundation , \\n▁ 675 xxmaj mass . xxmaj ave . , xxmaj cambridge , xxup ma 02139 , xxup usa +1 ( 617 ) 876 - 3296 \\n xxmaj lines : xxunk \\n nntp - posting - host : life.ai.mit.edu xxunk xxup the xxup white xxup house \\n\\n▁ xxmaj office of the xxmaj press xxmaj secretary \\n▁ xxrep 69 _ \\n xxmaj for xxmaj immediate xxmaj release xxmaj april 15 , 1993 \\n\\n\\n▁ xxup press xxup briefing \\n▁ xxup by xxup george xxup stephanopoulos \\n\\n▁ xxmaj the xxmaj briefing xxmaj room \\n\\n\\n\\n xxunk xxup p.m. xxup edt \\n\\t▁\\n\\t▁\\n\\t▁ xxup mr . xxup stephanopoulos : xxmaj good</td>\n",
              "      <td>8</td>\n",
              "    </tr>\n",
              "    <tr>\n",
              "      <th>8</th>\n",
              "      <td>xxbos xxmaj from : e8l6@jupiter.sun.csd.unb.ca ( rocket ) \\n xxmaj subject : xxup nhl xxmaj final point standings \\n xxmaj organization : xxmaj university of xxmaj new xxmaj brunswick \\n xxmaj distribution : rec.sport.hockey \\n xxmaj lines : 694 \\n\\n\\n▁ xxmaj individual leaders by total points ( final standings ) \\n▁ xxup note : xxmaj games played and points per games not accurate ! ! \\n\\n▁ xxmaj player xxmaj team xxup gp g a xxmaj pts ppg xxmaj xxunk xxup pim + / - \\n\\n▁ m.lemieux xxup pit 59 69 91 160 xxunk 160 38 53 \\n▁ lafontaine xxup buf 82 53 95 148 xxunk 148 63 13 \\n▁ xxmaj oates xxup bos 83 45 97 142 xxunk 142 32 12 \\n▁ xxmaj yzerman xxup det 83 58 79 137 1.65 137 44 33 \\n▁ xxmaj turgeon xxup nyi 80 58 74 132 1.65 132 26 -2 \\n▁ xxmaj selanne</td>\n",
              "      <td>5</td>\n",
              "    </tr>\n",
              "  </tbody>\n",
              "</table>"
            ]
          },
          "metadata": {}
        }
      ],
      "source": [
        "df = pd.DataFrame(zip(X_train_raw, y_train), columns=['text', 'class'])\n",
        "dls = TextDataLoaders.from_df(df)\n",
        "dls.show_batch()"
      ]
    },
    {
      "cell_type": "markdown",
      "metadata": {
        "id": "o5Aa7a8Z1CWM"
      },
      "source": [
        "## Fine Tune to Create a Text Classifier\n"
      ]
    },
    {
      "cell_type": "code",
      "execution_count": 6,
      "metadata": {
        "id": "1lU_OK1xl402"
      },
      "outputs": [],
      "source": [
        "# Create a text classifier using an AWD_LSTM model\n",
        "# See this link for model details: https://paperswithcode.com/method/awd-lstm\n",
        "learn = text_classifier_learner(dls, AWD_LSTM, metrics=accuracy)"
      ]
    },
    {
      "cell_type": "code",
      "execution_count": 7,
      "metadata": {
        "colab": {
          "base_uri": "https://localhost:8080/",
          "height": 283
        },
        "id": "Qc3PM1MDaWhr",
        "outputId": "2e9e9a76-38ea-44ed-b6d4-5042249c0c59"
      },
      "outputs": [
        {
          "output_type": "display_data",
          "data": {
            "text/plain": [
              "<IPython.core.display.HTML object>"
            ],
            "text/html": [
              "\n",
              "<style>\n",
              "    /* Turns off some styling */\n",
              "    progress {\n",
              "        /* gets rid of default border in Firefox and Opera. */\n",
              "        border: none;\n",
              "        /* Needs to be in here for Safari polyfill so background images work as expected. */\n",
              "        background-size: auto;\n",
              "    }\n",
              "    progress:not([value]), progress:not([value])::-webkit-progress-bar {\n",
              "        background: repeating-linear-gradient(45deg, #7e7e7e, #7e7e7e 10px, #5c5c5c 10px, #5c5c5c 20px);\n",
              "    }\n",
              "    .progress-bar-interrupted, .progress-bar-interrupted::-webkit-progress-bar {\n",
              "        background: #F44336;\n",
              "    }\n",
              "</style>\n"
            ]
          },
          "metadata": {}
        },
        {
          "output_type": "display_data",
          "data": {
            "text/plain": [
              "<IPython.core.display.HTML object>"
            ],
            "text/html": []
          },
          "metadata": {}
        },
        {
          "output_type": "display_data",
          "data": {
            "text/plain": [
              "<Figure size 432x288 with 1 Axes>"
            ],
            "image/png": "[encoded data removed]"
          },
          "metadata": {
            "needs_background": "light"
          }
        }
      ],
      "source": [
        "# Assess potential learning rates\n",
        "lr = learn.lr_find()"
      ]
    },
    {
      "cell_type": "code",
      "execution_count": 8,
      "metadata": {
        "colab": {
          "base_uri": "https://localhost:8080/",
          "height": 143
        },
        "id": "s5mSPqcpm1xQ",
        "outputId": "029980ce-7412-4390-b6ce-066a1087d86f"
      },
      "outputs": [
        {
          "output_type": "display_data",
          "data": {
            "text/plain": [
              "<IPython.core.display.HTML object>"
            ],
            "text/html": [
              "\n",
              "<style>\n",
              "    /* Turns off some styling */\n",
              "    progress {\n",
              "        /* gets rid of default border in Firefox and Opera. */\n",
              "        border: none;\n",
              "        /* Needs to be in here for Safari polyfill so background images work as expected. */\n",
              "        background-size: auto;\n",
              "    }\n",
              "    progress:not([value]), progress:not([value])::-webkit-progress-bar {\n",
              "        background: repeating-linear-gradient(45deg, #7e7e7e, #7e7e7e 10px, #5c5c5c 10px, #5c5c5c 20px);\n",
              "    }\n",
              "    .progress-bar-interrupted, .progress-bar-interrupted::-webkit-progress-bar {\n",
              "        background: #F44336;\n",
              "    }\n",
              "</style>\n"
            ]
          },
          "metadata": {}
        },
        {
          "output_type": "display_data",
          "data": {
            "text/plain": [
              "<IPython.core.display.HTML object>"
            ],
            "text/html": [
              "<table border=\"1\" class=\"dataframe\">\n",
              "  <thead>\n",
              "    <tr style=\"text-align: left;\">\n",
              "      <th>epoch</th>\n",
              "      <th>train_loss</th>\n",
              "      <th>valid_loss</th>\n",
              "      <th>accuracy</th>\n",
              "      <th>time</th>\n",
              "    </tr>\n",
              "  </thead>\n",
              "  <tbody>\n",
              "    <tr>\n",
              "      <td>0</td>\n",
              "      <td>1.594558</td>\n",
              "      <td>0.935256</td>\n",
              "      <td>0.724470</td>\n",
              "      <td>00:41</td>\n",
              "    </tr>\n",
              "  </tbody>\n",
              "</table>"
            ]
          },
          "metadata": {}
        },
        {
          "output_type": "display_data",
          "data": {
            "text/plain": [
              "<IPython.core.display.HTML object>"
            ],
            "text/html": [
              "\n",
              "<style>\n",
              "    /* Turns off some styling */\n",
              "    progress {\n",
              "        /* gets rid of default border in Firefox and Opera. */\n",
              "        border: none;\n",
              "        /* Needs to be in here for Safari polyfill so background images work as expected. */\n",
              "        background-size: auto;\n",
              "    }\n",
              "    progress:not([value]), progress:not([value])::-webkit-progress-bar {\n",
              "        background: repeating-linear-gradient(45deg, #7e7e7e, #7e7e7e 10px, #5c5c5c 10px, #5c5c5c 20px);\n",
              "    }\n",
              "    .progress-bar-interrupted, .progress-bar-interrupted::-webkit-progress-bar {\n",
              "        background: #F44336;\n",
              "    }\n",
              "</style>\n"
            ]
          },
          "metadata": {}
        },
        {
          "output_type": "display_data",
          "data": {
            "text/plain": [
              "<IPython.core.display.HTML object>"
            ],
            "text/html": [
              "<table border=\"1\" class=\"dataframe\">\n",
              "  <thead>\n",
              "    <tr style=\"text-align: left;\">\n",
              "      <th>epoch</th>\n",
              "      <th>train_loss</th>\n",
              "      <th>valid_loss</th>\n",
              "      <th>accuracy</th>\n",
              "      <th>time</th>\n",
              "    </tr>\n",
              "  </thead>\n",
              "  <tbody>\n",
              "    <tr>\n",
              "      <td>0</td>\n",
              "      <td>0.939089</td>\n",
              "      <td>0.683453</td>\n",
              "      <td>0.804432</td>\n",
              "      <td>01:23</td>\n",
              "    </tr>\n",
              "  </tbody>\n",
              "</table>"
            ]
          },
          "metadata": {}
        }
      ],
      "source": [
        "# Fine tune the model\n",
        "learn.fine_tune(1, lr.valley)"
      ]
    },
    {
      "cell_type": "code",
      "source": [
        "# Assess potential learning rates\n",
        "lr = learn.lr_find()"
      ],
      "metadata": {
        "colab": {
          "base_uri": "https://localhost:8080/",
          "height": 284
        },
        "id": "5YCHiCciYUIh",
        "outputId": "879e5b09-f8d9-4f14-ff14-e6a8b419db58"
      },
      "execution_count": 9,
      "outputs": [
        {
          "output_type": "display_data",
          "data": {
            "text/plain": [
              "<IPython.core.display.HTML object>"
            ],
            "text/html": [
              "\n",
              "<style>\n",
              "    /* Turns off some styling */\n",
              "    progress {\n",
              "        /* gets rid of default border in Firefox and Opera. */\n",
              "        border: none;\n",
              "        /* Needs to be in here for Safari polyfill so background images work as expected. */\n",
              "        background-size: auto;\n",
              "    }\n",
              "    progress:not([value]), progress:not([value])::-webkit-progress-bar {\n",
              "        background: repeating-linear-gradient(45deg, #7e7e7e, #7e7e7e 10px, #5c5c5c 10px, #5c5c5c 20px);\n",
              "    }\n",
              "    .progress-bar-interrupted, .progress-bar-interrupted::-webkit-progress-bar {\n",
              "        background: #F44336;\n",
              "    }\n",
              "</style>\n"
            ]
          },
          "metadata": {}
        },
        {
          "output_type": "display_data",
          "data": {
            "text/plain": [
              "<IPython.core.display.HTML object>"
            ],
            "text/html": []
          },
          "metadata": {}
        },
        {
          "output_type": "display_data",
          "data": {
            "text/plain": [
              "<Figure size 432x288 with 1 Axes>"
            ],
            "image/png": "[encoded data removed]"
          },
          "metadata": {
            "needs_background": "light"
          }
        }
      ]
    },
    {
      "cell_type": "code",
      "source": [
        "# Fine tune the model\n",
        "learn.fine_tune(1, lr.valley)"
      ],
      "metadata": {
        "colab": {
          "base_uri": "https://localhost:8080/",
          "height": 143
        },
        "id": "OSTReDbWYV3N",
        "outputId": "5858a957-afd4-4b22-fe62-06789d432f93"
      },
      "execution_count": 10,
      "outputs": [
        {
          "output_type": "display_data",
          "data": {
            "text/plain": [
              "<IPython.core.display.HTML object>"
            ],
            "text/html": [
              "\n",
              "<style>\n",
              "    /* Turns off some styling */\n",
              "    progress {\n",
              "        /* gets rid of default border in Firefox and Opera. */\n",
              "        border: none;\n",
              "        /* Needs to be in here for Safari polyfill so background images work as expected. */\n",
              "        background-size: auto;\n",
              "    }\n",
              "    progress:not([value]), progress:not([value])::-webkit-progress-bar {\n",
              "        background: repeating-linear-gradient(45deg, #7e7e7e, #7e7e7e 10px, #5c5c5c 10px, #5c5c5c 20px);\n",
              "    }\n",
              "    .progress-bar-interrupted, .progress-bar-interrupted::-webkit-progress-bar {\n",
              "        background: #F44336;\n",
              "    }\n",
              "</style>\n"
            ]
          },
          "metadata": {}
        },
        {
          "output_type": "display_data",
          "data": {
            "text/plain": [
              "<IPython.core.display.HTML object>"
            ],
            "text/html": [
              "<table border=\"1\" class=\"dataframe\">\n",
              "  <thead>\n",
              "    <tr style=\"text-align: left;\">\n",
              "      <th>epoch</th>\n",
              "      <th>train_loss</th>\n",
              "      <th>valid_loss</th>\n",
              "      <th>accuracy</th>\n",
              "      <th>time</th>\n",
              "    </tr>\n",
              "  </thead>\n",
              "  <tbody>\n",
              "    <tr>\n",
              "      <td>0</td>\n",
              "      <td>0.806716</td>\n",
              "      <td>0.698267</td>\n",
              "      <td>0.805395</td>\n",
              "      <td>00:42</td>\n",
              "    </tr>\n",
              "  </tbody>\n",
              "</table>"
            ]
          },
          "metadata": {}
        },
        {
          "output_type": "display_data",
          "data": {
            "text/plain": [
              "<IPython.core.display.HTML object>"
            ],
            "text/html": [
              "\n",
              "<style>\n",
              "    /* Turns off some styling */\n",
              "    progress {\n",
              "        /* gets rid of default border in Firefox and Opera. */\n",
              "        border: none;\n",
              "        /* Needs to be in here for Safari polyfill so background images work as expected. */\n",
              "        background-size: auto;\n",
              "    }\n",
              "    progress:not([value]), progress:not([value])::-webkit-progress-bar {\n",
              "        background: repeating-linear-gradient(45deg, #7e7e7e, #7e7e7e 10px, #5c5c5c 10px, #5c5c5c 20px);\n",
              "    }\n",
              "    .progress-bar-interrupted, .progress-bar-interrupted::-webkit-progress-bar {\n",
              "        background: #F44336;\n",
              "    }\n",
              "</style>\n"
            ]
          },
          "metadata": {}
        },
        {
          "output_type": "display_data",
          "data": {
            "text/plain": [
              "<IPython.core.display.HTML object>"
            ],
            "text/html": [
              "<table border=\"1\" class=\"dataframe\">\n",
              "  <thead>\n",
              "    <tr style=\"text-align: left;\">\n",
              "      <th>epoch</th>\n",
              "      <th>train_loss</th>\n",
              "      <th>valid_loss</th>\n",
              "      <th>accuracy</th>\n",
              "      <th>time</th>\n",
              "    </tr>\n",
              "  </thead>\n",
              "  <tbody>\n",
              "    <tr>\n",
              "      <td>0</td>\n",
              "      <td>0.798089</td>\n",
              "      <td>0.660865</td>\n",
              "      <td>0.816956</td>\n",
              "      <td>01:22</td>\n",
              "    </tr>\n",
              "  </tbody>\n",
              "</table>"
            ]
          },
          "metadata": {}
        }
      ]
    },
    {
      "cell_type": "code",
      "execution_count": 11,
      "metadata": {
        "colab": {
          "base_uri": "https://localhost:8080/",
          "height": 1000
        },
        "id": "rLghIIU908lo",
        "outputId": "b04c4d5d-1d67-4b84-925c-899dcd8bdc7b"
      },
      "outputs": [
        {
          "output_type": "display_data",
          "data": {
            "text/plain": [
              "<IPython.core.display.HTML object>"
            ],
            "text/html": [
              "\n",
              "<style>\n",
              "    /* Turns off some styling */\n",
              "    progress {\n",
              "        /* gets rid of default border in Firefox and Opera. */\n",
              "        border: none;\n",
              "        /* Needs to be in here for Safari polyfill so background images work as expected. */\n",
              "        background-size: auto;\n",
              "    }\n",
              "    progress:not([value]), progress:not([value])::-webkit-progress-bar {\n",
              "        background: repeating-linear-gradient(45deg, #7e7e7e, #7e7e7e 10px, #5c5c5c 10px, #5c5c5c 20px);\n",
              "    }\n",
              "    .progress-bar-interrupted, .progress-bar-interrupted::-webkit-progress-bar {\n",
              "        background: #F44336;\n",
              "    }\n",
              "</style>\n"
            ]
          },
          "metadata": {}
        },
        {
          "output_type": "display_data",
          "data": {
            "text/plain": [
              "<IPython.core.display.HTML object>"
            ],
            "text/html": []
          },
          "metadata": {}
        },
        {
          "output_type": "display_data",
          "data": {
            "text/plain": [
              "<IPython.core.display.HTML object>"
            ],
            "text/html": [
              "<table border=\"1\" class=\"dataframe\">\n",
              "  <thead>\n",
              "    <tr style=\"text-align: right;\">\n",
              "      <th></th>\n",
              "      <th>text</th>\n",
              "      <th>category</th>\n",
              "      <th>category_</th>\n",
              "    </tr>\n",
              "  </thead>\n",
              "  <tbody>\n",
              "    <tr>\n",
              "      <th>0</th>\n",
              "      <td>xxbos xxmaj from : clinton-hq@campaign92.org ( clinton / xxmaj gore ' 92 ) \\n xxmaj subject : xxup clinton : xxmaj background briefing in xxmaj vancouver xxunk \\n xxmaj organization : xxmaj project xxup gnu , xxmaj free xxmaj software xxmaj foundation , \\n▁ 675 xxmaj mass . xxmaj ave . , xxmaj cambridge , xxup ma 02139 , xxup usa +1 ( 617 ) 876 - 3296 \\n xxmaj lines : xxunk \\n nntp - posting - host : life.ai.mit.edu \\n\\n\\n\\n\\n\\n▁ xxup the xxup white xxup house \\n\\n▁ xxmaj office of the xxmaj press xxmaj secretary \\n▁ ( vancouver , xxmaj british xxmaj columbia ) \\n▁ xxrep 62 _ \\n\\n\\n▁ xxup background xxup briefing \\n▁ xxup by \\n▁ xxup senior xxup administration xxup officials \\n\\n\\n▁ xxmaj april 4 , 1993 \\n\\t▁\\n▁ xxmaj canada xxmaj place \\n▁ xxmaj vancouver , xxmaj british xxmaj columbia \\n\\n\\n xxunk xxup a.m. xxup pst</td>\n",
              "      <td>8</td>\n",
              "      <td>8</td>\n",
              "    </tr>\n",
              "    <tr>\n",
              "      <th>1</th>\n",
              "      <td>xxbos xxmaj from : blgardne@javelin.sim.es.com ( dances xxmaj with xxmaj bikers ) \\n xxmaj subject : xxup faq - xxmaj what is the dod ? \\n xxmaj summary : xxmaj everything you always wanted to know about dod , but were afraid to ask \\n xxmaj keywords : dod xxup faq \\n article - i.d . : xxunk \\n xxmaj expires : xxmaj sun , 30 xxmaj may 1993 xxunk xxup gmt \\n reply - to : blgardne@javelin.sim.es.com \\n xxmaj organization : xxmaj evans &amp; xxmaj sutherland xxmaj computer xxmaj corporation \\n xxmaj lines : xxunk \\n xxmaj supersedes : &lt; xxunk &gt; \\n\\n xxmaj this is a periodic posting intended to answer the xxmaj frequently xxmaj asked \\n xxmaj question : xxmaj what is the dod ? xxmaj it is posted the first of each month , with \\n an expiration time of over a month . xxmaj thus</td>\n",
              "      <td>3</td>\n",
              "      <td>3</td>\n",
              "    </tr>\n",
              "    <tr>\n",
              "      <th>2</th>\n",
              "      <td>xxbos xxmaj from : leech@cs.unc.edu ( jon xxmaj leech ) \\n xxmaj subject : xxmaj space xxup faq 10 / 15 - xxmaj planetary xxmaj probe xxmaj history \\n xxmaj supersedes : &lt; xxunk &gt; \\n xxmaj organization : xxmaj university of xxmaj north xxmaj carolina , xxmaj chapel xxmaj hill \\n xxmaj lines : 527 \\n xxmaj distribution : world \\n xxmaj expires : 6 xxmaj may 1993 xxunk xxup gmt \\n nntp - posting - host : mahler.cs.unc.edu \\n xxmaj keywords : xxmaj frequently xxmaj asked xxmaj questions \\n\\n xxmaj archive - name : space / probe \\n xxmaj last - modified : $ date : 93 / 04 / 01 xxunk $ \\n\\n xxup planetary xxup probes - xxup historical xxup missions \\n\\n▁ xxmaj this section was lightly adapted from an original posting by xxmaj larry xxmaj klaes \\n▁ ( klaes@verga.enet.dec.com ) , mostly minor formatting changes</td>\n",
              "      <td>7</td>\n",
              "      <td>7</td>\n",
              "    </tr>\n",
              "    <tr>\n",
              "      <th>3</th>\n",
              "      <td>xxbos xxmaj from : mcelwre@cnsvax.uwec.edu \\n xxmaj subject : xxup larsonian xxmaj astronomy and xxmaj physics \\n xxmaj organization : xxmaj university of xxmaj wisconsin xxmaj eau xxmaj claire \\n xxmaj lines : xxunk \\n\\n\\n\\n▁ xxup larsonian xxmaj astronomy and xxmaj physics \\n\\n▁ xxmaj orthodox physicists , astronomers , and astrophysicists \\n▁ xxup claim to be looking for a \" unified xxmaj field xxmaj theory \" in which all \\n▁ of the forces of the universe can be explained with a single \\n▁ set of laws or equations . xxmaj but they have been systematically \\n▁ xxup ignoring or xxup xxunk an excellent one for 30 years ! \\n\\n▁ xxmaj the late xxmaj physicist xxmaj dewey xxup b. xxmaj larson 's comprehensive \\n▁ xxup general xxup unified xxmaj theory of the physical universe , which he \\n▁ calls the \" reciprocal xxmaj system \" , is built on two fundamental</td>\n",
              "      <td>7</td>\n",
              "      <td>7</td>\n",
              "    </tr>\n",
              "    <tr>\n",
              "      <th>4</th>\n",
              "      <td>xxbos xxmaj from : david@stat.com ( david xxmaj dodell ) \\n xxmaj subject : xxup hicn610 xxmaj medical xxmaj news xxmaj part 3 / 4 \\n reply - to : david@stat.com ( david xxmaj dodell ) \\n xxmaj distribution : world \\n xxmaj organization : xxmaj stat xxmaj gateway xxmaj service , xxup wb7tpy \\n xxmaj lines : 708 \\n\\n\\n▁ xxrep 13 - cut here xxrep 17 - \\n xxmaj university of xxmaj arizona \\n xxmaj tucson , xxmaj arizona \\n\\n\\n\\n▁ xxmaj suggested xxmaj reading \\n\\n xxmaj tan xxup sl , xxmaj xxunk xxup p , xxmaj campbell xxup s , xxmaj jacobs xxup hs , xxmaj betts xxup j , xxmaj mason xxup b , xxmaj edwards xxup xxunk ( 1992 ) . \\n xxmaj cumulative conception and xxmaj xxunk rates after in - vitro fertilization . xxmaj lancet \\n xxunk - xxunk . \\n\\n xxmaj for further information</td>\n",
              "      <td>6</td>\n",
              "      <td>6</td>\n",
              "    </tr>\n",
              "    <tr>\n",
              "      <th>5</th>\n",
              "      <td>xxbos xxmaj from : andrew@idacom.hp.com ( andrew xxmaj scott ) \\n xxmaj subject : xxup usenet xxmaj hockey xxmaj draft week 26 standings \\n xxmaj organization : hewlett - packard , xxup idacom xxmaj telecommunications xxmaj division \\n xxmaj lines : 279 \\n\\n xxmaj here are the standings after the xxmaj april 6 update . xxmaj i 'll be leaving for xxmaj japan \\n in 1.5 hours , and i wo n't be back until xxmaj april 17 . xxmaj consequently , i will not \\n post the week 27 results until xxmaj april 18 . xxmaj email sent between xxmaj april 13 and \\n xxmaj april 18 will be processed using the numbers available xxmaj april 18 . \\n\\n\\t - xxmaj andrew \\n\\n xxup usenet xxmaj hockey xxmaj draft xxmaj standings \\n xxmaj week 26 \\n\\n xxmaj posn \\t xxmaj team \\t\\t\\t\\t xxmaj pts \\t xxmaj xxunk \\t xxmaj</td>\n",
              "      <td>5</td>\n",
              "      <td>2</td>\n",
              "    </tr>\n",
              "    <tr>\n",
              "      <th>6</th>\n",
              "      <td>xxbos xxmaj from : xxmaj dan xxmaj wallach &lt; dwallach@cs.berkeley.edu &gt; \\n xxmaj subject : xxup faq : xxmaj typing xxmaj injuries ( 4 / 4 ): xxmaj software xxmaj monitoring xxmaj tools [ monthly posting ] \\n xxmaj supersedes : &lt; typing - injury - faq / xxunk &gt; \\n xxmaj organization : xxmaj university of xxmaj california , xxmaj berkeley \\n xxmaj lines : xxrep 3 3 \\n xxmaj expires : 22 xxmaj may 1993 xxunk xxup gmt \\n reply - to : xxmaj richard xxmaj donkin &lt; richardd@hoskyns.co.uk &gt; \\n nntp - posting - host : elmer-fudd.cs.berkeley.edu \\n xxmaj summary : software tools to help out injured xxunk \\n xxmaj originator : dwallach@elmer-fudd.cs.berkeley.edu \\n\\n xxmaj archive - name : typing - injury - faq / software \\n xxmaj version : 1.8 , 7th xxmaj december 1992 \\n\\n xxmaj this xxup faq is actually maintained by xxmaj richard</td>\n",
              "      <td>6</td>\n",
              "      <td>1</td>\n",
              "    </tr>\n",
              "    <tr>\n",
              "      <th>7</th>\n",
              "      <td>xxbos xxmaj from : leech@cs.unc.edu ( jon xxmaj leech ) \\n xxmaj subject : xxmaj space xxup faq 13 / 15 - xxmaj interest xxmaj groups &amp; xxmaj publications \\n xxmaj keywords : xxmaj frequently xxmaj asked xxmaj questions \\n article - i.d . : xxunk \\n xxmaj expires : 6 xxmaj may 1993 xxunk xxup gmt \\n xxmaj distribution : world \\n xxmaj organization : xxmaj university of xxmaj north xxmaj carolina , xxmaj chapel xxmaj hill \\n xxmaj lines : 354 \\n xxmaj supersedes : &lt; xxunk &gt; \\n nntp - posting - host : mahler.cs.unc.edu \\n\\n xxmaj archive - name : space / groups \\n xxmaj last - modified : $ date : 93 / 04 / 01 xxunk $ \\n\\n xxup space xxup activist / xxup interest / xxup research xxup groups xxup and xxup space xxup publications \\n\\n▁ xxup groups \\n\\n▁ xxup xxunk -- xxmaj</td>\n",
              "      <td>7</td>\n",
              "      <td>7</td>\n",
              "    </tr>\n",
              "    <tr>\n",
              "      <th>8</th>\n",
              "      <td>xxbos xxmaj subject : xxup nhl xxmaj summary parse results for games played xxmaj sat , xxmaj april 3 , 1993 \\n xxmaj from : c5ff@jupiter.sun.csd.unb.ca ( cook xxmaj charlie ) \\n xxmaj organization : xxmaj university of xxmaj new xxmaj brunswick \\n xxmaj lines : 373 \\n\\n xxmaj tampa xxmaj bay 1 1 0 - -2 \\n xxmaj philadelphia 3 2 1 - -6 \\n xxmaj first period \\n▁ 1 , xxmaj philadelphia , xxmaj carkner 3 ( unassisted ) 1:24 . \\n▁ 2 , xxmaj philadelphia , xxmaj hawgood 9 ( recchi , xxmaj lindros ) pp , xxunk . \\n▁ 3 , xxmaj philadelphia , xxmaj lindros 37 ( recchi , xxmaj hawgood ) pp , xxunk . \\n▁ 4 , xxmaj tampa xxmaj bay , xxmaj beers 12 ( zamuner , xxmaj chambers ) pp , xxunk . \\n xxmaj second period \\n▁ 5 , xxmaj</td>\n",
              "      <td>5</td>\n",
              "      <td>5</td>\n",
              "    </tr>\n",
              "  </tbody>\n",
              "</table>"
            ]
          },
          "metadata": {}
        }
      ],
      "source": [
        "# Display results\n",
        "learn.show_results()"
      ]
    }
  ],
  "metadata": {
    "accelerator": "GPU",
    "colab": {
      "provenance": []
    },
    "kernelspec": {
      "display_name": "Python 3 (ipykernel)",
      "language": "python",
      "name": "python3"
    },
    "language_info": {
      "codemirror_mode": {
        "name": "ipython",
        "version": 3
      },
      "file_extension": ".py",
      "mimetype": "text/x-python",
      "name": "python",
      "nbconvert_exporter": "python",
      "pygments_lexer": "ipython3",
      "version": "3.10.10"
    }
  },
  "nbformat": 4,
  "nbformat_minor": 0
}