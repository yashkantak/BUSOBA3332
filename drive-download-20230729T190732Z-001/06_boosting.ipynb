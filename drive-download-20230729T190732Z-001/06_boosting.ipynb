{
 "cells": [
  {
   "cell_type": "markdown",
   "metadata": {},
   "source": [
    "# NLSY (Gradient Boosting)"
   ]
  },
  {
   "cell_type": "markdown",
   "metadata": {},
   "source": [
    "## Load Libraries and Data"
   ]
  },
  {
   "cell_type": "code",
   "execution_count": 1,
   "metadata": {},
   "outputs": [],
   "source": [
    "import io\n",
    "import requests\n",
    "import warnings\n",
    "import numpy as np\n",
    "import pandas as pd\n",
    "from sklearn.preprocessing import LabelEncoder\n",
    "from sklearn.metrics import (accuracy_score, classification_report, \n",
    "                             mean_squared_error, r2_score)\n",
    "from sklearn.model_selection import GridSearchCV, train_test_split\n",
    "from sklearn.ensemble import AdaBoostClassifier, GradientBoostingClassifier\n",
    "from sklearn.tree import DecisionTreeClassifier\n",
    "from xgboost import XGBClassifier, XGBRegressor\n",
    "import matplotlib as mpl\n",
    "import matplotlib.pyplot as plt\n",
    "from matplotlib.colors import ListedColormap\n",
    "import seaborn as sns\n",
    "\n",
    "# Make this notebook's output stable across runs\n",
    "random_state = 1000\n",
    "np.random.seed(random_state)\n",
    "\n",
    "# Options for plots\n",
    "%matplotlib inline\n",
    "sns.set()\n",
    "plt.rcParams['axes.labelweight'] = 'bold'\n",
    "plt.rcParams['axes.labelpad'] = 12"
   ]
  },
  {
   "cell_type": "code",
   "execution_count": 2,
   "metadata": {},
   "outputs": [],
   "source": [
    "def plot_decision_boundary(\n",
    "    clf, X, y, classes, features, xlims,\n",
    "    markers=['<', 'o', 's'],\n",
    "    markercolors=['darkgreen', 'navy', 'darkred'],\n",
    "    fillcolors=['lightgreen', 'cornflowerblue', 'lightcoral'],\n",
    "    steps=1000, alpha=0.2, figsize=(15, 6)\n",
    "):\n",
    "    x1, x2 = np.meshgrid (np.linspace(*xlims[0], steps).reshape(-1, 1),\n",
    "                          np.linspace(*xlims[1], steps).reshape(-1, 1))\n",
    "    \n",
    "    X_bound = np.c_[x1.ravel(), x2.ravel()]\n",
    "    with warnings.catch_warnings():\n",
    "        warnings.simplefilter('ignore')\n",
    "        y_pred = clf.predict(X_bound)\n",
    "        \n",
    "    z = LabelEncoder().fit_transform(y_pred).reshape(x1.shape)\n",
    "    \n",
    "    plt.figure(figsize=figsize)\n",
    "    \n",
    "    for i, c in enumerate(classes):\n",
    "        plt.plot(X.loc[y == c, features[0]], X.loc[y == c, features[1]],\n",
    "                 color=markercolors[i], marker=markers[i],\n",
    "                 linestyle='none', label=c)\n",
    "    \n",
    "    plt.contourf(x1, x2, z, levels=len(classes) + 1,\n",
    "                 alpha=alpha, cmap=ListedColormap(fillcolors))\n",
    "   \n",
    "    plt.xlabel(features[0])\n",
    "    plt.ylabel(features[1])\n",
    "    plt.legend()\n",
    "    plt.show()"
   ]
  },
  {
   "cell_type": "code",
   "execution_count": 3,
   "metadata": {},
   "outputs": [],
   "source": [
    "# Split data and return as dataframes\n",
    "def split_data(X, y, test_size=0.2, stratify=None,\n",
    "               random_state=1):\n",
    "    out = train_test_split(X, y, test_size=test_size,\n",
    "                           stratify=stratify,\n",
    "                           random_state=random_state)\n",
    "    out[0] = pd.DataFrame(out[0], columns=X.columns)\n",
    "    out[1] = pd.DataFrame(out[1], columns=X.columns)\n",
    "\n",
    "    return out"
   ]
  },
  {
   "cell_type": "markdown",
   "metadata": {},
   "source": [
    "## Load Data"
   ]
  },
  {
   "cell_type": "markdown",
   "metadata": {},
   "source": [
    "### Data Description\n",
    "\n",
    "The Bureau of Labor Statistics administers a National Longitudinal Survey of Youth that tracks individuals over the course of their lives.\n",
    "\n",
    "The 1979 (NLSY79) cohort includes men and women born in the USA between 1957 and 1964.\n",
    "\n",
    "In the data set, each row represents an individual that participates in the 1979 cohort.\n",
    "\n",
    "| Attribute      | Definition                                                                                   |\n",
    "| -------------- | -------------------------------------------------------------------------------------------- |\n",
    "| ID             | Participant identifier assigned by BLS                                                       |\n",
    "| Earnings       | Annual wage earnings 2014                                                                    |\n",
    "| WeeksWorked    | Count of weeks worked in 2014                                                                |\n",
    "| CumWeeksWorked | Cumulative weeks of work experience during study                                             |\n",
    "| Education      | Years of education as of 2014                                                                |\n",
    "| IQ             | Percentile on IQ test taken in 1979                                                          |\n",
    "| Gender         | Participant's gender                                                                         |\n",
    "| MSA            | Did the participant reside within an urban cluster or urbanized area in 2014?                |\n",
    "| Library        | Did the participant, or someone in the participant's household, have a library card in 1979? |\n",
    "| Esteem         | Score on the Rosenberg Self-Esteem Scale in 1979                                             |"
   ]
  },
  {
   "cell_type": "code",
   "execution_count": 4,
   "metadata": {},
   "outputs": [
    {
     "data": {
      "text/html": [
       "<div>\n",
       "<style scoped>\n",
       "    .dataframe tbody tr th:only-of-type {\n",
       "        vertical-align: middle;\n",
       "    }\n",
       "\n",
       "    .dataframe tbody tr th {\n",
       "        vertical-align: top;\n",
       "    }\n",
       "\n",
       "    .dataframe thead th {\n",
       "        text-align: right;\n",
       "    }\n",
       "</style>\n",
       "<table border=\"1\" class=\"dataframe\">\n",
       "  <thead>\n",
       "    <tr style=\"text-align: right;\">\n",
       "      <th></th>\n",
       "      <th>ID</th>\n",
       "      <th>Earnings</th>\n",
       "      <th>WeeksWorked</th>\n",
       "      <th>CumWeeksWorked</th>\n",
       "      <th>Education</th>\n",
       "      <th>IQ</th>\n",
       "      <th>Gender</th>\n",
       "      <th>MSA</th>\n",
       "      <th>Library</th>\n",
       "      <th>Esteem</th>\n",
       "    </tr>\n",
       "  </thead>\n",
       "  <tbody>\n",
       "    <tr>\n",
       "      <th>0</th>\n",
       "      <td>83</td>\n",
       "      <td>0</td>\n",
       "      <td>3</td>\n",
       "      <td>553.0</td>\n",
       "      <td>10</td>\n",
       "      <td>2</td>\n",
       "      <td>Male</td>\n",
       "      <td>Yes</td>\n",
       "      <td>Yes</td>\n",
       "      <td>18</td>\n",
       "    </tr>\n",
       "    <tr>\n",
       "      <th>1</th>\n",
       "      <td>84</td>\n",
       "      <td>0</td>\n",
       "      <td>3</td>\n",
       "      <td>107.0</td>\n",
       "      <td>12</td>\n",
       "      <td>9</td>\n",
       "      <td>Male</td>\n",
       "      <td>Yes</td>\n",
       "      <td>Yes</td>\n",
       "      <td>20</td>\n",
       "    </tr>\n",
       "    <tr>\n",
       "      <th>2</th>\n",
       "      <td>87</td>\n",
       "      <td>11500</td>\n",
       "      <td>5</td>\n",
       "      <td>759.0</td>\n",
       "      <td>12</td>\n",
       "      <td>5</td>\n",
       "      <td>Male</td>\n",
       "      <td>Yes</td>\n",
       "      <td>Yes</td>\n",
       "      <td>22</td>\n",
       "    </tr>\n",
       "    <tr>\n",
       "      <th>3</th>\n",
       "      <td>105</td>\n",
       "      <td>20501</td>\n",
       "      <td>11</td>\n",
       "      <td>979.0</td>\n",
       "      <td>12</td>\n",
       "      <td>84</td>\n",
       "      <td>Female</td>\n",
       "      <td>Yes</td>\n",
       "      <td>Yes</td>\n",
       "      <td>19</td>\n",
       "    </tr>\n",
       "    <tr>\n",
       "      <th>4</th>\n",
       "      <td>178</td>\n",
       "      <td>59000</td>\n",
       "      <td>46</td>\n",
       "      <td>1010.0</td>\n",
       "      <td>16</td>\n",
       "      <td>99</td>\n",
       "      <td>Male</td>\n",
       "      <td>No</td>\n",
       "      <td>Yes</td>\n",
       "      <td>24</td>\n",
       "    </tr>\n",
       "  </tbody>\n",
       "</table>\n",
       "</div>"
      ],
      "text/plain": [
       "    ID  Earnings  WeeksWorked  CumWeeksWorked  Education  IQ  Gender  MSA  \\\n",
       "0   83         0            3           553.0         10   2    Male  Yes   \n",
       "1   84         0            3           107.0         12   9    Male  Yes   \n",
       "2   87     11500            5           759.0         12   5    Male  Yes   \n",
       "3  105     20501           11           979.0         12  84  Female  Yes   \n",
       "4  178     59000           46          1010.0         16  99    Male   No   \n",
       "\n",
       "  Library  Esteem  \n",
       "0     Yes      18  \n",
       "1     Yes      20  \n",
       "2     Yes      22  \n",
       "3     Yes      19  \n",
       "4     Yes      24  "
      ]
     },
     "execution_count": 4,
     "metadata": {},
     "output_type": "execute_result"
    }
   ],
   "source": [
    "url = 'https://raw.githubusercontent.com/natecraig/aiml/main/Data/nlsy.csv'\n",
    "download = requests.get(url).content\n",
    "df = pd.read_csv(io.StringIO(download.decode('utf-8')))\n",
    "df.head()"
   ]
  },
  {
   "cell_type": "code",
   "execution_count": 5,
   "metadata": {},
   "outputs": [
    {
     "data": {
      "text/plain": [
       "High School      0.830679\n",
       "Undergraduate    0.113160\n",
       "Graduate         0.056161\n",
       "Name: EducationCategory, dtype: float64"
      ]
     },
     "execution_count": 5,
     "metadata": {},
     "output_type": "execute_result"
    }
   ],
   "source": [
    "# Return index of education category as a function of years of education\n",
    "def education_category(years_education):\n",
    "    if years_education < 16:\n",
    "        return 'High School'\n",
    "    elif years_education == 16:\n",
    "        return 'Undergraduate'\n",
    "    else:\n",
    "        return 'Graduate'\n",
    "\n",
    "\n",
    "# Create a variable to contain each participant's education category    \n",
    "df['EducationCategory'] = df['Education'].apply(education_category)\n",
    "df['EducationCategory'].value_counts(normalize=True)"
   ]
  },
  {
   "cell_type": "code",
   "execution_count": 6,
   "metadata": {},
   "outputs": [],
   "source": [
    "# Predict EducationCategory as a function of Earnings and WeeksWorked\n",
    "X = df[['Earnings', 'WeeksWorked']]\n",
    "y = df['EducationCategory']\n",
    "\n",
    "# Split data into training and testing sets\n",
    "(X_train, X_test, \n",
    " y_train, y_test) = split_data(X, y, test_size=0.25,\n",
    "                               stratify=y,\n",
    "                               random_state=random_state)"
   ]
  },
  {
   "cell_type": "markdown",
   "metadata": {
    "tags": []
   },
   "source": [
    "## AdaBoost"
   ]
  },
  {
   "cell_type": "code",
   "execution_count": 7,
   "metadata": {},
   "outputs": [],
   "source": [
    "# Predict EducationCategory as a function of Earnings and WeeksWorked\n",
    "feature_vars = ['Earnings', 'WeeksWorked']\n",
    "X = df[feature_vars]\n",
    "y = df['EducationCategory']\n",
    "\n",
    "# Split data into training and testing sets\n",
    "(X_train, X_test, \n",
    " y_train, y_test) = split_data(X, y, test_size=0.25,\n",
    "                               stratify=y,\n",
    "                               random_state=random_state)"
   ]
  },
  {
   "cell_type": "code",
   "execution_count": 8,
   "metadata": {},
   "outputs": [
    {
     "name": "stdout",
     "output_type": "stream",
     "text": [
      "               precision    recall  f1-score   support\n",
      "\n",
      "     Graduate      0.700     0.412     0.519        17\n",
      "  High School      0.956     0.960     0.958       248\n",
      "Undergraduate      0.525     0.618     0.568        34\n",
      "\n",
      "     accuracy                          0.890       299\n",
      "    macro avg      0.727     0.663     0.681       299\n",
      " weighted avg      0.892     0.890     0.888       299\n",
      "\n"
     ]
    }
   ],
   "source": [
    "# Fit AdaBoost classifier\n",
    "ada_clf = AdaBoostClassifier(\n",
    "    DecisionTreeClassifier(max_depth=6),\n",
    "    n_estimators=400,\n",
    "    random_state=random_state\n",
    ")\n",
    "ada_clf.fit(X_train, y_train)\n",
    "\n",
    "# Evaluate on the test data\n",
    "y_pred = ada_clf.predict(X_test)\n",
    "print(classification_report(y_test, y_pred, digits=3))"
   ]
  },
  {
   "cell_type": "code",
   "execution_count": 9,
   "metadata": {},
   "outputs": [
    {
     "data": {
      "image/png": "[encoded data removed]",
      "text/plain": [
       "<Figure size 1500x600 with 1 Axes>"
      ]
     },
     "metadata": {},
     "output_type": "display_data"
    }
   ],
   "source": [
    "# Visualize decision boundaries\n",
    "xlims = [\n",
    "    [df['Earnings'].min(), df['Earnings'].max()],\n",
    "    [df['WeeksWorked'].min(), df['WeeksWorked'].max()]\n",
    "]\n",
    "\n",
    "plot_decision_boundary(ada_clf, X_test, y_test,\n",
    "                       classes=['Graduate', 'High School', 'Undergraduate'],\n",
    "                       features=feature_vars,\n",
    "                       xlims=xlims)     "
   ]
  },
  {
   "cell_type": "code",
   "execution_count": 10,
   "metadata": {},
   "outputs": [],
   "source": [
    "# Predict EducationCategory as a function of Earnings,\n",
    "# WeeksWorked, and CumWeeksWorked\n",
    "feature_vars = ['Earnings', 'WeeksWorked', 'CumWeeksWorked']\n",
    "X = df[feature_vars]\n",
    "y = df['EducationCategory']\n",
    "\n",
    "# Split data into training and testing sets\n",
    "(X_train, X_test, \n",
    " y_train, y_test) = split_data(X, y, test_size=0.25,\n",
    "                               stratify=y,\n",
    "                               random_state=random_state)"
   ]
  },
  {
   "cell_type": "code",
   "execution_count": 11,
   "metadata": {},
   "outputs": [
    {
     "name": "stdout",
     "output_type": "stream",
     "text": [
      "               precision    recall  f1-score   support\n",
      "\n",
      "     Graduate      0.875     0.824     0.848        17\n",
      "  High School      0.957     0.976     0.966       248\n",
      "Undergraduate      0.700     0.618     0.656        34\n",
      "\n",
      "     accuracy                          0.926       299\n",
      "    macro avg      0.844     0.806     0.824       299\n",
      " weighted avg      0.923     0.926     0.924       299\n",
      "\n"
     ]
    }
   ],
   "source": [
    "ada_clf = AdaBoostClassifier(\n",
    "    DecisionTreeClassifier(max_depth=8),\n",
    "    n_estimators=400,\n",
    "    random_state=random_state\n",
    ")\n",
    "ada_clf.fit(X_train, y_train)\n",
    "\n",
    "# Evaluate on the test data\n",
    "y_pred = ada_clf.predict(X_test)\n",
    "print(classification_report(y_test, y_pred, digits=3))"
   ]
  },
  {
   "cell_type": "markdown",
   "metadata": {},
   "source": [
    "### Exercise\n",
    "\n",
    "Experiment with the AdaBoost learning rate (learning_rate) using cross-validation."
   ]
  },
  {
   "cell_type": "code",
   "execution_count": null,
   "metadata": {},
   "outputs": [],
   "source": []
  },
  {
   "cell_type": "markdown",
   "metadata": {},
   "source": [
    "## Gradient Boosting"
   ]
  },
  {
   "cell_type": "code",
   "execution_count": 12,
   "metadata": {},
   "outputs": [],
   "source": [
    "# Predict EducationCategory as a function of Earnings and WeeksWorked\n",
    "feature_vars = ['Earnings', 'WeeksWorked']\n",
    "X = df[feature_vars]\n",
    "y = df['EducationCategory']\n",
    "\n",
    "# Split data into training and testing sets\n",
    "(X_train, X_test, \n",
    " y_train, y_test) = split_data(X, y, test_size=0.25,\n",
    "                               stratify=y,                               \n",
    "                               random_state=random_state)"
   ]
  },
  {
   "cell_type": "code",
   "execution_count": 13,
   "metadata": {},
   "outputs": [
    {
     "name": "stdout",
     "output_type": "stream",
     "text": [
      "               precision    recall  f1-score   support\n",
      "\n",
      "     Graduate      0.667     0.353     0.462        17\n",
      "  High School      0.957     0.976     0.966       248\n",
      "Undergraduate      0.568     0.618     0.592        34\n",
      "\n",
      "     accuracy                          0.900       299\n",
      "    macro avg      0.730     0.649     0.673       299\n",
      " weighted avg      0.896     0.900     0.895       299\n",
      "\n"
     ]
    }
   ],
   "source": [
    "# Fit Gradient Boosting classifier\n",
    "grb_clf = GradientBoostingClassifier(random_state=random_state)\n",
    "grb_clf.fit(X_train, y_train)\n",
    "\n",
    "# Evaluate on the test data\n",
    "y_pred = grb_clf.predict(X_test)\n",
    "print(classification_report(y_test, y_pred, digits=3))"
   ]
  },
  {
   "cell_type": "code",
   "execution_count": 14,
   "metadata": {},
   "outputs": [
    {
     "data": {
      "image/png": "[encoded data removed]",
      "text/plain": [
       "<Figure size 1500x600 with 1 Axes>"
      ]
     },
     "metadata": {},
     "output_type": "display_data"
    }
   ],
   "source": [
    "# Visualize decision boundaries\n",
    "xlims = [\n",
    "    [df['Earnings'].min(), df['Earnings'].max()],\n",
    "    [df['WeeksWorked'].min(), df['WeeksWorked'].max()]\n",
    "]\n",
    "\n",
    "plot_decision_boundary(grb_clf, X_test, y_test,\n",
    "                       classes=['Graduate', 'High School', 'Undergraduate'],\n",
    "                       features=feature_vars,\n",
    "                       xlims=xlims)     "
   ]
  },
  {
   "cell_type": "code",
   "execution_count": 15,
   "metadata": {},
   "outputs": [],
   "source": [
    "# Predict EducationCategory as a function of Earnings,\n",
    "# WeeksWorked, and CumWeeksWorked\n",
    "feature_vars = ['Earnings', 'WeeksWorked', 'CumWeeksWorked']\n",
    "X = df[feature_vars]\n",
    "y = df['EducationCategory']\n",
    "\n",
    "# Split data into training and testing sets\n",
    "(X_train, X_test, \n",
    " y_train, y_test) = train_test_split(X, y, test_size=0.25,\n",
    "                                     stratify=y, random_state=random_state)"
   ]
  },
  {
   "cell_type": "code",
   "execution_count": 16,
   "metadata": {},
   "outputs": [
    {
     "name": "stdout",
     "output_type": "stream",
     "text": [
      "               precision    recall  f1-score   support\n",
      "\n",
      "     Graduate      0.667     0.706     0.686        17\n",
      "  High School      0.960     0.972     0.966       248\n",
      "Undergraduate      0.600     0.529     0.562        34\n",
      "\n",
      "     accuracy                          0.906       299\n",
      "    macro avg      0.742     0.736     0.738       299\n",
      " weighted avg      0.903     0.906     0.904       299\n",
      "\n"
     ]
    }
   ],
   "source": [
    "# Fit Gradient Boosting classifier\n",
    "grb_clf = GradientBoostingClassifier(random_state=random_state)\n",
    "grb_clf.fit(X_train, y_train)\n",
    "\n",
    "# Evaluate on the test data\n",
    "y_pred = grb_clf.predict(X_test)\n",
    "print(classification_report(y_test, y_pred, digits=3))"
   ]
  },
  {
   "cell_type": "markdown",
   "metadata": {},
   "source": [
    "### Exercise\n",
    "\n",
    "Build a better gradient boosting model by experimenting with cross-validation for hyperparameter optimization."
   ]
  },
  {
   "cell_type": "code",
   "execution_count": null,
   "metadata": {},
   "outputs": [],
   "source": []
  },
  {
   "cell_type": "markdown",
   "metadata": {},
   "source": [
    "## XGBoost"
   ]
  },
  {
   "cell_type": "code",
   "execution_count": 17,
   "metadata": {},
   "outputs": [],
   "source": [
    "# Predict EducationCategory as a function of Earnings,\n",
    "# WeeksWorked, and CumWeeksWorked\n",
    "feature_vars = ['Earnings', 'WeeksWorked', 'CumWeeksWorked']\n",
    "X = df[feature_vars]\n",
    "y = df['EducationCategory']\n",
    "\n",
    "# Use label encoder on y to satisfy XGBoost\n",
    "label_encoder = LabelEncoder()\n",
    "y_enc = label_encoder.fit_transform(y)\n",
    "\n",
    "# Split data into training and testing sets\n",
    "(X_train, X_test, \n",
    " y_train, y_test) = split_data(X, y_enc, test_size=0.25,\n",
    "                               stratify=y,\n",
    "                               random_state=random_state)"
   ]
  },
  {
   "cell_type": "code",
   "execution_count": 18,
   "metadata": {},
   "outputs": [
    {
     "name": "stdout",
     "output_type": "stream",
     "text": [
      "              precision    recall  f1-score   support\n",
      "\n",
      "           0      0.778     0.824     0.800        17\n",
      "           1      0.960     0.964     0.962       248\n",
      "           2      0.625     0.588     0.606        34\n",
      "\n",
      "    accuracy                          0.913       299\n",
      "   macro avg      0.788     0.792     0.789       299\n",
      "weighted avg      0.911     0.913     0.912       299\n",
      "\n"
     ]
    }
   ],
   "source": [
    "# Fit Gradient Boosting classifier\n",
    "xgb_clf = XGBClassifier(random_state=random_state,\n",
    "                        eval_metric='mlogloss')\n",
    "xgb_clf.fit(X_train, y_train)\n",
    "\n",
    "# Evaluate on the test data\n",
    "y_pred = xgb_clf.predict(X_test)\n",
    "print(classification_report(y_test, y_pred, digits=3))"
   ]
  },
  {
   "cell_type": "markdown",
   "metadata": {},
   "source": [
    "## XGBoost: Store Closings, Regression Example"
   ]
  },
  {
   "cell_type": "markdown",
   "metadata": {},
   "source": [
    "### Data Description\n",
    "\n",
    "When retailers close stores, they usually conduct going-out-of-business (GOB) sales.\n",
    "\n",
    "In the data set, each row represents a store's going out of business sale.\n",
    "\n",
    "| Attribute             | Definition                                                                |\n",
    "| --------------------- | ------------------------------------------------------------------------- |\n",
    "| StoreType             | Store's retail segment (bookstores or household goods)                    |\n",
    "| LiquidationRevenue    | Revenue from the GOB sale                                                 |\n",
    "| InventoryAtTicket     | Retail value of inventory held at the start of the GOB sale               |\n",
    "| LastYearRevenue       | Store's revenue over the GOB sale dates during the prior year             |                      \n",
    "| MedianHouseholdIncome | Median household income in the store's ZIP code (from U.S. Census Bureau) |\n",
    "| MedianAge             | Median age in the store's ZIP code (from U.S. Census Bureau)              |"
   ]
  },
  {
   "cell_type": "code",
   "execution_count": 19,
   "metadata": {},
   "outputs": [
    {
     "data": {
      "text/html": [
       "<div>\n",
       "<style scoped>\n",
       "    .dataframe tbody tr th:only-of-type {\n",
       "        vertical-align: middle;\n",
       "    }\n",
       "\n",
       "    .dataframe tbody tr th {\n",
       "        vertical-align: top;\n",
       "    }\n",
       "\n",
       "    .dataframe thead th {\n",
       "        text-align: right;\n",
       "    }\n",
       "</style>\n",
       "<table border=\"1\" class=\"dataframe\">\n",
       "  <thead>\n",
       "    <tr style=\"text-align: right;\">\n",
       "      <th></th>\n",
       "      <th>StoreType</th>\n",
       "      <th>LiquidationRevenue</th>\n",
       "      <th>InventoryAtTicket</th>\n",
       "      <th>LastYearRevenue</th>\n",
       "      <th>MedianHouseholdIncome</th>\n",
       "      <th>MedianAge</th>\n",
       "    </tr>\n",
       "  </thead>\n",
       "  <tbody>\n",
       "    <tr>\n",
       "      <th>0</th>\n",
       "      <td>Bookstore</td>\n",
       "      <td>1214776.2</td>\n",
       "      <td>2195069.8</td>\n",
       "      <td>465237.3</td>\n",
       "      <td>51290</td>\n",
       "      <td>37.8</td>\n",
       "    </tr>\n",
       "    <tr>\n",
       "      <th>1</th>\n",
       "      <td>Bookstore</td>\n",
       "      <td>1811896.9</td>\n",
       "      <td>3152301.9</td>\n",
       "      <td>897704.5</td>\n",
       "      <td>46702</td>\n",
       "      <td>33.4</td>\n",
       "    </tr>\n",
       "    <tr>\n",
       "      <th>2</th>\n",
       "      <td>Bookstore</td>\n",
       "      <td>1157614.7</td>\n",
       "      <td>2229837.5</td>\n",
       "      <td>477804.8</td>\n",
       "      <td>86804</td>\n",
       "      <td>41.7</td>\n",
       "    </tr>\n",
       "    <tr>\n",
       "      <th>3</th>\n",
       "      <td>Bookstore</td>\n",
       "      <td>2037136.2</td>\n",
       "      <td>3857466.8</td>\n",
       "      <td>1036097.7</td>\n",
       "      <td>83544</td>\n",
       "      <td>40.3</td>\n",
       "    </tr>\n",
       "    <tr>\n",
       "      <th>4</th>\n",
       "      <td>Bookstore</td>\n",
       "      <td>1326821.1</td>\n",
       "      <td>2345263.8</td>\n",
       "      <td>612793.5</td>\n",
       "      <td>23508</td>\n",
       "      <td>31.9</td>\n",
       "    </tr>\n",
       "  </tbody>\n",
       "</table>\n",
       "</div>"
      ],
      "text/plain": [
       "   StoreType  LiquidationRevenue  InventoryAtTicket  LastYearRevenue  \\\n",
       "0  Bookstore           1214776.2          2195069.8         465237.3   \n",
       "1  Bookstore           1811896.9          3152301.9         897704.5   \n",
       "2  Bookstore           1157614.7          2229837.5         477804.8   \n",
       "3  Bookstore           2037136.2          3857466.8        1036097.7   \n",
       "4  Bookstore           1326821.1          2345263.8         612793.5   \n",
       "\n",
       "   MedianHouseholdIncome  MedianAge  \n",
       "0                  51290       37.8  \n",
       "1                  46702       33.4  \n",
       "2                  86804       41.7  \n",
       "3                  83544       40.3  \n",
       "4                  23508       31.9  "
      ]
     },
     "execution_count": 19,
     "metadata": {},
     "output_type": "execute_result"
    }
   ],
   "source": [
    "url = 'https://raw.githubusercontent.com/natecraig/aiml/main/Data/closings.csv'\n",
    "download = requests.get(url).content\n",
    "df = pd.read_csv(io.StringIO(download.decode('utf-8')))\n",
    "df.head()"
   ]
  },
  {
   "cell_type": "code",
   "execution_count": 20,
   "metadata": {},
   "outputs": [],
   "source": [
    "# Predict LiquidationRevenue as a function of all available variables\n",
    "df['Bookstore'] = df['StoreType'].map(lambda x: 1 if x == 'Bookstore' else 0)\n",
    "feature_vars = ['Bookstore', 'InventoryAtTicket', 'LastYearRevenue',\n",
    "                'MedianHouseholdIncome', 'MedianAge']\n",
    "X = df[feature_vars]\n",
    "y = df['LiquidationRevenue']\n",
    "\n",
    "# Split data into training and testing sets\n",
    "(X_train, X_test, \n",
    " y_train, y_test) = train_test_split(X, y, test_size=0.2,\n",
    "                                     stratify=df['StoreType'],\n",
    "                                     random_state=random_state)"
   ]
  },
  {
   "cell_type": "code",
   "execution_count": 21,
   "metadata": {
    "tags": []
   },
   "outputs": [
    {
     "name": "stdout",
     "output_type": "stream",
     "text": [
      "Best learning rate: 0.110\n",
      "Best max depth: 2.000\n"
     ]
    }
   ],
   "source": [
    "# Use cross-validation to optimize the learning rate\n",
    "search_parameters = {\n",
    "    'learning_rate':np.arange(0.05, 0.15, 0.01),\n",
    "    'max_depth':[2, 4, 6, 8]\n",
    "}\n",
    "\n",
    "xgb_reg = XGBRegressor(random_state=random_state)\n",
    "grid_reg = GridSearchCV(xgb_reg, search_parameters)\n",
    "grid_reg.fit(X_train, y_train)\n",
    "\n",
    "print(f'Best learning rate: {grid_reg.best_params_[\"learning_rate\"]:.3f}')\n",
    "print(f'Best max depth: {grid_reg.best_params_[\"max_depth\"]:.3f}')"
   ]
  },
  {
   "cell_type": "code",
   "execution_count": 22,
   "metadata": {
    "tags": []
   },
   "outputs": [
    {
     "name": "stdout",
     "output_type": "stream",
     "text": [
      "Test MSE:   35209345033.568\n",
      "Test RMSE:  187641.533\n",
      "Test R2:    0.927\n"
     ]
    }
   ],
   "source": [
    "# Get the best-performing classifier\n",
    "best_xgb_reg = grid_reg.best_estimator_\n",
    "\n",
    "# Calculate performance on test data\n",
    "y_pred = best_xgb_reg.predict(X_test)\n",
    "mse = mean_squared_error(y_test, y_pred)\n",
    "rmse = np.sqrt(mse)\n",
    "print(f'Test MSE:   {mse:.3f}\\n'\n",
    "      f'Test RMSE:  {rmse:.3f}\\n'\n",
    "      f'Test R2:    {r2_score(y_test, y_pred):.3f}')"
   ]
  }
 ],
 "metadata": {
  "kernelspec": {
   "display_name": "Python 3 (ipykernel)",
   "language": "python",
   "name": "python3"
  },
  "language_info": {
   "codemirror_mode": {
    "name": "ipython",
    "version": 3
   },
   "file_extension": ".py",
   "mimetype": "text/x-python",
   "name": "python",
   "nbconvert_exporter": "python",
   "pygments_lexer": "ipython3",
   "version": "3.10.9"
  }
 },
 "nbformat": 4,
 "nbformat_minor": 4
}
