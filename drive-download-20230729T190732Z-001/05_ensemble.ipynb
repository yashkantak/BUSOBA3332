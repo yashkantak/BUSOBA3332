{
 "cells": [
  {
   "cell_type": "markdown",
   "metadata": {},
   "source": [
    "# Introduction to Ensemble Methods"
   ]
  },
  {
   "cell_type": "markdown",
   "metadata": {},
   "source": [
    "## Load Libraries and Data"
   ]
  },
  {
   "cell_type": "code",
   "execution_count": 1,
   "metadata": {},
   "outputs": [],
   "source": [
    "%matplotlib inline\n",
    "\n",
    "import sys\n",
    "import io\n",
    "import requests\n",
    "import warnings\n",
    "import numpy as np\n",
    "import pandas as pd\n",
    "from sklearn.model_selection import train_test_split\n",
    "from sklearn.metrics import accuracy_score\n",
    "from sklearn.tree import DecisionTreeClassifier\n",
    "from sklearn.neighbors import KNeighborsClassifier\n",
    "from sklearn.linear_model import LogisticRegression\n",
    "import matplotlib as mpl\n",
    "import matplotlib.pyplot as plt\n",
    "\n",
    "# Make this notebook's output stable across runs\n",
    "random_state = 1000\n",
    "np.random.seed(random_state)"
   ]
  },
  {
   "cell_type": "markdown",
   "metadata": {},
   "source": [
    "## Load Data"
   ]
  },
  {
   "cell_type": "markdown",
   "metadata": {},
   "source": [
    "### Data Description\n",
    "\n",
    "The Bureau of Labor Statistics administers a National Longitudinal Survey of Youth that tracks individuals over the course of their lives.\n",
    "\n",
    "The 1979 (NLSY79) cohort includes men and women born in the USA between 1957 and 1964.\n",
    "\n",
    "In the data set, each row represents an individual that participates in the 1979 cohort.\n",
    "\n",
    "| Attribute      | Definition                                                                                   |\n",
    "| -------------- | -------------------------------------------------------------------------------------------- |\n",
    "| ID             | Participant identifier assigned by BLS                                                       |\n",
    "| Earnings       | Annual wage earnings 2014                                                                    |\n",
    "| WeeksWorked    | Count of weeks worked in 2014                                                                |\n",
    "| CumWeeksWorked | Cumulative weeks of work experience during study                                             |\n",
    "| Education      | Years of education as of 2014                                                                |\n",
    "| IQ             | Percentile on IQ test taken in 1979                                                          |\n",
    "| Gender         | Participant's gender                                                                         |\n",
    "| MSA            | Did the participant reside within an urban cluster or urbanized area in 2014?                |\n",
    "| Library        | Did the participant, or someone in the participant's household, have a library card in 1979? |\n",
    "| Esteem         | Score on the Rosenberg Self-Esteem Scale in 1979                                             |"
   ]
  },
  {
   "cell_type": "code",
   "execution_count": 2,
   "metadata": {},
   "outputs": [
    {
     "data": {
      "text/html": [
       "<div>\n",
       "<style scoped>\n",
       "    .dataframe tbody tr th:only-of-type {\n",
       "        vertical-align: middle;\n",
       "    }\n",
       "\n",
       "    .dataframe tbody tr th {\n",
       "        vertical-align: top;\n",
       "    }\n",
       "\n",
       "    .dataframe thead th {\n",
       "        text-align: right;\n",
       "    }\n",
       "</style>\n",
       "<table border=\"1\" class=\"dataframe\">\n",
       "  <thead>\n",
       "    <tr style=\"text-align: right;\">\n",
       "      <th></th>\n",
       "      <th>ID</th>\n",
       "      <th>Earnings</th>\n",
       "      <th>WeeksWorked</th>\n",
       "      <th>CumWeeksWorked</th>\n",
       "      <th>Education</th>\n",
       "      <th>IQ</th>\n",
       "      <th>Gender</th>\n",
       "      <th>MSA</th>\n",
       "      <th>Library</th>\n",
       "      <th>Esteem</th>\n",
       "    </tr>\n",
       "  </thead>\n",
       "  <tbody>\n",
       "    <tr>\n",
       "      <th>0</th>\n",
       "      <td>83</td>\n",
       "      <td>0</td>\n",
       "      <td>3</td>\n",
       "      <td>553.0</td>\n",
       "      <td>10</td>\n",
       "      <td>2</td>\n",
       "      <td>Male</td>\n",
       "      <td>Yes</td>\n",
       "      <td>Yes</td>\n",
       "      <td>18</td>\n",
       "    </tr>\n",
       "    <tr>\n",
       "      <th>1</th>\n",
       "      <td>84</td>\n",
       "      <td>0</td>\n",
       "      <td>3</td>\n",
       "      <td>107.0</td>\n",
       "      <td>12</td>\n",
       "      <td>9</td>\n",
       "      <td>Male</td>\n",
       "      <td>Yes</td>\n",
       "      <td>Yes</td>\n",
       "      <td>20</td>\n",
       "    </tr>\n",
       "    <tr>\n",
       "      <th>2</th>\n",
       "      <td>87</td>\n",
       "      <td>11500</td>\n",
       "      <td>5</td>\n",
       "      <td>759.0</td>\n",
       "      <td>12</td>\n",
       "      <td>5</td>\n",
       "      <td>Male</td>\n",
       "      <td>Yes</td>\n",
       "      <td>Yes</td>\n",
       "      <td>22</td>\n",
       "    </tr>\n",
       "    <tr>\n",
       "      <th>3</th>\n",
       "      <td>105</td>\n",
       "      <td>20501</td>\n",
       "      <td>11</td>\n",
       "      <td>979.0</td>\n",
       "      <td>12</td>\n",
       "      <td>84</td>\n",
       "      <td>Female</td>\n",
       "      <td>Yes</td>\n",
       "      <td>Yes</td>\n",
       "      <td>19</td>\n",
       "    </tr>\n",
       "    <tr>\n",
       "      <th>4</th>\n",
       "      <td>178</td>\n",
       "      <td>59000</td>\n",
       "      <td>46</td>\n",
       "      <td>1010.0</td>\n",
       "      <td>16</td>\n",
       "      <td>99</td>\n",
       "      <td>Male</td>\n",
       "      <td>No</td>\n",
       "      <td>Yes</td>\n",
       "      <td>24</td>\n",
       "    </tr>\n",
       "  </tbody>\n",
       "</table>\n",
       "</div>"
      ],
      "text/plain": [
       "    ID  Earnings  WeeksWorked  CumWeeksWorked  Education  IQ  Gender  MSA  \\\n",
       "0   83         0            3           553.0         10   2    Male  Yes   \n",
       "1   84         0            3           107.0         12   9    Male  Yes   \n",
       "2   87     11500            5           759.0         12   5    Male  Yes   \n",
       "3  105     20501           11           979.0         12  84  Female  Yes   \n",
       "4  178     59000           46          1010.0         16  99    Male   No   \n",
       "\n",
       "  Library  Esteem  \n",
       "0     Yes      18  \n",
       "1     Yes      20  \n",
       "2     Yes      22  \n",
       "3     Yes      19  \n",
       "4     Yes      24  "
      ]
     },
     "execution_count": 2,
     "metadata": {},
     "output_type": "execute_result"
    }
   ],
   "source": [
    "url = 'https://raw.githubusercontent.com/natecraig/aiml/main/Data/nlsy.csv'\n",
    "download = requests.get(url).content\n",
    "df = pd.read_csv(io.StringIO(download.decode('utf-8')))\n",
    "df.head()"
   ]
  },
  {
   "cell_type": "markdown",
   "metadata": {},
   "source": [
    "## Build an Ensemble"
   ]
  },
  {
   "cell_type": "code",
   "execution_count": 3,
   "metadata": {},
   "outputs": [
    {
     "data": {
      "text/plain": [
       "1 High School      0.830679\n",
       "2 Undergraduate    0.113160\n",
       "3 Graduate         0.056161\n",
       "Name: EducationCategory, dtype: float64"
      ]
     },
     "execution_count": 3,
     "metadata": {},
     "output_type": "execute_result"
    }
   ],
   "source": [
    "# Return index of education category as a function of years of education\n",
    "def education_category(years_education):\n",
    "    if years_education < 16:\n",
    "        return '1 High School'\n",
    "    elif years_education == 16:\n",
    "        return '2 Undergraduate'\n",
    "    else:\n",
    "        return '3 Graduate'\n",
    "\n",
    "\n",
    "# Create a variable to contain each participant's education category    \n",
    "df['EducationCategory'] = df['Education'].apply(education_category)\n",
    "df['EducationCategory'].value_counts(normalize=True)"
   ]
  },
  {
   "cell_type": "code",
   "execution_count": 4,
   "metadata": {},
   "outputs": [],
   "source": [
    "# Predict EducationCategory as a function of Earnings and WeeksWorked\n",
    "X = df[['Earnings', 'WeeksWorked']]\n",
    "y = df['EducationCategory']\n",
    "\n",
    "# Split data into training and testing sets\n",
    "(X_train, X_test, \n",
    " y_train, y_test) = train_test_split(X, y, test_size=0.5,\n",
    "                                     stratify=y, random_state=random_state)"
   ]
  },
  {
   "cell_type": "code",
   "execution_count": 5,
   "metadata": {},
   "outputs": [],
   "source": [
    "# Use decision tree, k-nearest neighbors,\n",
    "# and logistic regression classifiers\n",
    "treea_clf = DecisionTreeClassifier(max_depth=1, random_state=random_state)\n",
    "treeb_clf = DecisionTreeClassifier(max_depth=2, random_state=random_state)\n",
    "knn_clf = KNeighborsClassifier(n_neighbors=1)\n",
    "\n",
    "classifiers = {\n",
    "    'treea':treea_clf,\n",
    "    'treeb':treeb_clf,\n",
    "    'knn':knn_clf,\n",
    "}"
   ]
  },
  {
   "cell_type": "code",
   "execution_count": 6,
   "metadata": {},
   "outputs": [
    {
     "name": "stdout",
     "output_type": "stream",
     "text": [
      "treea                    0.879\n",
      "treeb                    0.874\n",
      "knn                      0.874\n"
     ]
    }
   ],
   "source": [
    "# Evaluate each classifier separately on test data\n",
    "dfpred = pd.DataFrame()\n",
    "for name, clf in classifiers.items():\n",
    "    clf.fit(X_train, y_train)    \n",
    "    dfpred[name] = clf.predict(X_test)\n",
    "    print('{:<24} {:.3f}'.format(name,\n",
    "                                 accuracy_score(y_test, dfpred[name])))\n"
   ]
  },
  {
   "cell_type": "code",
   "execution_count": 7,
   "metadata": {},
   "outputs": [
    {
     "data": {
      "text/html": [
       "<div>\n",
       "<style scoped>\n",
       "    .dataframe tbody tr th:only-of-type {\n",
       "        vertical-align: middle;\n",
       "    }\n",
       "\n",
       "    .dataframe tbody tr th {\n",
       "        vertical-align: top;\n",
       "    }\n",
       "\n",
       "    .dataframe thead th {\n",
       "        text-align: right;\n",
       "    }\n",
       "</style>\n",
       "<table border=\"1\" class=\"dataframe\">\n",
       "  <thead>\n",
       "    <tr style=\"text-align: right;\">\n",
       "      <th></th>\n",
       "      <th>treea</th>\n",
       "      <th>treeb</th>\n",
       "      <th>knn</th>\n",
       "    </tr>\n",
       "  </thead>\n",
       "  <tbody>\n",
       "    <tr>\n",
       "      <th>0</th>\n",
       "      <td>2 Undergraduate</td>\n",
       "      <td>3 Graduate</td>\n",
       "      <td>3 Graduate</td>\n",
       "    </tr>\n",
       "    <tr>\n",
       "      <th>1</th>\n",
       "      <td>1 High School</td>\n",
       "      <td>1 High School</td>\n",
       "      <td>1 High School</td>\n",
       "    </tr>\n",
       "    <tr>\n",
       "      <th>2</th>\n",
       "      <td>1 High School</td>\n",
       "      <td>1 High School</td>\n",
       "      <td>1 High School</td>\n",
       "    </tr>\n",
       "  </tbody>\n",
       "</table>\n",
       "</div>"
      ],
      "text/plain": [
       "             treea          treeb            knn\n",
       "0  2 Undergraduate     3 Graduate     3 Graduate\n",
       "1    1 High School  1 High School  1 High School\n",
       "2    1 High School  1 High School  1 High School"
      ]
     },
     "execution_count": 7,
     "metadata": {},
     "output_type": "execute_result"
    }
   ],
   "source": [
    "# Show predictions\n",
    "dfpred.head(n=3)"
   ]
  },
  {
   "cell_type": "code",
   "execution_count": 8,
   "metadata": {},
   "outputs": [
    {
     "data": {
      "text/html": [
       "<div>\n",
       "<style scoped>\n",
       "    .dataframe tbody tr th:only-of-type {\n",
       "        vertical-align: middle;\n",
       "    }\n",
       "\n",
       "    .dataframe tbody tr th {\n",
       "        vertical-align: top;\n",
       "    }\n",
       "\n",
       "    .dataframe thead th {\n",
       "        text-align: right;\n",
       "    }\n",
       "</style>\n",
       "<table border=\"1\" class=\"dataframe\">\n",
       "  <thead>\n",
       "    <tr style=\"text-align: right;\">\n",
       "      <th></th>\n",
       "      <th>treea</th>\n",
       "      <th>treeb</th>\n",
       "      <th>knn</th>\n",
       "      <th>Ensemble</th>\n",
       "    </tr>\n",
       "  </thead>\n",
       "  <tbody>\n",
       "    <tr>\n",
       "      <th>0</th>\n",
       "      <td>2 Undergraduate</td>\n",
       "      <td>3 Graduate</td>\n",
       "      <td>3 Graduate</td>\n",
       "      <td>3 Graduate</td>\n",
       "    </tr>\n",
       "    <tr>\n",
       "      <th>1</th>\n",
       "      <td>1 High School</td>\n",
       "      <td>1 High School</td>\n",
       "      <td>1 High School</td>\n",
       "      <td>1 High School</td>\n",
       "    </tr>\n",
       "    <tr>\n",
       "      <th>2</th>\n",
       "      <td>1 High School</td>\n",
       "      <td>1 High School</td>\n",
       "      <td>1 High School</td>\n",
       "      <td>1 High School</td>\n",
       "    </tr>\n",
       "    <tr>\n",
       "      <th>3</th>\n",
       "      <td>1 High School</td>\n",
       "      <td>1 High School</td>\n",
       "      <td>1 High School</td>\n",
       "      <td>1 High School</td>\n",
       "    </tr>\n",
       "    <tr>\n",
       "      <th>4</th>\n",
       "      <td>1 High School</td>\n",
       "      <td>1 High School</td>\n",
       "      <td>1 High School</td>\n",
       "      <td>1 High School</td>\n",
       "    </tr>\n",
       "  </tbody>\n",
       "</table>\n",
       "</div>"
      ],
      "text/plain": [
       "             treea          treeb            knn       Ensemble\n",
       "0  2 Undergraduate     3 Graduate     3 Graduate     3 Graduate\n",
       "1    1 High School  1 High School  1 High School  1 High School\n",
       "2    1 High School  1 High School  1 High School  1 High School\n",
       "3    1 High School  1 High School  1 High School  1 High School\n",
       "4    1 High School  1 High School  1 High School  1 High School"
      ]
     },
     "execution_count": 8,
     "metadata": {},
     "output_type": "execute_result"
    }
   ],
   "source": [
    "# Combine the individual classifiers into a voting ensemble\n",
    "dfpred['Ensemble'] = dfpred.mode(axis=1)[0]\n",
    "dfpred.head()"
   ]
  },
  {
   "cell_type": "code",
   "execution_count": 9,
   "metadata": {},
   "outputs": [
    {
     "data": {
      "text/plain": [
       "treea       2 Undergraduate\n",
       "treeb            3 Graduate\n",
       "knn              3 Graduate\n",
       "Ensemble         3 Graduate\n",
       "Name: 0, dtype: object"
      ]
     },
     "execution_count": 9,
     "metadata": {},
     "output_type": "execute_result"
    }
   ],
   "source": [
    "# Example of when the classifiers disagree\n",
    "dfpred.loc[0, :]"
   ]
  },
  {
   "cell_type": "code",
   "execution_count": 10,
   "metadata": {},
   "outputs": [
    {
     "data": {
      "text/plain": [
       "'3 Graduate'"
      ]
     },
     "execution_count": 10,
     "metadata": {},
     "output_type": "execute_result"
    }
   ],
   "source": [
    "y_test.iloc[0]"
   ]
  },
  {
   "cell_type": "code",
   "execution_count": 11,
   "metadata": {},
   "outputs": [
    {
     "name": "stdout",
     "output_type": "stream",
     "text": [
      "treea                    0.879\n",
      "treeb                    0.874\n",
      "knn                      0.874\n",
      "Ensemble                 0.891\n"
     ]
    }
   ],
   "source": [
    "# Compare the ensemble's performance to the constituent classifiers\n",
    "for col in dfpred:\n",
    "    print('{:<24} {:.3f}'.format(col,\n",
    "                                 accuracy_score(y_test, dfpred[col])))"
   ]
  },
  {
   "cell_type": "code",
   "execution_count": null,
   "metadata": {},
   "outputs": [],
   "source": []
  }
 ],
 "metadata": {
  "kernelspec": {
   "display_name": "Python 3 (ipykernel)",
   "language": "python",
   "name": "python3"
  },
  "language_info": {
   "codemirror_mode": {
    "name": "ipython",
    "version": 3
   },
   "file_extension": ".py",
   "mimetype": "text/x-python",
   "name": "python",
   "nbconvert_exporter": "python",
   "pygments_lexer": "ipython3",
   "version": "3.10.9"
  }
 },
 "nbformat": 4,
 "nbformat_minor": 4
}
