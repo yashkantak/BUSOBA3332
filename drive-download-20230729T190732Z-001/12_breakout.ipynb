{
 "cells": [
  {
   "cell_type": "markdown",
   "id": "1db2901e-0c0a-4f24-89a0-812cbfb54479",
   "metadata": {},
   "source": [
    "# Breakout (Reinforcement Learning)"
   ]
  },
  {
   "cell_type": "code",
   "execution_count": 1,
   "id": "963e35c6-fbc4-477e-b764-671b256f1d15",
   "metadata": {},
   "outputs": [],
   "source": [
    "import sys\n",
    "\n",
    "# Colab setup\n",
    "if 'google.colab' in sys.modules:\n",
    "    %pip install -q -U gymnasium\n",
    "    %pip install -q -U gymnasium[classic_control,box2d,atari,accept-rom-license]\n",
    "    \n",
    "import warnings\n",
    "import logging\n",
    "import numpy as np\n",
    "import sklearn\n",
    "import tensorflow as tf\n",
    "from tensorflow import keras\n",
    "from tf_agents.environments import suite_gym, suite_atari\n",
    "from tf_agents.environments.atari_preprocessing import AtariPreprocessing\n",
    "from tf_agents.environments.atari_wrappers import FrameStack4\n",
    "from tf_agents.environments.tf_py_environment import TFPyEnvironment\n",
    "from tf_agents.networks.q_network import QNetwork\n",
    "from tf_agents.agents.dqn.dqn_agent import DqnAgent\n",
    "from tf_agents.replay_buffers import tf_uniform_replay_buffer\n",
    "from tf_agents.metrics import tf_metrics\n",
    "from tf_agents.eval.metric_utils import log_metrics\n",
    "import gym\n",
    "import matplotlib as mpl\n",
    "import matplotlib.pyplot as plt\n",
    "import matplotlib.animation as animation\n",
    "import seaborn as sns\n",
    "\n",
    "# Make notebook output stable across runs\n",
    "random_state = 1000\n",
    "np.random.seed(random_state)\n",
    "tf.random.set_seed(random_state)\n",
    "\n",
    "# Plot settings\n",
    "%matplotlib inline\n",
    "sns.set()\n",
    "mpl.rc('font', size=14)\n",
    "mpl.rc('axes', labelsize=14, titlesize=14)\n",
    "mpl.rc('legend', fontsize=14)\n",
    "mpl.rc('xtick', labelsize=10)\n",
    "mpl.rc('ytick', labelsize=10)\n",
    "mpl.rc('animation', html='jshtml')"
   ]
  },
  {
   "cell_type": "code",
   "execution_count": 2,
   "id": "19fca27e-9457-42a2-9d0e-bcbe17996941",
   "metadata": {},
   "outputs": [],
   "source": [
    "# Utility functions\n",
    "\n",
    "def show_env(env):\n",
    "    img = env.render(mode='rgb-array')\n",
    "    plt.figure(figsize=(6, 8))\n",
    "    plt.imshow(img)\n",
    "    plt.axis('off')\n",
    "    plt.show()\n",
    "    \n",
    "    \n",
    "def update_scene(num, frames, patch):\n",
    "    patch.set_data(frames[num])\n",
    "    return patch\n",
    "\n",
    "\n",
    "def plot_animation(frames, repeat=False, interval=100):\n",
    "    fig = plt.figure()\n",
    "    patch = plt.imshow(frames[0])\n",
    "    plt.axis('off')\n",
    "    anim = animation.FuncAnimation(fig, update_scene, fargs=(frames, patch),\n",
    "                                   frames=len(frames), repeat=repeat, \n",
    "                                   interval=interval)\n",
    "    plt.close()\n",
    "    return anim       "
   ]
  },
  {
   "cell_type": "markdown",
   "id": "966ac0d9-8475-4739-b36b-5b5b26b4197c",
   "metadata": {},
   "source": [
    "## Running Breakout"
   ]
  },
  {
   "cell_type": "code",
   "execution_count": 3,
   "id": "98528ed3-5dbd-481c-8bc5-7152220a04c5",
   "metadata": {},
   "outputs": [
    {
     "name": "stderr",
     "output_type": "stream",
     "text": [
      "A.L.E: Arcade Learning Environment (version 0.8.1+53f58b7)\n",
      "[Powered by Stella]\n"
     ]
    }
   ],
   "source": [
    "# To install Breakout, may need to run:\n",
    "# pip install 'gym[atari, accept-rom-license]'\n",
    "\n",
    "#warnings.filterwarnings('ignore')\n",
    "env = gym.make('BreakoutNoFrameskip-v4', render_mode='human')"
   ]
  },
  {
   "cell_type": "code",
   "execution_count": 4,
   "id": "efa284de-73a3-4e7b-b829-84a2eeddc918",
   "metadata": {},
   "outputs": [
    {
     "data": {
      "text/plain": [
       "Discrete(4)"
      ]
     },
     "execution_count": 4,
     "metadata": {},
     "output_type": "execute_result"
    }
   ],
   "source": [
    "env.action_space"
   ]
  },
  {
   "cell_type": "code",
   "execution_count": 5,
   "id": "d6aa59d7-ca1f-47e4-bfce-4fbc94d8dfd2",
   "metadata": {},
   "outputs": [
    {
     "data": {
      "text/plain": [
       "Box(0, 255, (210, 160, 3), uint8)"
      ]
     },
     "execution_count": 5,
     "metadata": {},
     "output_type": "execute_result"
    }
   ],
   "source": [
    "env.observation_space"
   ]
  },
  {
   "cell_type": "code",
   "execution_count": 6,
   "id": "573fcc7b-699d-4662-82c6-da26ad2744ba",
   "metadata": {},
   "outputs": [],
   "source": [
    "_ = env.reset()"
   ]
  },
  {
   "cell_type": "code",
   "execution_count": 10,
   "id": "7b8c839f-dc1a-4432-9022-a43d719555c4",
   "metadata": {},
   "outputs": [
    {
     "ename": "ValueError",
     "evalue": "too many values to unpack (expected 4)",
     "output_type": "error",
     "traceback": [
      "\u001b[0;31m---------------------------------------------------------------------------\u001b[0m",
      "\u001b[0;31mValueError\u001b[0m                                Traceback (most recent call last)",
      "Cell \u001b[0;32mIn[10], line 1\u001b[0m\n\u001b[0;32m----> 1\u001b[0m _, _, _, _ \u001b[38;5;241m=\u001b[39m \u001b[43menv\u001b[49m\u001b[38;5;241;43m.\u001b[39;49m\u001b[43mstep\u001b[49m\u001b[43m(\u001b[49m\u001b[38;5;241;43m1\u001b[39;49m\u001b[43m)\u001b[49m\n",
      "File \u001b[0;32m~/envs/std/lib/python3.10/site-packages/gym/wrappers/order_enforcing.py:13\u001b[0m, in \u001b[0;36mOrderEnforcing.step\u001b[0;34m(self, action)\u001b[0m\n\u001b[1;32m     11\u001b[0m \u001b[38;5;28;01mdef\u001b[39;00m \u001b[38;5;21mstep\u001b[39m(\u001b[38;5;28mself\u001b[39m, action):\n\u001b[1;32m     12\u001b[0m     \u001b[38;5;28;01massert\u001b[39;00m \u001b[38;5;28mself\u001b[39m\u001b[38;5;241m.\u001b[39m_has_reset, \u001b[38;5;124m\"\u001b[39m\u001b[38;5;124mCannot call env.step() before calling reset()\u001b[39m\u001b[38;5;124m\"\u001b[39m\n\u001b[0;32m---> 13\u001b[0m     observation, reward, done, info \u001b[38;5;241m=\u001b[39m \u001b[38;5;28mself\u001b[39m\u001b[38;5;241m.\u001b[39menv\u001b[38;5;241m.\u001b[39mstep(action)\n\u001b[1;32m     14\u001b[0m     \u001b[38;5;28;01mreturn\u001b[39;00m observation, reward, done, info\n",
      "\u001b[0;31mValueError\u001b[0m: too many values to unpack (expected 4)"
     ]
    }
   ],
   "source": [
    "_, _, _, _ = env.step(1)"
   ]
  },
  {
   "cell_type": "code",
   "execution_count": null,
   "id": "eabeb2e6-35e1-4848-8369-33c9c817487a",
   "metadata": {},
   "outputs": [],
   "source": [
    "print(Observation Space: \", env.observation_space)\n",
    "print(\"Action Space       \", env.action_space)\n",
    "\n",
    "\n",
    "obs = env.reset()\n",
    "\n",
    "for i in range(1000):\n",
    "    action = env.action_space.sample()\n",
    "    obs, reward, done, info = env.step(action)\n",
    "    time.sleep(0.01)\n",
    "env.close()"
   ]
  },
  {
   "cell_type": "markdown",
   "id": "e56a17e4-14c7-46d9-bc13-17601cf27df2",
   "metadata": {},
   "source": [
    "## How An Agent Can Play Breakout"
   ]
  },
  {
   "cell_type": "code",
   "execution_count": null,
   "id": "29f0b30e-54a1-4628-bcc4-65493c61fa17",
   "metadata": {},
   "outputs": [],
   "source": [
    "max_episode_steps = 27000 # 108,000 frames, since 1 step is 4 frames\n",
    "environment_name = 'BreakoutNoFrameskip-v4'\n",
    "\n",
    "\n",
    "class AtariPreprocessingWithAutoFire(AtariPreprocessing):\n",
    "    def reset(self, **kwargs):\n",
    "        obs = super().reset(**kwargs)\n",
    "        super().step(1) # Action fire to start\n",
    "        return obs\n",
    "    \n",
    "    \n",
    "    def step(self, action):\n",
    "        lives_before_action = self.ale.lives()\n",
    "        obs, rewards, done, info = super().step(action)\n",
    "        if self.ale.lives() < lives_before_action and not done:\n",
    "            super().step(1) # Action fire to start after life lost\n",
    "        return obs, rewards, done, info\n",
    "\n",
    "    \n",
    "env = suite_atari.load(\n",
    "    environment_name,\n",
    "    max_episode_steps=max_episode_steps,\n",
    "    gym_env_wrappers=[AtariPreprocessingWithAutoFire, FrameStack4]\n",
    ")"
   ]
  },
  {
   "cell_type": "code",
   "execution_count": null,
   "id": "8ecd781b-ce30-4e3b-b604-67e8d83a5bc2",
   "metadata": {},
   "outputs": [],
   "source": [
    "# Visualize a series of moves\n",
    "\n",
    "def plot_observation(obs):\n",
    "    # Since there are only 3 color channels, you cannot display 4 frames\n",
    "    # with one primary color per frame. So this code computes the delta between\n",
    "    # the current frame and the mean of the other frames, and it adds this delta\n",
    "    # to the red and blue channels to get a pink color for the current frame.\n",
    "    obs = obs.astype(np.float32)\n",
    "    img = obs[..., :3]\n",
    "    current_frame_delta = np.maximum(obs[..., 3]\n",
    "                                     - obs[..., :3].mean(axis=-1), 0.)\n",
    "    img[..., 0] += current_frame_delta\n",
    "    img[..., 2] += current_frame_delta\n",
    "    img = np.clip(img / 150, 0, 1)\n",
    "    plt.imshow(img)\n",
    "    plt.axis(\"off\")\n",
    "    \n",
    "    \n",
    "env.seed(random_state)\n",
    "env.reset()\n",
    "for _ in range(4):\n",
    "    time_step = env.step(3) # Action 3 is \"move left\"\n",
    "    \n",
    "plt.figure(figsize=(6, 6))\n",
    "plot_observation(time_step.observation)\n",
    "plt.show()"
   ]
  },
  {
   "cell_type": "markdown",
   "id": "d7f6bb8d-1c11-4470-852a-fdcb7f4a0d83",
   "metadata": {},
   "source": [
    "## Training an Agent to Play Breakout"
   ]
  },
  {
   "cell_type": "code",
   "execution_count": null,
   "id": "a53c37e2-0e73-48d4-bd0b-94c087f48127",
   "metadata": {},
   "outputs": [],
   "source": [
    "tf_env = TFPyEnvironment(env)\n",
    "\n",
    "preprocessing_layer = \\\n",
    "    keras.layers.Lambda(lambda obs: tf.cast(obs, np.float32) / 255.)\n",
    "\n",
    "conv_layer_params=[(32, (8, 8), 4), (64, (4, 4), 2), (64, (3, 3), 1)]\n",
    "\n",
    "fc_layer_params=[512]\n",
    "\n",
    "q_net = QNetwork(\n",
    "    tf_env.observation_spec(),\n",
    "    tf_env.action_spec(),\n",
    "    preprocessing_layers=preprocessing_layer,\n",
    "    conv_layer_params=conv_layer_params,\n",
    "    fc_layer_params=fc_layer_params\n",
    ")"
   ]
  },
  {
   "cell_type": "code",
   "execution_count": null,
   "id": "ed843b84-8c6d-4380-9bb9-2c9549661128",
   "metadata": {},
   "outputs": [],
   "source": [
    "train_step = tf.Variable(0)\n",
    "update_period = 4 # run a training step every 4 collect steps\n",
    "\n",
    "optimizer = keras.optimizers.RMSprop(learning_rate=2.5e-4, rho=0.95,\n",
    "                                     momentum=0.0, epsilon=0.00001,\n",
    "                                     centered=True)\n",
    "\n",
    "epsilon_fn = keras.optimizers.schedules.PolynomialDecay(\n",
    "    initial_learning_rate=1.0,  # initial ε\n",
    "    decay_steps=250000 // update_period,  # <=> 1,000,000 frames\n",
    "    end_learning_rate=0.01  # final ε\n",
    ") \n",
    "\n",
    "agent = DqnAgent(\n",
    "    tf_env.time_step_spec(),\n",
    "    tf_env.action_spec(),\n",
    "    q_network=q_net,\n",
    "    optimizer=optimizer,\n",
    "    target_update_period=2000,  # <=> 32,000 frames\n",
    "    td_errors_loss_fn=keras.losses.Huber(reduction='none'),\n",
    "    gamma=0.99,  # Discount factor\n",
    "    train_step_counter=train_step,\n",
    "    epsilon_greedy=lambda: epsilon_fn(train_step)\n",
    ")\n",
    "\n",
    "agent.initialize()"
   ]
  },
  {
   "cell_type": "code",
   "execution_count": null,
   "id": "e2dda67b-fce0-45e9-8c4c-ea64a7932b4f",
   "metadata": {},
   "outputs": [],
   "source": [
    "replay_buffer = tf_uniform_replay_buffer.TFUniformReplayBuffer(\n",
    "    data_spec=agent.collect_data_spec,\n",
    "    batch_size=tf_env.batch_size,\n",
    "    max_length=100000  # Reduce if memory error\n",
    ") \n",
    "\n",
    "replay_buffer_observer = replay_buffer.add_batch"
   ]
  },
  {
   "cell_type": "code",
   "execution_count": null,
   "id": "38c29f75-e04b-44e3-81a8-da27253cd1d7",
   "metadata": {},
   "outputs": [],
   "source": [
    "class ShowProgress:\n",
    "    def __init__(self, total):\n",
    "        self.counter = 0\n",
    "        self.total = total\n",
    "    def __call__(self, trajectory):\n",
    "        if not trajectory.is_boundary():\n",
    "            self.counter += 1\n",
    "        if self.counter % 100 == 0:\n",
    "            print('\\r{}/{}'.format(self.counter, self.total), end='')"
   ]
  },
  {
   "cell_type": "code",
   "execution_count": null,
   "id": "bb475bff-bd6e-421e-8f1e-7c735715a528",
   "metadata": {},
   "outputs": [],
   "source": [
    "train_metrics = [\n",
    "    tf_metrics.NumberOfEpisodes(),\n",
    "    tf_metrics.EnvironmentSteps(),\n",
    "    tf_metrics.AverageReturnMetric(),\n",
    "    tf_metrics.AverageEpisodeLengthMetric(),\n",
    "]"
   ]
  },
  {
   "cell_type": "code",
   "execution_count": null,
   "id": "bcc42951-fa44-4a2a-a289-cf08bc9c445c",
   "metadata": {},
   "outputs": [],
   "source": [
    "logging.getLogger().setLevel(logging.INFO)\n",
    "log_metrics(train_metrics)"
   ]
  },
  {
   "cell_type": "code",
   "execution_count": null,
   "id": "89ecb438-11b4-4559-9ca6-e19ba45c7770",
   "metadata": {},
   "outputs": [],
   "source": [
    "from tf_agents.drivers.dynamic_step_driver import DynamicStepDriver\n",
    "\n",
    "collect_driver = DynamicStepDriver(\n",
    "    tf_env,\n",
    "    agent.collect_policy,\n",
    "    observers=[replay_buffer_observer] + train_metrics,\n",
    "    num_steps=update_period  # Collect 4 steps for each training iteration\n",
    ") "
   ]
  },
  {
   "cell_type": "code",
   "execution_count": null,
   "id": "2966154d-4c39-40fb-853e-37c4e296800f",
   "metadata": {},
   "outputs": [],
   "source": [
    "from tf_agents.policies.random_tf_policy import RandomTFPolicy\n",
    "\n",
    "initial_collect_policy = RandomTFPolicy(tf_env.time_step_spec(),\n",
    "                                        tf_env.action_spec())\n",
    "\n",
    "init_driver = DynamicStepDriver(\n",
    "    tf_env,\n",
    "    initial_collect_policy,\n",
    "    observers=[replay_buffer.add_batch, ShowProgress(20000)],\n",
    "    num_steps=20000  # <=> 80,000 frames\n",
    ")  \n",
    "\n",
    "final_time_step, final_policy_state = init_driver.run()"
   ]
  },
  {
   "cell_type": "code",
   "execution_count": null,
   "id": "9798b092-5aa1-4bd8-98dc-a52f8d40d86e",
   "metadata": {},
   "outputs": [],
   "source": [
    "# Seed chosen to show an example of trajectory at the end of an episode\n",
    "tf.random.set_seed(9) \n",
    "\n",
    "trajectories, buffer_info = next(iter(replay_buffer.as_dataset(\n",
    "    sample_batch_size=2,\n",
    "    num_steps=3,\n",
    "    single_deterministic_pass=False\n",
    ")))"
   ]
  },
  {
   "cell_type": "code",
   "execution_count": null,
   "id": "c972a797-6238-4053-9abf-5f7827cbb8c8",
   "metadata": {},
   "outputs": [],
   "source": [
    "plt.figure(figsize=(10, 6.8))\n",
    "for row in range(2):\n",
    "    for col in range(3):\n",
    "        plt.subplot(2, 3, row * 3 + col + 1)\n",
    "        plot_observation(trajectories.observation[row, col].numpy())\n",
    "plt.subplots_adjust(left=0, right=1, bottom=0, top=1, hspace=0, wspace=0.02)\n",
    "plt.show()"
   ]
  },
  {
   "cell_type": "code",
   "execution_count": null,
   "id": "acf2bbd5-7c1a-44c1-9fe8-5430cae15d62",
   "metadata": {},
   "outputs": [],
   "source": [
    "dataset = replay_buffer.as_dataset(\n",
    "    sample_batch_size=64,\n",
    "    num_steps=2,\n",
    "    num_parallel_calls=3\n",
    ").prefetch(3)"
   ]
  },
  {
   "cell_type": "code",
   "execution_count": null,
   "id": "d32b7c6b-5048-47a8-ab55-c73d8ac7a200",
   "metadata": {},
   "outputs": [],
   "source": [
    "from tf_agents.utils.common import function\n",
    "\n",
    "collect_driver.run = function(collect_driver.run)\n",
    "agent.train = function(agent.train)\n",
    "\n",
    "\n",
    "def train_agent(n_iterations):\n",
    "    time_step = None\n",
    "    policy_state = agent.collect_policy.get_initial_state(tf_env.batch_size)\n",
    "    iterator = iter(dataset)\n",
    "    for iteration in range(n_iterations):\n",
    "        time_step, policy_state = collect_driver.run(time_step, policy_state)\n",
    "        trajectories, buffer_info = next(iterator)\n",
    "        train_loss = agent.train(trajectories)\n",
    "        print(\"\\r{} loss:{:.5f}\".format(\n",
    "            iteration, train_loss.loss.numpy()), end=\"\")\n",
    "        if iteration % 1000 == 0:\n",
    "            log_metrics(train_metrics)            "
   ]
  },
  {
   "cell_type": "code",
   "execution_count": null,
   "id": "5e485172-937a-4df1-bbdd-8d00b82822e9",
   "metadata": {},
   "outputs": [],
   "source": [
    "train_agent(n_iterations=100)"
   ]
  },
  {
   "cell_type": "code",
   "execution_count": null,
   "id": "6dd219d9-313f-4ef9-a1c8-a02e626998b5",
   "metadata": {},
   "outputs": [],
   "source": [
    "frames = []\n",
    "def save_frames(trajectory):\n",
    "    global frames\n",
    "    frames.append(tf_env.pyenv.envs[0].render(mode='rgb_array'))\n",
    "\n",
    "watch_driver = DynamicStepDriver(\n",
    "    tf_env,\n",
    "    agent.policy,\n",
    "    observers=[save_frames, ShowProgress(1000)],\n",
    "    num_steps=1000)\n",
    "final_time_step, final_policy_state = watch_driver.run()\n",
    "\n",
    "plot_animation(frames)"
   ]
  }
 ],
 "metadata": {
  "kernelspec": {
   "display_name": "Python 3 (ipykernel)",
   "language": "python",
   "name": "python3"
  },
  "language_info": {
   "codemirror_mode": {
    "name": "ipython",
    "version": 3
   },
   "file_extension": ".py",
   "mimetype": "text/x-python",
   "name": "python",
   "nbconvert_exporter": "python",
   "pygments_lexer": "ipython3",
   "version": "3.10.10"
  }
 },
 "nbformat": 4,
 "nbformat_minor": 5
}
