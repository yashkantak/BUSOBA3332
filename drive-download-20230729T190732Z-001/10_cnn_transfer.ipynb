{
 "cells": [
  {
   "cell_type": "markdown",
   "id": "emerging-preservation",
   "metadata": {},
   "source": [
    "# Transfer Learning with Convolutional Neural Networks"
   ]
  },
  {
   "cell_type": "markdown",
   "id": "56b91cd7-ce0d-4f00-aecd-9b6945f2db1d",
   "metadata": {},
   "source": [
    "## Load Libraries and Data"
   ]
  },
  {
   "cell_type": "code",
   "execution_count": 1,
   "id": "warming-protein",
   "metadata": {},
   "outputs": [],
   "source": [
    "import logging\n",
    "import io\n",
    "import requests\n",
    "import numpy as np\n",
    "import pandas as pd\n",
    "from skimage import io\n",
    "from skimage.util import img_as_float\n",
    "from sklearn import datasets\n",
    "import tensorflow as tf\n",
    "from tensorflow import keras\n",
    "import matplotlib as mpl\n",
    "import matplotlib.pyplot as plt\n",
    "import seaborn as sns\n",
    "\n",
    "# Restrict tensorflow output to errors\n",
    "logging.getLogger('tensorflow').setLevel(logging.ERROR)\n",
    "\n",
    "# Make this notebook's output stable across runs\n",
    "random_state = 1000\n",
    "np.random.seed(random_state)\n",
    "tf.random.set_seed(random_state)\n",
    "\n",
    "# Plot formatting\n",
    "%matplotlib inline\n",
    "sns.set()\n",
    "mpl.rc('axes', labelsize=14)\n",
    "mpl.rc('axes', grid=False)\n",
    "mpl.rc('xtick', labelsize=12)\n",
    "mpl.rc('ytick', labelsize=12)"
   ]
  },
  {
   "cell_type": "code",
   "execution_count": 30,
   "id": "4ff005f0-2f9f-4811-a92b-ebd94a96e780",
   "metadata": {},
   "outputs": [],
   "source": [
    "((X_train_full, y_train_full),\n",
    " (X_test, y_test)) = keras.datasets.mnist.load_data()"
   ]
  },
  {
   "cell_type": "code",
   "execution_count": 4,
   "id": "8a9b563f-c8d6-45e2-b584-b51d093c043f",
   "metadata": {},
   "outputs": [],
   "source": [
    "# Take random subset of data for quicker processing\n",
    "sample = np.random.choice(X_train_full.shape[0], 20000)\n",
    "X_train_full = X_train_full[sample]\n",
    "y_train_full = y_train_full[sample]"
   ]
  },
  {
   "cell_type": "code",
   "execution_count": 31,
   "id": "d685eaab-f881-40f5-95fb-b0f8f9019b7b",
   "metadata": {},
   "outputs": [],
   "source": [
    "X_valid = X_train_full[:4000] / 255.0\n",
    "X_train = X_train_full[4000:] / 255.0\n",
    "y_valid = y_train_full[:4000]\n",
    "y_train = y_train_full[4000:]\n",
    "X_test = X_test / 255.0 \n",
    "\n",
    "image_dims = (28, 28, 1)"
   ]
  },
  {
   "cell_type": "code",
   "execution_count": 6,
   "id": "17a819e6-fd01-4edf-b465-816effcaa525",
   "metadata": {},
   "outputs": [
    {
     "data": {
      "image/png": "[encoded data removed]",
      "text/plain": [
       "<Figure size 1000x400 with 6 Axes>"
      ]
     },
     "metadata": {},
     "output_type": "display_data"
    }
   ],
   "source": [
    "# Output random training instances as images\n",
    "fig, ax = plt.subplots(1, 6, figsize=(10, 4))\n",
    "locs = np.random.randint(0, 1000, 6)\n",
    "for i, a in enumerate(ax):\n",
    "    a.imshow(X_train[locs[i]], cmap='gray')\n",
    "    a.set_title(y_train[locs[i]])\n",
    "\n",
    "plt.show()"
   ]
  },
  {
   "cell_type": "markdown",
   "id": "forbidden-static",
   "metadata": {},
   "source": [
    "## Load CNN Trained on Fashion MNIST"
   ]
  },
  {
   "cell_type": "code",
   "execution_count": 19,
   "id": "5f346d5e-9f5d-48f6-ae33-225138fa5c27",
   "metadata": {},
   "outputs": [],
   "source": [
    "tf.keras.backend.clear_session()\n",
    "model_pretrained = keras.models.load_model('cnn_fashion_mnist.h5')"
   ]
  },
  {
   "cell_type": "code",
   "execution_count": 20,
   "id": "9388d04c-0196-4cbf-bc3d-476c6969b9e0",
   "metadata": {},
   "outputs": [],
   "source": [
    "# Remove upper layer of pretrained model\n",
    "model_transfer = keras.models.Sequential(model_pretrained.layers[:-1])"
   ]
  },
  {
   "cell_type": "code",
   "execution_count": 21,
   "id": "885c3e69-94eb-4c70-b324-ca39acbc1b60",
   "metadata": {},
   "outputs": [],
   "source": [
    "# Add upper layer with 10 neuronds, one per digit\n",
    "model_transfer.add(keras.layers.Dense(10, activation='softmax',\n",
    "                                      name='NewOutput'))"
   ]
  },
  {
   "cell_type": "code",
   "execution_count": 22,
   "id": "226ccec5-fc15-4f87-9c75-14f107d7f3a5",
   "metadata": {},
   "outputs": [],
   "source": [
    "# Freeze lower layers of pretrained model\n",
    "for layer in model_transfer.layers[:-6]:\n",
    "    layer.trainable = False "
   ]
  },
  {
   "cell_type": "code",
   "execution_count": 23,
   "id": "921fd83b-fbde-4bc5-ad7a-41cda59bd9fd",
   "metadata": {},
   "outputs": [],
   "source": [
    "# Compile the new model\n",
    "opt = keras.optimizers.Adam(learning_rate=0.01)\n",
    "model_transfer.compile(loss='sparse_categorical_crossentropy',\n",
    "                       optimizer='adam', metrics=['accuracy'])"
   ]
  },
  {
   "cell_type": "code",
   "execution_count": 24,
   "id": "891f86fc-164d-4a46-84e9-3111fc09c8f2",
   "metadata": {},
   "outputs": [
    {
     "name": "stdout",
     "output_type": "stream",
     "text": [
      "Model: \"sequential\"\n",
      "_________________________________________________________________\n",
      " Layer (type)                Output Shape              Param #   \n",
      "=================================================================\n",
      " conv2d (Conv2D)             (None, 28, 28, 64)        3200      \n",
      "                                                                 \n",
      " max_pooling2d (MaxPooling2D  (None, 14, 14, 64)       0         \n",
      " )                                                               \n",
      "                                                                 \n",
      " conv2d_1 (Conv2D)           (None, 14, 14, 128)       73856     \n",
      "                                                                 \n",
      " conv2d_2 (Conv2D)           (None, 14, 14, 128)       147584    \n",
      "                                                                 \n",
      " max_pooling2d_1 (MaxPooling  (None, 7, 7, 128)        0         \n",
      " 2D)                                                             \n",
      "                                                                 \n",
      " conv2d_3 (Conv2D)           (None, 7, 7, 256)         295168    \n",
      "                                                                 \n",
      " conv2d_4 (Conv2D)           (None, 7, 7, 256)         590080    \n",
      "                                                                 \n",
      " max_pooling2d_2 (MaxPooling  (None, 3, 3, 256)        0         \n",
      " 2D)                                                             \n",
      "                                                                 \n",
      " flatten (Flatten)           (None, 2304)              0         \n",
      "                                                                 \n",
      " dense (Dense)               (None, 128)               295040    \n",
      "                                                                 \n",
      " dropout (Dropout)           (None, 128)               0         \n",
      "                                                                 \n",
      " dense_1 (Dense)             (None, 64)                8256      \n",
      "                                                                 \n",
      " dropout_1 (Dropout)         (None, 64)                0         \n",
      "                                                                 \n",
      " NewOutput (Dense)           (None, 10)                650       \n",
      "                                                                 \n",
      "=================================================================\n",
      "Total params: 1,413,834\n",
      "Trainable params: 303,946\n",
      "Non-trainable params: 1,109,888\n",
      "_________________________________________________________________\n"
     ]
    }
   ],
   "source": [
    "model_transfer.summary()"
   ]
  },
  {
   "cell_type": "code",
   "execution_count": 25,
   "id": "final-daughter",
   "metadata": {},
   "outputs": [
    {
     "name": "stdout",
     "output_type": "stream",
     "text": [
      "Epoch 1/5\n"
     ]
    },
    {
     "name": "stderr",
     "output_type": "stream",
     "text": [
      "2023-03-23 13:42:06.371836: W tensorflow/tsl/platform/profile_utils/cpu_utils.cc:128] Failed to get CPU frequency: 0 Hz\n"
     ]
    },
    {
     "name": "stdout",
     "output_type": "stream",
     "text": [
      "500/500 [==============================] - 10s 19ms/step - loss: 1.0249 - accuracy: 0.6822 - val_loss: 0.2583 - val_accuracy: 0.9202\n",
      "Epoch 2/5\n",
      "500/500 [==============================] - 10s 19ms/step - loss: 0.3409 - accuracy: 0.8936 - val_loss: 0.1835 - val_accuracy: 0.9425\n",
      "Epoch 3/5\n",
      "500/500 [==============================] - 10s 19ms/step - loss: 0.2485 - accuracy: 0.9221 - val_loss: 0.1694 - val_accuracy: 0.9455\n",
      "Epoch 4/5\n",
      "500/500 [==============================] - 10s 19ms/step - loss: 0.1917 - accuracy: 0.9404 - val_loss: 0.1513 - val_accuracy: 0.9515\n",
      "Epoch 5/5\n",
      "500/500 [==============================] - 10s 19ms/step - loss: 0.1671 - accuracy: 0.9489 - val_loss: 0.1418 - val_accuracy: 0.9550\n"
     ]
    }
   ],
   "source": [
    "# Fit the model\n",
    "# This model takes a while to fit\n",
    "X_train = X_train.reshape(*X_train.shape, 1)\n",
    "X_valid = X_valid.reshape(*X_valid.shape, 1)\n",
    "\n",
    "history = model_transfer.fit(X_train, y_train, epochs=5, batch_size=32,\n",
    "                         validation_data=(X_valid, y_valid))"
   ]
  },
  {
   "cell_type": "code",
   "execution_count": 26,
   "id": "b1625881-423a-4e6d-8a08-9a88debac24e",
   "metadata": {},
   "outputs": [
    {
     "data": {
      "image/png": "[encoded data removed]",
      "text/plain": [
       "<Figure size 800x500 with 1 Axes>"
      ]
     },
     "metadata": {},
     "output_type": "display_data"
    }
   ],
   "source": [
    "# Chart the learning process\n",
    "pd.DataFrame(history.history).plot(figsize=(8, 5))\n",
    "plt.grid(True)\n",
    "plt.gca().set_ylim(0, 1)\n",
    "plt.show()"
   ]
  },
  {
   "cell_type": "code",
   "execution_count": 32,
   "id": "nominated-steering",
   "metadata": {},
   "outputs": [
    {
     "name": "stdout",
     "output_type": "stream",
     "text": [
      "313/313 [==============================] - 5s 15ms/step - loss: 0.1411 - accuracy: 0.9542\n"
     ]
    },
    {
     "data": {
      "text/plain": [
       "[0.14105896651744843, 0.954200029373169]"
      ]
     },
     "execution_count": 32,
     "metadata": {},
     "output_type": "execute_result"
    }
   ],
   "source": [
    "# Evaluate on the test data\n",
    "# Note that this model outperforms the dense model we examined previously\n",
    "X_test = X_test.reshape(*X_test.shape, 1)\n",
    "model_transfer.evaluate(X_test, y_test)"
   ]
  },
  {
   "cell_type": "markdown",
   "id": "cb50c9ed-945b-407f-9d72-55278defe942",
   "metadata": {},
   "source": [
    "## Exercise\n",
    "\n",
    "Compare the transfer learning process to that for building an MNIST digit classifier from scratch. Is transfer learning useful in this context?"
   ]
  },
  {
   "cell_type": "code",
   "execution_count": null,
   "id": "71b8b573-fece-4150-8649-523ee7c3780c",
   "metadata": {},
   "outputs": [],
   "source": []
  }
 ],
 "metadata": {
  "kernelspec": {
   "display_name": "Python 3 (ipykernel)",
   "language": "python",
   "name": "python3"
  },
  "language_info": {
   "codemirror_mode": {
    "name": "ipython",
    "version": 3
   },
   "file_extension": ".py",
   "mimetype": "text/x-python",
   "name": "python",
   "nbconvert_exporter": "python",
   "pygments_lexer": "ipython3",
   "version": "3.10.10"
  }
 },
 "nbformat": 4,
 "nbformat_minor": 5
}
